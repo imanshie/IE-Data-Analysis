{
 "cells": [
  {
   "cell_type": "markdown",
   "metadata": {},
   "source": [
    "### Import the needed packages and define some functions and static variables "
   ]
  },
  {
   "cell_type": "code",
   "execution_count": 1,
   "metadata": {},
   "outputs": [],
   "source": [
    "import pandas as pd\n",
    "import matplotlib.pyplot as plt\n",
    "import seaborn as sns\n",
    "from datetime import datetime\n",
    "from kmodes.kprototypes import KPrototypes\n",
    "from sklearn.preprocessing import StandardScaler\n",
    "\n",
    "repositoryLink = r'https://raw.githubusercontent.com/prof-apartida/data-exercises/main/'\n",
    "\n",
    "def CSVToPandasDataFrame(pathFileName, delimiter, low_memory=False):\n",
    "    data = pd.read_csv(pathFileName, sep=delimiter, low_memory=low_memory)\n",
    "    return pd.DataFrame(data)"
   ]
  },
  {
   "cell_type": "markdown",
   "metadata": {},
   "source": [
    "### Reading HR dataset from GitHub repository "
   ]
  },
  {
   "cell_type": "code",
   "execution_count": 2,
   "metadata": {},
   "outputs": [
    {
     "data": {
      "text/html": [
       "<div>\n",
       "<style scoped>\n",
       "    .dataframe tbody tr th:only-of-type {\n",
       "        vertical-align: middle;\n",
       "    }\n",
       "\n",
       "    .dataframe tbody tr th {\n",
       "        vertical-align: top;\n",
       "    }\n",
       "\n",
       "    .dataframe thead th {\n",
       "        text-align: right;\n",
       "    }\n",
       "</style>\n",
       "<table border=\"1\" class=\"dataframe\">\n",
       "  <thead>\n",
       "    <tr style=\"text-align: right;\">\n",
       "      <th></th>\n",
       "      <th>Employee_Name</th>\n",
       "      <th>EmpID</th>\n",
       "      <th>MarriedID</th>\n",
       "      <th>MaritalStatusID</th>\n",
       "      <th>GenderID</th>\n",
       "      <th>EmpStatusID</th>\n",
       "      <th>DeptID</th>\n",
       "      <th>PerfScoreID</th>\n",
       "      <th>FromDiversityJobFairID</th>\n",
       "      <th>Salary</th>\n",
       "      <th>...</th>\n",
       "      <th>ManagerName</th>\n",
       "      <th>ManagerID</th>\n",
       "      <th>RecruitmentSource</th>\n",
       "      <th>PerformanceScore</th>\n",
       "      <th>EngagementSurvey</th>\n",
       "      <th>EmpSatisfaction</th>\n",
       "      <th>SpecialProjectsCount</th>\n",
       "      <th>LastPerformanceReview_Date</th>\n",
       "      <th>DaysLateLast30</th>\n",
       "      <th>Absences</th>\n",
       "    </tr>\n",
       "  </thead>\n",
       "  <tbody>\n",
       "    <tr>\n",
       "      <th>0</th>\n",
       "      <td>Adinolfi, Wilson  K</td>\n",
       "      <td>10026</td>\n",
       "      <td>0</td>\n",
       "      <td>0</td>\n",
       "      <td>1</td>\n",
       "      <td>1</td>\n",
       "      <td>5</td>\n",
       "      <td>4</td>\n",
       "      <td>0</td>\n",
       "      <td>62506</td>\n",
       "      <td>...</td>\n",
       "      <td>Michael Albert</td>\n",
       "      <td>22.0</td>\n",
       "      <td>LinkedIn</td>\n",
       "      <td>Exceeds</td>\n",
       "      <td>4.60</td>\n",
       "      <td>5</td>\n",
       "      <td>0</td>\n",
       "      <td>1/17/2019</td>\n",
       "      <td>0</td>\n",
       "      <td>1</td>\n",
       "    </tr>\n",
       "    <tr>\n",
       "      <th>1</th>\n",
       "      <td>Ait Sidi, Karthikeyan</td>\n",
       "      <td>10084</td>\n",
       "      <td>1</td>\n",
       "      <td>1</td>\n",
       "      <td>1</td>\n",
       "      <td>5</td>\n",
       "      <td>3</td>\n",
       "      <td>3</td>\n",
       "      <td>0</td>\n",
       "      <td>104437</td>\n",
       "      <td>...</td>\n",
       "      <td>Simon Roup</td>\n",
       "      <td>4.0</td>\n",
       "      <td>Indeed</td>\n",
       "      <td>Fully Meets</td>\n",
       "      <td>4.96</td>\n",
       "      <td>3</td>\n",
       "      <td>6</td>\n",
       "      <td>2/24/2016</td>\n",
       "      <td>0</td>\n",
       "      <td>17</td>\n",
       "    </tr>\n",
       "    <tr>\n",
       "      <th>2</th>\n",
       "      <td>Akinkuolie, Sarah</td>\n",
       "      <td>10196</td>\n",
       "      <td>1</td>\n",
       "      <td>1</td>\n",
       "      <td>0</td>\n",
       "      <td>5</td>\n",
       "      <td>5</td>\n",
       "      <td>3</td>\n",
       "      <td>0</td>\n",
       "      <td>64955</td>\n",
       "      <td>...</td>\n",
       "      <td>Kissy Sullivan</td>\n",
       "      <td>20.0</td>\n",
       "      <td>LinkedIn</td>\n",
       "      <td>Fully Meets</td>\n",
       "      <td>3.02</td>\n",
       "      <td>3</td>\n",
       "      <td>0</td>\n",
       "      <td>5/15/2012</td>\n",
       "      <td>0</td>\n",
       "      <td>3</td>\n",
       "    </tr>\n",
       "    <tr>\n",
       "      <th>3</th>\n",
       "      <td>Alagbe,Trina</td>\n",
       "      <td>10088</td>\n",
       "      <td>1</td>\n",
       "      <td>1</td>\n",
       "      <td>0</td>\n",
       "      <td>1</td>\n",
       "      <td>5</td>\n",
       "      <td>3</td>\n",
       "      <td>0</td>\n",
       "      <td>64991</td>\n",
       "      <td>...</td>\n",
       "      <td>Elijiah Gray</td>\n",
       "      <td>16.0</td>\n",
       "      <td>Indeed</td>\n",
       "      <td>Fully Meets</td>\n",
       "      <td>4.84</td>\n",
       "      <td>5</td>\n",
       "      <td>0</td>\n",
       "      <td>1/3/2019</td>\n",
       "      <td>0</td>\n",
       "      <td>15</td>\n",
       "    </tr>\n",
       "    <tr>\n",
       "      <th>4</th>\n",
       "      <td>Anderson, Carol</td>\n",
       "      <td>10069</td>\n",
       "      <td>0</td>\n",
       "      <td>2</td>\n",
       "      <td>0</td>\n",
       "      <td>5</td>\n",
       "      <td>5</td>\n",
       "      <td>3</td>\n",
       "      <td>0</td>\n",
       "      <td>50825</td>\n",
       "      <td>...</td>\n",
       "      <td>Webster Butler</td>\n",
       "      <td>39.0</td>\n",
       "      <td>Google Search</td>\n",
       "      <td>Fully Meets</td>\n",
       "      <td>5.00</td>\n",
       "      <td>4</td>\n",
       "      <td>0</td>\n",
       "      <td>2/1/2016</td>\n",
       "      <td>0</td>\n",
       "      <td>2</td>\n",
       "    </tr>\n",
       "    <tr>\n",
       "      <th>...</th>\n",
       "      <td>...</td>\n",
       "      <td>...</td>\n",
       "      <td>...</td>\n",
       "      <td>...</td>\n",
       "      <td>...</td>\n",
       "      <td>...</td>\n",
       "      <td>...</td>\n",
       "      <td>...</td>\n",
       "      <td>...</td>\n",
       "      <td>...</td>\n",
       "      <td>...</td>\n",
       "      <td>...</td>\n",
       "      <td>...</td>\n",
       "      <td>...</td>\n",
       "      <td>...</td>\n",
       "      <td>...</td>\n",
       "      <td>...</td>\n",
       "      <td>...</td>\n",
       "      <td>...</td>\n",
       "      <td>...</td>\n",
       "      <td>...</td>\n",
       "    </tr>\n",
       "    <tr>\n",
       "      <th>306</th>\n",
       "      <td>Woodson, Jason</td>\n",
       "      <td>10135</td>\n",
       "      <td>0</td>\n",
       "      <td>0</td>\n",
       "      <td>1</td>\n",
       "      <td>1</td>\n",
       "      <td>5</td>\n",
       "      <td>3</td>\n",
       "      <td>0</td>\n",
       "      <td>65893</td>\n",
       "      <td>...</td>\n",
       "      <td>Kissy Sullivan</td>\n",
       "      <td>20.0</td>\n",
       "      <td>LinkedIn</td>\n",
       "      <td>Fully Meets</td>\n",
       "      <td>4.07</td>\n",
       "      <td>4</td>\n",
       "      <td>0</td>\n",
       "      <td>2/28/2019</td>\n",
       "      <td>0</td>\n",
       "      <td>13</td>\n",
       "    </tr>\n",
       "    <tr>\n",
       "      <th>307</th>\n",
       "      <td>Ybarra, Catherine</td>\n",
       "      <td>10301</td>\n",
       "      <td>0</td>\n",
       "      <td>0</td>\n",
       "      <td>0</td>\n",
       "      <td>5</td>\n",
       "      <td>5</td>\n",
       "      <td>1</td>\n",
       "      <td>0</td>\n",
       "      <td>48513</td>\n",
       "      <td>...</td>\n",
       "      <td>Brannon Miller</td>\n",
       "      <td>12.0</td>\n",
       "      <td>Google Search</td>\n",
       "      <td>PIP</td>\n",
       "      <td>3.20</td>\n",
       "      <td>2</td>\n",
       "      <td>0</td>\n",
       "      <td>9/2/2015</td>\n",
       "      <td>5</td>\n",
       "      <td>4</td>\n",
       "    </tr>\n",
       "    <tr>\n",
       "      <th>308</th>\n",
       "      <td>Zamora, Jennifer</td>\n",
       "      <td>10010</td>\n",
       "      <td>0</td>\n",
       "      <td>0</td>\n",
       "      <td>0</td>\n",
       "      <td>1</td>\n",
       "      <td>3</td>\n",
       "      <td>4</td>\n",
       "      <td>0</td>\n",
       "      <td>220450</td>\n",
       "      <td>...</td>\n",
       "      <td>Janet King</td>\n",
       "      <td>2.0</td>\n",
       "      <td>Employee Referral</td>\n",
       "      <td>Exceeds</td>\n",
       "      <td>4.60</td>\n",
       "      <td>5</td>\n",
       "      <td>6</td>\n",
       "      <td>2/21/2019</td>\n",
       "      <td>0</td>\n",
       "      <td>16</td>\n",
       "    </tr>\n",
       "    <tr>\n",
       "      <th>309</th>\n",
       "      <td>Zhou, Julia</td>\n",
       "      <td>10043</td>\n",
       "      <td>0</td>\n",
       "      <td>0</td>\n",
       "      <td>0</td>\n",
       "      <td>1</td>\n",
       "      <td>3</td>\n",
       "      <td>3</td>\n",
       "      <td>0</td>\n",
       "      <td>89292</td>\n",
       "      <td>...</td>\n",
       "      <td>Simon Roup</td>\n",
       "      <td>4.0</td>\n",
       "      <td>Employee Referral</td>\n",
       "      <td>Fully Meets</td>\n",
       "      <td>5.00</td>\n",
       "      <td>3</td>\n",
       "      <td>5</td>\n",
       "      <td>2/1/2019</td>\n",
       "      <td>0</td>\n",
       "      <td>11</td>\n",
       "    </tr>\n",
       "    <tr>\n",
       "      <th>310</th>\n",
       "      <td>Zima, Colleen</td>\n",
       "      <td>10271</td>\n",
       "      <td>0</td>\n",
       "      <td>4</td>\n",
       "      <td>0</td>\n",
       "      <td>1</td>\n",
       "      <td>5</td>\n",
       "      <td>3</td>\n",
       "      <td>0</td>\n",
       "      <td>45046</td>\n",
       "      <td>...</td>\n",
       "      <td>David Stanley</td>\n",
       "      <td>14.0</td>\n",
       "      <td>LinkedIn</td>\n",
       "      <td>Fully Meets</td>\n",
       "      <td>4.50</td>\n",
       "      <td>5</td>\n",
       "      <td>0</td>\n",
       "      <td>1/30/2019</td>\n",
       "      <td>0</td>\n",
       "      <td>2</td>\n",
       "    </tr>\n",
       "  </tbody>\n",
       "</table>\n",
       "<p>311 rows × 36 columns</p>\n",
       "</div>"
      ],
      "text/plain": [
       "                Employee_Name  EmpID  MarriedID  MaritalStatusID  GenderID  \\\n",
       "0         Adinolfi, Wilson  K  10026          0                0         1   \n",
       "1    Ait Sidi, Karthikeyan     10084          1                1         1   \n",
       "2           Akinkuolie, Sarah  10196          1                1         0   \n",
       "3                Alagbe,Trina  10088          1                1         0   \n",
       "4            Anderson, Carol   10069          0                2         0   \n",
       "..                        ...    ...        ...              ...       ...   \n",
       "306            Woodson, Jason  10135          0                0         1   \n",
       "307        Ybarra, Catherine   10301          0                0         0   \n",
       "308          Zamora, Jennifer  10010          0                0         0   \n",
       "309               Zhou, Julia  10043          0                0         0   \n",
       "310             Zima, Colleen  10271          0                4         0   \n",
       "\n",
       "     EmpStatusID  DeptID  PerfScoreID  FromDiversityJobFairID  Salary  ...  \\\n",
       "0              1       5            4                       0   62506  ...   \n",
       "1              5       3            3                       0  104437  ...   \n",
       "2              5       5            3                       0   64955  ...   \n",
       "3              1       5            3                       0   64991  ...   \n",
       "4              5       5            3                       0   50825  ...   \n",
       "..           ...     ...          ...                     ...     ...  ...   \n",
       "306            1       5            3                       0   65893  ...   \n",
       "307            5       5            1                       0   48513  ...   \n",
       "308            1       3            4                       0  220450  ...   \n",
       "309            1       3            3                       0   89292  ...   \n",
       "310            1       5            3                       0   45046  ...   \n",
       "\n",
       "        ManagerName  ManagerID  RecruitmentSource PerformanceScore  \\\n",
       "0    Michael Albert       22.0           LinkedIn          Exceeds   \n",
       "1        Simon Roup        4.0             Indeed      Fully Meets   \n",
       "2    Kissy Sullivan       20.0           LinkedIn      Fully Meets   \n",
       "3      Elijiah Gray       16.0             Indeed      Fully Meets   \n",
       "4    Webster Butler       39.0      Google Search      Fully Meets   \n",
       "..              ...        ...                ...              ...   \n",
       "306  Kissy Sullivan       20.0           LinkedIn      Fully Meets   \n",
       "307  Brannon Miller       12.0      Google Search              PIP   \n",
       "308      Janet King        2.0  Employee Referral          Exceeds   \n",
       "309      Simon Roup        4.0  Employee Referral      Fully Meets   \n",
       "310   David Stanley       14.0           LinkedIn      Fully Meets   \n",
       "\n",
       "     EngagementSurvey EmpSatisfaction SpecialProjectsCount  \\\n",
       "0                4.60               5                    0   \n",
       "1                4.96               3                    6   \n",
       "2                3.02               3                    0   \n",
       "3                4.84               5                    0   \n",
       "4                5.00               4                    0   \n",
       "..                ...             ...                  ...   \n",
       "306              4.07               4                    0   \n",
       "307              3.20               2                    0   \n",
       "308              4.60               5                    6   \n",
       "309              5.00               3                    5   \n",
       "310              4.50               5                    0   \n",
       "\n",
       "    LastPerformanceReview_Date DaysLateLast30 Absences  \n",
       "0                    1/17/2019              0        1  \n",
       "1                    2/24/2016              0       17  \n",
       "2                    5/15/2012              0        3  \n",
       "3                     1/3/2019              0       15  \n",
       "4                     2/1/2016              0        2  \n",
       "..                         ...            ...      ...  \n",
       "306                  2/28/2019              0       13  \n",
       "307                   9/2/2015              5        4  \n",
       "308                  2/21/2019              0       16  \n",
       "309                   2/1/2019              0       11  \n",
       "310                  1/30/2019              0        2  \n",
       "\n",
       "[311 rows x 36 columns]"
      ]
     },
     "execution_count": 2,
     "metadata": {},
     "output_type": "execute_result"
    }
   ],
   "source": [
    "fileName = 'HR_people_analytics.csv'\n",
    "HRData = CSVToPandasDataFrame(\n",
    "    pathFileName = repositoryLink + fileName, \n",
    "    delimiter=','\n",
    ")\n",
    "\n",
    "HRData"
   ]
  },
  {
   "cell_type": "code",
   "execution_count": 3,
   "metadata": {},
   "outputs": [
    {
     "data": {
      "text/plain": [
       "Employee_Name                   0\n",
       "EmpID                           0\n",
       "MarriedID                       0\n",
       "MaritalStatusID                 0\n",
       "GenderID                        0\n",
       "EmpStatusID                     0\n",
       "DeptID                          0\n",
       "PerfScoreID                     0\n",
       "FromDiversityJobFairID          0\n",
       "Salary                          0\n",
       "Termd                           0\n",
       "PositionID                      0\n",
       "Position                        0\n",
       "State                           0\n",
       "Zip                             0\n",
       "DOB                             0\n",
       "Sex                             0\n",
       "MaritalDesc                     0\n",
       "CitizenDesc                     0\n",
       "HispanicLatino                  0\n",
       "RaceDesc                        0\n",
       "DateofHire                      0\n",
       "DateofTermination             207\n",
       "TermReason                      0\n",
       "EmploymentStatus                0\n",
       "Department                      0\n",
       "ManagerName                     0\n",
       "ManagerID                       8\n",
       "RecruitmentSource               0\n",
       "PerformanceScore                0\n",
       "EngagementSurvey                0\n",
       "EmpSatisfaction                 0\n",
       "SpecialProjectsCount            0\n",
       "LastPerformanceReview_Date      0\n",
       "DaysLateLast30                  0\n",
       "Absences                        0\n",
       "dtype: int64"
      ]
     },
     "execution_count": 3,
     "metadata": {},
     "output_type": "execute_result"
    }
   ],
   "source": [
    "HRData.isna().sum()"
   ]
  },
  {
   "cell_type": "code",
   "execution_count": 4,
   "metadata": {},
   "outputs": [
    {
     "data": {
      "text/plain": [
       "False"
      ]
     },
     "execution_count": 4,
     "metadata": {},
     "output_type": "execute_result"
    }
   ],
   "source": [
    "HRData.duplicated().any()"
   ]
  },
  {
   "cell_type": "markdown",
   "metadata": {},
   "source": [
    "### Drop any columns that refer for uniqueness"
   ]
  },
  {
   "cell_type": "code",
   "execution_count": 5,
   "metadata": {},
   "outputs": [],
   "source": [
    "HRData.drop(\n",
    "[\n",
    "    'Employee_Name', \n",
    "    'EmpID', \n",
    "    'Zip', \n",
    "    'ManagerName', \n",
    "    'ManagerID'\n",
    "], axis=1, inplace=True)"
   ]
  },
  {
   "cell_type": "markdown",
   "metadata": {},
   "source": [
    "### Drop any duplicated columns"
   ]
  },
  {
   "cell_type": "code",
   "execution_count": 6,
   "metadata": {},
   "outputs": [],
   "source": [
    "HRData.drop(\n",
    "[\n",
    "    'MaritalDesc', #MaritalStatusID\n",
    "    'MaritalStatusID', #related to MaritalStatusID\n",
    "    'Sex', #GenderID\n",
    "    'Position', #PositionID\n",
    "    'Department', #DeptID\n",
    "    'PerformanceScore', #PerfScoreID\n",
    "    'Termd', #related to EmploymentStatus\n",
    "    'FromDiversityJobFairID', #related to RecruitmentSource\n",
    "    'DateofTermination' #related to LastPerformanceReview_Date\n",
    "], axis=1, inplace=True)"
   ]
  },
  {
   "cell_type": "markdown",
   "metadata": {},
   "source": [
    "### Get age from *DOB* and drop *DOB*"
   ]
  },
  {
   "cell_type": "code",
   "execution_count": 7,
   "metadata": {},
   "outputs": [],
   "source": [
    "HRData['DOB'] = pd.to_datetime(HRData['DOB'], format='%m/%d/%y')\n",
    "HRData['Age'] = abs(2019 - HRData['DOB'].dt.year)\n",
    "HRData.drop(['DOB'], axis=1, inplace=True)"
   ]
  },
  {
   "cell_type": "markdown",
   "metadata": {},
   "source": [
    "### Get days of employment and drop *DateofHire* and *LastPerformanceReview_Date*"
   ]
  },
  {
   "cell_type": "code",
   "execution_count": 8,
   "metadata": {},
   "outputs": [],
   "source": [
    "HRData['DateofHire'] = pd.to_datetime(HRData['DateofHire'], format='%m/%d/%Y')\n",
    "HRData['LastPerformanceReview_Date'] = pd.to_datetime(HRData['LastPerformanceReview_Date'], format='%m/%d/%Y')\n",
    "HRData['EmploymentYears'] = HRData['LastPerformanceReview_Date'].dt.year - HRData['DateofHire'].dt.year \n",
    "HRData.drop(['DateofHire','LastPerformanceReview_Date'], axis=1, inplace=True)"
   ]
  },
  {
   "cell_type": "code",
   "execution_count": 9,
   "metadata": {},
   "outputs": [
    {
     "name": "stdout",
     "output_type": "stream",
     "text": [
      "<class 'pandas.core.frame.DataFrame'>\n",
      "RangeIndex: 311 entries, 0 to 310\n",
      "Data columns (total 21 columns):\n",
      " #   Column                Non-Null Count  Dtype  \n",
      "---  ------                --------------  -----  \n",
      " 0   MarriedID             311 non-null    int64  \n",
      " 1   GenderID              311 non-null    int64  \n",
      " 2   EmpStatusID           311 non-null    int64  \n",
      " 3   DeptID                311 non-null    int64  \n",
      " 4   PerfScoreID           311 non-null    int64  \n",
      " 5   Salary                311 non-null    int64  \n",
      " 6   PositionID            311 non-null    int64  \n",
      " 7   State                 311 non-null    object \n",
      " 8   CitizenDesc           311 non-null    object \n",
      " 9   HispanicLatino        311 non-null    object \n",
      " 10  RaceDesc              311 non-null    object \n",
      " 11  TermReason            311 non-null    object \n",
      " 12  EmploymentStatus      311 non-null    object \n",
      " 13  RecruitmentSource     311 non-null    object \n",
      " 14  EngagementSurvey      311 non-null    float64\n",
      " 15  EmpSatisfaction       311 non-null    int64  \n",
      " 16  SpecialProjectsCount  311 non-null    int64  \n",
      " 17  DaysLateLast30        311 non-null    int64  \n",
      " 18  Absences              311 non-null    int64  \n",
      " 19  Age                   311 non-null    int64  \n",
      " 20  EmploymentYears       311 non-null    int64  \n",
      "dtypes: float64(1), int64(13), object(7)\n",
      "memory usage: 51.1+ KB\n"
     ]
    }
   ],
   "source": [
    "HRData.info()"
   ]
  },
  {
   "cell_type": "markdown",
   "metadata": {},
   "source": [
    "###Todo --- Handle Outliers\n",
    "---"
   ]
  },
  {
   "cell_type": "code",
   "execution_count": 10,
   "metadata": {},
   "outputs": [
    {
     "data": {
      "image/png": "[encoded data removed]",
      "text/plain": [
       "<Figure size 500x500 with 2 Axes>"
      ]
     },
     "metadata": {},
     "output_type": "display_data"
    }
   ],
   "source": [
    "#Outliers detection with seaborn\n",
    "fig, axs = plt.subplots(2, figsize = (5,5))\n",
    "plt1 = sns.boxplot(HRData['Salary'], ax = axs[0])\n",
    "plt2 = sns.boxplot(HRData['Age'], ax = axs[1])\n",
    "plt.tight_layout()"
   ]
  },
  {
   "cell_type": "code",
   "execution_count": 11,
   "metadata": {},
   "outputs": [
    {
     "name": "stderr",
     "output_type": "stream",
     "text": [
      "C:\\Users\\iman.hadi\\AppData\\Local\\Temp\\ipykernel_15096\\3129233442.py:2: UserWarning: \n",
      "\n",
      "`distplot` is a deprecated function and will be removed in seaborn v0.14.0.\n",
      "\n",
      "Please adapt your code to use either `displot` (a figure-level function with\n",
      "similar flexibility) or `histplot` (an axes-level function for histograms).\n",
      "\n",
      "For a guide to updating your code to use the new functions, please see\n",
      "https://gist.github.com/mwaskom/de44147ed2974457ad6372750bbe5751\n",
      "\n",
      "  sns.distplot(HRData['Salary'])\n"
     ]
    },
    {
     "data": {
      "text/plain": [
       "<Axes: xlabel='Salary', ylabel='Density'>"
      ]
     },
     "execution_count": 11,
     "metadata": {},
     "output_type": "execute_result"
    },
    {
     "data": {
      "image/png": "[encoded data removed]",
      "text/plain": [
       "<Figure size 640x480 with 1 Axes>"
      ]
     },
     "metadata": {},
     "output_type": "display_data"
    }
   ],
   "source": [
    "#Distribution (histogram) of the dependent (or target) variable \n",
    "sns.distplot(HRData['Salary'])"
   ]
  },
  {
   "cell_type": "code",
   "execution_count": 12,
   "metadata": {},
   "outputs": [
    {
     "data": {
      "image/png": "[encoded data removed]",
      "text/plain": [
       "<Figure size 1200x400 with 3 Axes>"
      ]
     },
     "metadata": {},
     "output_type": "display_data"
    }
   ],
   "source": [
    "#Analyze correlation between variables\n",
    "sns.pairplot(HRData, x_vars=['Age', 'GenderID', 'MarriedID'], y_vars='Salary', height=4, aspect=1, kind='scatter')\n",
    "plt.show()"
   ]
  },
  {
   "cell_type": "code",
   "execution_count": 13,
   "metadata": {},
   "outputs": [
    {
     "name": "stderr",
     "output_type": "stream",
     "text": [
      "C:\\Users\\iman.hadi\\AppData\\Local\\Temp\\ipykernel_15096\\265414552.py:3: FutureWarning: The default value of numeric_only in DataFrame.corr is deprecated. In a future version, it will default to False. Select only valid columns or specify the value of numeric_only to silence this warning.\n",
      "  sns.heatmap(HRData.corr(), annot = True, cmap=\"Blues\")\n"
     ]
    },
    {
     "data": {
      "image/png": "[encoded data removed]",
      "text/plain": [
       "<Figure size 1200x800 with 2 Axes>"
      ]
     },
     "metadata": {},
     "output_type": "display_data"
    }
   ],
   "source": [
    "#Correlation heatmap\n",
    "plt.figure(figsize=(12, 8))\n",
    "sns.heatmap(HRData.corr(), annot = True, cmap=\"Blues\")\n",
    "plt.show()"
   ]
  },
  {
   "cell_type": "markdown",
   "metadata": {},
   "source": [
    "### Seprate the dataset into two types: *categorical* and *numerical*"
   ]
  },
  {
   "cell_type": "code",
   "execution_count": 23,
   "metadata": {},
   "outputs": [
    {
     "name": "stdout",
     "output_type": "stream",
     "text": [
      "['EngagementSurvey'] ['State', 'CitizenDesc', 'HispanicLatino', 'RaceDesc', 'TermReason', 'EmploymentStatus', 'RecruitmentSource']\n"
     ]
    }
   ],
   "source": [
    "numericalColumns = list(HRData.select_dtypes(include=['float64']).columns)\n",
    "\n",
    "categoricalColumns = list(HRData.select_dtypes(include=['object']).columns)\n",
    "categericalColumnIndexes = list(HRData.columns.get_indexer_for(categoricalColumns))\n",
    "\n",
    "print(numericalColumns, categoricalColumns)"
   ]
  },
  {
   "cell_type": "markdown",
   "metadata": {},
   "source": [
    "### Scale numbers so the extremes do not bias the result"
   ]
  },
  {
   "cell_type": "code",
   "execution_count": 24,
   "metadata": {},
   "outputs": [
    {
     "data": {
      "text/html": [
       "<div>\n",
       "<style scoped>\n",
       "    .dataframe tbody tr th:only-of-type {\n",
       "        vertical-align: middle;\n",
       "    }\n",
       "\n",
       "    .dataframe tbody tr th {\n",
       "        vertical-align: top;\n",
       "    }\n",
       "\n",
       "    .dataframe thead th {\n",
       "        text-align: right;\n",
       "    }\n",
       "</style>\n",
       "<table border=\"1\" class=\"dataframe\">\n",
       "  <thead>\n",
       "    <tr style=\"text-align: right;\">\n",
       "      <th></th>\n",
       "      <th>MarriedID</th>\n",
       "      <th>GenderID</th>\n",
       "      <th>EmpStatusID</th>\n",
       "      <th>DeptID</th>\n",
       "      <th>PerfScoreID</th>\n",
       "      <th>Salary</th>\n",
       "      <th>PositionID</th>\n",
       "      <th>State</th>\n",
       "      <th>CitizenDesc</th>\n",
       "      <th>HispanicLatino</th>\n",
       "      <th>...</th>\n",
       "      <th>TermReason</th>\n",
       "      <th>EmploymentStatus</th>\n",
       "      <th>RecruitmentSource</th>\n",
       "      <th>EngagementSurvey</th>\n",
       "      <th>EmpSatisfaction</th>\n",
       "      <th>SpecialProjectsCount</th>\n",
       "      <th>DaysLateLast30</th>\n",
       "      <th>Absences</th>\n",
       "      <th>Age</th>\n",
       "      <th>EmploymentYears</th>\n",
       "    </tr>\n",
       "  </thead>\n",
       "  <tbody>\n",
       "    <tr>\n",
       "      <th>0</th>\n",
       "      <td>0</td>\n",
       "      <td>1</td>\n",
       "      <td>1</td>\n",
       "      <td>5</td>\n",
       "      <td>4</td>\n",
       "      <td>62506</td>\n",
       "      <td>19</td>\n",
       "      <td>MA</td>\n",
       "      <td>US Citizen</td>\n",
       "      <td>No</td>\n",
       "      <td>...</td>\n",
       "      <td>N/A-StillEmployed</td>\n",
       "      <td>Active</td>\n",
       "      <td>LinkedIn</td>\n",
       "      <td>0.621302</td>\n",
       "      <td>5</td>\n",
       "      <td>0</td>\n",
       "      <td>0</td>\n",
       "      <td>1</td>\n",
       "      <td>36</td>\n",
       "      <td>8</td>\n",
       "    </tr>\n",
       "    <tr>\n",
       "      <th>1</th>\n",
       "      <td>1</td>\n",
       "      <td>1</td>\n",
       "      <td>5</td>\n",
       "      <td>3</td>\n",
       "      <td>3</td>\n",
       "      <td>104437</td>\n",
       "      <td>27</td>\n",
       "      <td>MA</td>\n",
       "      <td>US Citizen</td>\n",
       "      <td>No</td>\n",
       "      <td>...</td>\n",
       "      <td>career change</td>\n",
       "      <td>Voluntarily Terminated</td>\n",
       "      <td>Indeed</td>\n",
       "      <td>1.077769</td>\n",
       "      <td>3</td>\n",
       "      <td>6</td>\n",
       "      <td>0</td>\n",
       "      <td>17</td>\n",
       "      <td>44</td>\n",
       "      <td>1</td>\n",
       "    </tr>\n",
       "    <tr>\n",
       "      <th>2</th>\n",
       "      <td>1</td>\n",
       "      <td>0</td>\n",
       "      <td>5</td>\n",
       "      <td>5</td>\n",
       "      <td>3</td>\n",
       "      <td>64955</td>\n",
       "      <td>20</td>\n",
       "      <td>MA</td>\n",
       "      <td>US Citizen</td>\n",
       "      <td>No</td>\n",
       "      <td>...</td>\n",
       "      <td>hours</td>\n",
       "      <td>Voluntarily Terminated</td>\n",
       "      <td>LinkedIn</td>\n",
       "      <td>-1.382080</td>\n",
       "      <td>3</td>\n",
       "      <td>0</td>\n",
       "      <td>0</td>\n",
       "      <td>3</td>\n",
       "      <td>31</td>\n",
       "      <td>1</td>\n",
       "    </tr>\n",
       "    <tr>\n",
       "      <th>3</th>\n",
       "      <td>1</td>\n",
       "      <td>0</td>\n",
       "      <td>1</td>\n",
       "      <td>5</td>\n",
       "      <td>3</td>\n",
       "      <td>64991</td>\n",
       "      <td>19</td>\n",
       "      <td>MA</td>\n",
       "      <td>US Citizen</td>\n",
       "      <td>No</td>\n",
       "      <td>...</td>\n",
       "      <td>N/A-StillEmployed</td>\n",
       "      <td>Active</td>\n",
       "      <td>Indeed</td>\n",
       "      <td>0.925613</td>\n",
       "      <td>5</td>\n",
       "      <td>0</td>\n",
       "      <td>0</td>\n",
       "      <td>15</td>\n",
       "      <td>31</td>\n",
       "      <td>11</td>\n",
       "    </tr>\n",
       "    <tr>\n",
       "      <th>4</th>\n",
       "      <td>0</td>\n",
       "      <td>0</td>\n",
       "      <td>5</td>\n",
       "      <td>5</td>\n",
       "      <td>3</td>\n",
       "      <td>50825</td>\n",
       "      <td>19</td>\n",
       "      <td>MA</td>\n",
       "      <td>US Citizen</td>\n",
       "      <td>No</td>\n",
       "      <td>...</td>\n",
       "      <td>return to school</td>\n",
       "      <td>Voluntarily Terminated</td>\n",
       "      <td>Google Search</td>\n",
       "      <td>1.128487</td>\n",
       "      <td>4</td>\n",
       "      <td>0</td>\n",
       "      <td>0</td>\n",
       "      <td>2</td>\n",
       "      <td>30</td>\n",
       "      <td>5</td>\n",
       "    </tr>\n",
       "  </tbody>\n",
       "</table>\n",
       "<p>5 rows × 21 columns</p>\n",
       "</div>"
      ],
      "text/plain": [
       "   MarriedID  GenderID  EmpStatusID  DeptID  PerfScoreID  Salary  PositionID  \\\n",
       "0          0         1            1       5            4   62506          19   \n",
       "1          1         1            5       3            3  104437          27   \n",
       "2          1         0            5       5            3   64955          20   \n",
       "3          1         0            1       5            3   64991          19   \n",
       "4          0         0            5       5            3   50825          19   \n",
       "\n",
       "  State CitizenDesc HispanicLatino  ...         TermReason  \\\n",
       "0    MA  US Citizen             No  ...  N/A-StillEmployed   \n",
       "1    MA  US Citizen             No  ...      career change   \n",
       "2    MA  US Citizen             No  ...              hours   \n",
       "3    MA  US Citizen             No  ...  N/A-StillEmployed   \n",
       "4    MA  US Citizen             No  ...   return to school   \n",
       "\n",
       "         EmploymentStatus RecruitmentSource EngagementSurvey  EmpSatisfaction  \\\n",
       "0                  Active          LinkedIn         0.621302                5   \n",
       "1  Voluntarily Terminated            Indeed         1.077769                3   \n",
       "2  Voluntarily Terminated          LinkedIn        -1.382080                3   \n",
       "3                  Active            Indeed         0.925613                5   \n",
       "4  Voluntarily Terminated     Google Search         1.128487                4   \n",
       "\n",
       "   SpecialProjectsCount  DaysLateLast30  Absences  Age  EmploymentYears  \n",
       "0                     0               0         1   36                8  \n",
       "1                     6               0        17   44                1  \n",
       "2                     0               0         3   31                1  \n",
       "3                     0               0        15   31               11  \n",
       "4                     0               0         2   30                5  \n",
       "\n",
       "[5 rows x 21 columns]"
      ]
     },
     "execution_count": 24,
     "metadata": {},
     "output_type": "execute_result"
    }
   ],
   "source": [
    "df_scaled = HRData.copy()\n",
    "numcols = list(df_scaled.dtypes[df_scaled.dtypes == \"float64\"].index)\n",
    "\n",
    "scaler = StandardScaler()\n",
    "df_scaled[numcols] = scaler.fit_transform(df_scaled[numcols])\n",
    "\n",
    "df_scaled.head()"
   ]
  },
  {
   "cell_type": "code",
   "execution_count": 25,
   "metadata": {},
   "outputs": [
    {
     "data": {
      "text/html": [
       "<div>\n",
       "<style scoped>\n",
       "    .dataframe tbody tr th:only-of-type {\n",
       "        vertical-align: middle;\n",
       "    }\n",
       "\n",
       "    .dataframe tbody tr th {\n",
       "        vertical-align: top;\n",
       "    }\n",
       "\n",
       "    .dataframe thead th {\n",
       "        text-align: right;\n",
       "    }\n",
       "</style>\n",
       "<table border=\"1\" class=\"dataframe\">\n",
       "  <thead>\n",
       "    <tr style=\"text-align: right;\">\n",
       "      <th></th>\n",
       "      <th>MarriedID</th>\n",
       "      <th>GenderID</th>\n",
       "      <th>EmpStatusID</th>\n",
       "      <th>DeptID</th>\n",
       "      <th>PerfScoreID</th>\n",
       "      <th>Salary</th>\n",
       "      <th>PositionID</th>\n",
       "      <th>EngagementSurvey</th>\n",
       "      <th>EmpSatisfaction</th>\n",
       "      <th>SpecialProjectsCount</th>\n",
       "      <th>DaysLateLast30</th>\n",
       "      <th>Absences</th>\n",
       "      <th>Age</th>\n",
       "      <th>EmploymentYears</th>\n",
       "    </tr>\n",
       "  </thead>\n",
       "  <tbody>\n",
       "    <tr>\n",
       "      <th>count</th>\n",
       "      <td>311.000000</td>\n",
       "      <td>311.000000</td>\n",
       "      <td>311.000000</td>\n",
       "      <td>311.000000</td>\n",
       "      <td>311.000000</td>\n",
       "      <td>311.000000</td>\n",
       "      <td>311.000000</td>\n",
       "      <td>3.110000e+02</td>\n",
       "      <td>311.000000</td>\n",
       "      <td>311.000000</td>\n",
       "      <td>311.000000</td>\n",
       "      <td>311.000000</td>\n",
       "      <td>311.000000</td>\n",
       "      <td>311.000000</td>\n",
       "    </tr>\n",
       "    <tr>\n",
       "      <th>mean</th>\n",
       "      <td>0.398714</td>\n",
       "      <td>0.434084</td>\n",
       "      <td>2.392283</td>\n",
       "      <td>4.610932</td>\n",
       "      <td>2.977492</td>\n",
       "      <td>69020.684887</td>\n",
       "      <td>16.845659</td>\n",
       "      <td>-4.083907e-16</td>\n",
       "      <td>3.890675</td>\n",
       "      <td>1.218650</td>\n",
       "      <td>0.414791</td>\n",
       "      <td>10.237942</td>\n",
       "      <td>38.536977</td>\n",
       "      <td>4.881029</td>\n",
       "    </tr>\n",
       "    <tr>\n",
       "      <th>std</th>\n",
       "      <td>0.490423</td>\n",
       "      <td>0.496435</td>\n",
       "      <td>1.794383</td>\n",
       "      <td>1.083487</td>\n",
       "      <td>0.587072</td>\n",
       "      <td>25156.636930</td>\n",
       "      <td>6.223419</td>\n",
       "      <td>1.001612e+00</td>\n",
       "      <td>0.909241</td>\n",
       "      <td>2.349421</td>\n",
       "      <td>1.294519</td>\n",
       "      <td>5.852596</td>\n",
       "      <td>6.257209</td>\n",
       "      <td>2.339422</td>\n",
       "    </tr>\n",
       "    <tr>\n",
       "      <th>min</th>\n",
       "      <td>0.000000</td>\n",
       "      <td>0.000000</td>\n",
       "      <td>1.000000</td>\n",
       "      <td>1.000000</td>\n",
       "      <td>1.000000</td>\n",
       "      <td>45046.000000</td>\n",
       "      <td>1.000000</td>\n",
       "      <td>-3.791210e+00</td>\n",
       "      <td>1.000000</td>\n",
       "      <td>0.000000</td>\n",
       "      <td>0.000000</td>\n",
       "      <td>1.000000</td>\n",
       "      <td>27.000000</td>\n",
       "      <td>0.000000</td>\n",
       "    </tr>\n",
       "    <tr>\n",
       "      <th>25%</th>\n",
       "      <td>0.000000</td>\n",
       "      <td>0.000000</td>\n",
       "      <td>1.000000</td>\n",
       "      <td>5.000000</td>\n",
       "      <td>3.000000</td>\n",
       "      <td>55501.500000</td>\n",
       "      <td>18.000000</td>\n",
       "      <td>-5.325445e-01</td>\n",
       "      <td>3.000000</td>\n",
       "      <td>0.000000</td>\n",
       "      <td>0.000000</td>\n",
       "      <td>5.000000</td>\n",
       "      <td>33.000000</td>\n",
       "      <td>3.000000</td>\n",
       "    </tr>\n",
       "    <tr>\n",
       "      <th>50%</th>\n",
       "      <td>0.000000</td>\n",
       "      <td>0.000000</td>\n",
       "      <td>1.000000</td>\n",
       "      <td>5.000000</td>\n",
       "      <td>3.000000</td>\n",
       "      <td>62810.000000</td>\n",
       "      <td>19.000000</td>\n",
       "      <td>2.155537e-01</td>\n",
       "      <td>4.000000</td>\n",
       "      <td>0.000000</td>\n",
       "      <td>0.000000</td>\n",
       "      <td>10.000000</td>\n",
       "      <td>38.000000</td>\n",
       "      <td>5.000000</td>\n",
       "    </tr>\n",
       "    <tr>\n",
       "      <th>75%</th>\n",
       "      <td>1.000000</td>\n",
       "      <td>1.000000</td>\n",
       "      <td>5.000000</td>\n",
       "      <td>5.000000</td>\n",
       "      <td>3.000000</td>\n",
       "      <td>72036.000000</td>\n",
       "      <td>20.000000</td>\n",
       "      <td>7.480982e-01</td>\n",
       "      <td>5.000000</td>\n",
       "      <td>0.000000</td>\n",
       "      <td>0.000000</td>\n",
       "      <td>15.000000</td>\n",
       "      <td>44.000000</td>\n",
       "      <td>6.000000</td>\n",
       "    </tr>\n",
       "    <tr>\n",
       "      <th>max</th>\n",
       "      <td>1.000000</td>\n",
       "      <td>1.000000</td>\n",
       "      <td>5.000000</td>\n",
       "      <td>6.000000</td>\n",
       "      <td>4.000000</td>\n",
       "      <td>250000.000000</td>\n",
       "      <td>30.000000</td>\n",
       "      <td>1.128487e+00</td>\n",
       "      <td>5.000000</td>\n",
       "      <td>8.000000</td>\n",
       "      <td>6.000000</td>\n",
       "      <td>20.000000</td>\n",
       "      <td>50.000000</td>\n",
       "      <td>13.000000</td>\n",
       "    </tr>\n",
       "  </tbody>\n",
       "</table>\n",
       "</div>"
      ],
      "text/plain": [
       "        MarriedID    GenderID  EmpStatusID      DeptID  PerfScoreID  \\\n",
       "count  311.000000  311.000000   311.000000  311.000000   311.000000   \n",
       "mean     0.398714    0.434084     2.392283    4.610932     2.977492   \n",
       "std      0.490423    0.496435     1.794383    1.083487     0.587072   \n",
       "min      0.000000    0.000000     1.000000    1.000000     1.000000   \n",
       "25%      0.000000    0.000000     1.000000    5.000000     3.000000   \n",
       "50%      0.000000    0.000000     1.000000    5.000000     3.000000   \n",
       "75%      1.000000    1.000000     5.000000    5.000000     3.000000   \n",
       "max      1.000000    1.000000     5.000000    6.000000     4.000000   \n",
       "\n",
       "              Salary  PositionID  EngagementSurvey  EmpSatisfaction  \\\n",
       "count     311.000000  311.000000      3.110000e+02       311.000000   \n",
       "mean    69020.684887   16.845659     -4.083907e-16         3.890675   \n",
       "std     25156.636930    6.223419      1.001612e+00         0.909241   \n",
       "min     45046.000000    1.000000     -3.791210e+00         1.000000   \n",
       "25%     55501.500000   18.000000     -5.325445e-01         3.000000   \n",
       "50%     62810.000000   19.000000      2.155537e-01         4.000000   \n",
       "75%     72036.000000   20.000000      7.480982e-01         5.000000   \n",
       "max    250000.000000   30.000000      1.128487e+00         5.000000   \n",
       "\n",
       "       SpecialProjectsCount  DaysLateLast30    Absences         Age  \\\n",
       "count            311.000000      311.000000  311.000000  311.000000   \n",
       "mean               1.218650        0.414791   10.237942   38.536977   \n",
       "std                2.349421        1.294519    5.852596    6.257209   \n",
       "min                0.000000        0.000000    1.000000   27.000000   \n",
       "25%                0.000000        0.000000    5.000000   33.000000   \n",
       "50%                0.000000        0.000000   10.000000   38.000000   \n",
       "75%                0.000000        0.000000   15.000000   44.000000   \n",
       "max                8.000000        6.000000   20.000000   50.000000   \n",
       "\n",
       "       EmploymentYears  \n",
       "count       311.000000  \n",
       "mean          4.881029  \n",
       "std           2.339422  \n",
       "min           0.000000  \n",
       "25%           3.000000  \n",
       "50%           5.000000  \n",
       "75%           6.000000  \n",
       "max          13.000000  "
      ]
     },
     "execution_count": 25,
     "metadata": {},
     "output_type": "execute_result"
    }
   ],
   "source": [
    "df_scaled.describe()"
   ]
  },
  {
   "cell_type": "markdown",
   "metadata": {},
   "source": [
    "### Utilizing the Elbow method to determine the optimal number of clusters (k) to be used in k-prototype"
   ]
  },
  {
   "cell_type": "code",
   "execution_count": 26,
   "metadata": {},
   "outputs": [
    {
     "data": {
      "image/png": "[encoded data removed]",
      "text/plain": [
       "<Figure size 640x480 with 1 Axes>"
      ]
     },
     "metadata": {},
     "output_type": "display_data"
    }
   ],
   "source": [
    "cost=[]\n",
    "K = range(1,10)\n",
    "for num_clusters in list(K):\n",
    "    kproto = KPrototypes(n_clusters=num_clusters, init='random', n_init = 1, n_jobs=4)\n",
    "    kproto.fit_predict(df_scaled, categorical=categericalColumnIndexes)\n",
    "    cost.append(kproto.cost_)\n",
    "\n",
    "plt.plot(K, cost, 'bx-')\n",
    "plt.xlabel('No. of clusters')\n",
    "plt.ylabel('Cost')\n",
    "plt.title('Elbow Method For Optimal k')\n",
    "plt.show()"
   ]
  },
  {
   "cell_type": "markdown",
   "metadata": {},
   "source": [
    "### Cluster the dataset into three groups by using *K-Prototype* unsupervised algorithm"
   ]
  },
  {
   "cell_type": "code",
   "execution_count": 27,
   "metadata": {},
   "outputs": [
    {
     "data": {
      "text/html": [
       "<div>\n",
       "<style scoped>\n",
       "    .dataframe tbody tr th:only-of-type {\n",
       "        vertical-align: middle;\n",
       "    }\n",
       "\n",
       "    .dataframe tbody tr th {\n",
       "        vertical-align: top;\n",
       "    }\n",
       "\n",
       "    .dataframe thead th {\n",
       "        text-align: right;\n",
       "    }\n",
       "</style>\n",
       "<table border=\"1\" class=\"dataframe\">\n",
       "  <thead>\n",
       "    <tr style=\"text-align: right;\">\n",
       "      <th></th>\n",
       "      <th>MarriedID</th>\n",
       "      <th>GenderID</th>\n",
       "      <th>EmpStatusID</th>\n",
       "      <th>DeptID</th>\n",
       "      <th>PerfScoreID</th>\n",
       "      <th>Salary</th>\n",
       "      <th>PositionID</th>\n",
       "      <th>State</th>\n",
       "      <th>CitizenDesc</th>\n",
       "      <th>HispanicLatino</th>\n",
       "      <th>...</th>\n",
       "      <th>EmploymentStatus</th>\n",
       "      <th>RecruitmentSource</th>\n",
       "      <th>EngagementSurvey</th>\n",
       "      <th>EmpSatisfaction</th>\n",
       "      <th>SpecialProjectsCount</th>\n",
       "      <th>DaysLateLast30</th>\n",
       "      <th>Absences</th>\n",
       "      <th>Age</th>\n",
       "      <th>EmploymentYears</th>\n",
       "      <th>Cluster</th>\n",
       "    </tr>\n",
       "  </thead>\n",
       "  <tbody>\n",
       "    <tr>\n",
       "      <th>0</th>\n",
       "      <td>0</td>\n",
       "      <td>1</td>\n",
       "      <td>1</td>\n",
       "      <td>5</td>\n",
       "      <td>4</td>\n",
       "      <td>62506</td>\n",
       "      <td>19</td>\n",
       "      <td>MA</td>\n",
       "      <td>US Citizen</td>\n",
       "      <td>No</td>\n",
       "      <td>...</td>\n",
       "      <td>Active</td>\n",
       "      <td>LinkedIn</td>\n",
       "      <td>0.621302</td>\n",
       "      <td>5</td>\n",
       "      <td>0</td>\n",
       "      <td>0</td>\n",
       "      <td>1</td>\n",
       "      <td>36</td>\n",
       "      <td>8</td>\n",
       "      <td>2</td>\n",
       "    </tr>\n",
       "    <tr>\n",
       "      <th>1</th>\n",
       "      <td>1</td>\n",
       "      <td>1</td>\n",
       "      <td>5</td>\n",
       "      <td>3</td>\n",
       "      <td>3</td>\n",
       "      <td>104437</td>\n",
       "      <td>27</td>\n",
       "      <td>MA</td>\n",
       "      <td>US Citizen</td>\n",
       "      <td>No</td>\n",
       "      <td>...</td>\n",
       "      <td>Voluntarily Terminated</td>\n",
       "      <td>Indeed</td>\n",
       "      <td>1.077769</td>\n",
       "      <td>3</td>\n",
       "      <td>6</td>\n",
       "      <td>0</td>\n",
       "      <td>17</td>\n",
       "      <td>44</td>\n",
       "      <td>1</td>\n",
       "      <td>0</td>\n",
       "    </tr>\n",
       "    <tr>\n",
       "      <th>2</th>\n",
       "      <td>1</td>\n",
       "      <td>0</td>\n",
       "      <td>5</td>\n",
       "      <td>5</td>\n",
       "      <td>3</td>\n",
       "      <td>64955</td>\n",
       "      <td>20</td>\n",
       "      <td>MA</td>\n",
       "      <td>US Citizen</td>\n",
       "      <td>No</td>\n",
       "      <td>...</td>\n",
       "      <td>Voluntarily Terminated</td>\n",
       "      <td>LinkedIn</td>\n",
       "      <td>-1.382080</td>\n",
       "      <td>3</td>\n",
       "      <td>0</td>\n",
       "      <td>0</td>\n",
       "      <td>3</td>\n",
       "      <td>31</td>\n",
       "      <td>1</td>\n",
       "      <td>2</td>\n",
       "    </tr>\n",
       "    <tr>\n",
       "      <th>3</th>\n",
       "      <td>1</td>\n",
       "      <td>0</td>\n",
       "      <td>1</td>\n",
       "      <td>5</td>\n",
       "      <td>3</td>\n",
       "      <td>64991</td>\n",
       "      <td>19</td>\n",
       "      <td>MA</td>\n",
       "      <td>US Citizen</td>\n",
       "      <td>No</td>\n",
       "      <td>...</td>\n",
       "      <td>Active</td>\n",
       "      <td>Indeed</td>\n",
       "      <td>0.925613</td>\n",
       "      <td>5</td>\n",
       "      <td>0</td>\n",
       "      <td>0</td>\n",
       "      <td>15</td>\n",
       "      <td>31</td>\n",
       "      <td>11</td>\n",
       "      <td>2</td>\n",
       "    </tr>\n",
       "    <tr>\n",
       "      <th>4</th>\n",
       "      <td>0</td>\n",
       "      <td>0</td>\n",
       "      <td>5</td>\n",
       "      <td>5</td>\n",
       "      <td>3</td>\n",
       "      <td>50825</td>\n",
       "      <td>19</td>\n",
       "      <td>MA</td>\n",
       "      <td>US Citizen</td>\n",
       "      <td>No</td>\n",
       "      <td>...</td>\n",
       "      <td>Voluntarily Terminated</td>\n",
       "      <td>Google Search</td>\n",
       "      <td>1.128487</td>\n",
       "      <td>4</td>\n",
       "      <td>0</td>\n",
       "      <td>0</td>\n",
       "      <td>2</td>\n",
       "      <td>30</td>\n",
       "      <td>5</td>\n",
       "      <td>2</td>\n",
       "    </tr>\n",
       "    <tr>\n",
       "      <th>...</th>\n",
       "      <td>...</td>\n",
       "      <td>...</td>\n",
       "      <td>...</td>\n",
       "      <td>...</td>\n",
       "      <td>...</td>\n",
       "      <td>...</td>\n",
       "      <td>...</td>\n",
       "      <td>...</td>\n",
       "      <td>...</td>\n",
       "      <td>...</td>\n",
       "      <td>...</td>\n",
       "      <td>...</td>\n",
       "      <td>...</td>\n",
       "      <td>...</td>\n",
       "      <td>...</td>\n",
       "      <td>...</td>\n",
       "      <td>...</td>\n",
       "      <td>...</td>\n",
       "      <td>...</td>\n",
       "      <td>...</td>\n",
       "      <td>...</td>\n",
       "    </tr>\n",
       "    <tr>\n",
       "      <th>306</th>\n",
       "      <td>0</td>\n",
       "      <td>1</td>\n",
       "      <td>1</td>\n",
       "      <td>5</td>\n",
       "      <td>3</td>\n",
       "      <td>65893</td>\n",
       "      <td>20</td>\n",
       "      <td>MA</td>\n",
       "      <td>US Citizen</td>\n",
       "      <td>No</td>\n",
       "      <td>...</td>\n",
       "      <td>Active</td>\n",
       "      <td>LinkedIn</td>\n",
       "      <td>-0.050719</td>\n",
       "      <td>4</td>\n",
       "      <td>0</td>\n",
       "      <td>0</td>\n",
       "      <td>13</td>\n",
       "      <td>34</td>\n",
       "      <td>5</td>\n",
       "      <td>2</td>\n",
       "    </tr>\n",
       "    <tr>\n",
       "      <th>307</th>\n",
       "      <td>0</td>\n",
       "      <td>0</td>\n",
       "      <td>5</td>\n",
       "      <td>5</td>\n",
       "      <td>1</td>\n",
       "      <td>48513</td>\n",
       "      <td>19</td>\n",
       "      <td>MA</td>\n",
       "      <td>US Citizen</td>\n",
       "      <td>No</td>\n",
       "      <td>...</td>\n",
       "      <td>Voluntarily Terminated</td>\n",
       "      <td>Google Search</td>\n",
       "      <td>-1.153846</td>\n",
       "      <td>2</td>\n",
       "      <td>0</td>\n",
       "      <td>5</td>\n",
       "      <td>4</td>\n",
       "      <td>37</td>\n",
       "      <td>7</td>\n",
       "      <td>2</td>\n",
       "    </tr>\n",
       "    <tr>\n",
       "      <th>308</th>\n",
       "      <td>0</td>\n",
       "      <td>0</td>\n",
       "      <td>1</td>\n",
       "      <td>3</td>\n",
       "      <td>4</td>\n",
       "      <td>220450</td>\n",
       "      <td>6</td>\n",
       "      <td>MA</td>\n",
       "      <td>US Citizen</td>\n",
       "      <td>No</td>\n",
       "      <td>...</td>\n",
       "      <td>Active</td>\n",
       "      <td>Employee Referral</td>\n",
       "      <td>0.621302</td>\n",
       "      <td>5</td>\n",
       "      <td>6</td>\n",
       "      <td>0</td>\n",
       "      <td>16</td>\n",
       "      <td>40</td>\n",
       "      <td>9</td>\n",
       "      <td>1</td>\n",
       "    </tr>\n",
       "    <tr>\n",
       "      <th>309</th>\n",
       "      <td>0</td>\n",
       "      <td>0</td>\n",
       "      <td>1</td>\n",
       "      <td>3</td>\n",
       "      <td>3</td>\n",
       "      <td>89292</td>\n",
       "      <td>9</td>\n",
       "      <td>MA</td>\n",
       "      <td>US Citizen</td>\n",
       "      <td>No</td>\n",
       "      <td>...</td>\n",
       "      <td>Active</td>\n",
       "      <td>Employee Referral</td>\n",
       "      <td>1.128487</td>\n",
       "      <td>3</td>\n",
       "      <td>5</td>\n",
       "      <td>0</td>\n",
       "      <td>11</td>\n",
       "      <td>40</td>\n",
       "      <td>4</td>\n",
       "      <td>0</td>\n",
       "    </tr>\n",
       "    <tr>\n",
       "      <th>310</th>\n",
       "      <td>0</td>\n",
       "      <td>0</td>\n",
       "      <td>1</td>\n",
       "      <td>5</td>\n",
       "      <td>3</td>\n",
       "      <td>45046</td>\n",
       "      <td>19</td>\n",
       "      <td>MA</td>\n",
       "      <td>US Citizen</td>\n",
       "      <td>No</td>\n",
       "      <td>...</td>\n",
       "      <td>Active</td>\n",
       "      <td>LinkedIn</td>\n",
       "      <td>0.494506</td>\n",
       "      <td>5</td>\n",
       "      <td>0</td>\n",
       "      <td>0</td>\n",
       "      <td>2</td>\n",
       "      <td>41</td>\n",
       "      <td>5</td>\n",
       "      <td>2</td>\n",
       "    </tr>\n",
       "  </tbody>\n",
       "</table>\n",
       "<p>311 rows × 22 columns</p>\n",
       "</div>"
      ],
      "text/plain": [
       "     MarriedID  GenderID  EmpStatusID  DeptID  PerfScoreID  Salary  \\\n",
       "0            0         1            1       5            4   62506   \n",
       "1            1         1            5       3            3  104437   \n",
       "2            1         0            5       5            3   64955   \n",
       "3            1         0            1       5            3   64991   \n",
       "4            0         0            5       5            3   50825   \n",
       "..         ...       ...          ...     ...          ...     ...   \n",
       "306          0         1            1       5            3   65893   \n",
       "307          0         0            5       5            1   48513   \n",
       "308          0         0            1       3            4  220450   \n",
       "309          0         0            1       3            3   89292   \n",
       "310          0         0            1       5            3   45046   \n",
       "\n",
       "     PositionID State CitizenDesc HispanicLatino  ...        EmploymentStatus  \\\n",
       "0            19    MA  US Citizen             No  ...                  Active   \n",
       "1            27    MA  US Citizen             No  ...  Voluntarily Terminated   \n",
       "2            20    MA  US Citizen             No  ...  Voluntarily Terminated   \n",
       "3            19    MA  US Citizen             No  ...                  Active   \n",
       "4            19    MA  US Citizen             No  ...  Voluntarily Terminated   \n",
       "..          ...   ...         ...            ...  ...                     ...   \n",
       "306          20    MA  US Citizen             No  ...                  Active   \n",
       "307          19    MA  US Citizen             No  ...  Voluntarily Terminated   \n",
       "308           6    MA  US Citizen             No  ...                  Active   \n",
       "309           9    MA  US Citizen             No  ...                  Active   \n",
       "310          19    MA  US Citizen             No  ...                  Active   \n",
       "\n",
       "     RecruitmentSource EngagementSurvey EmpSatisfaction  SpecialProjectsCount  \\\n",
       "0             LinkedIn         0.621302               5                     0   \n",
       "1               Indeed         1.077769               3                     6   \n",
       "2             LinkedIn        -1.382080               3                     0   \n",
       "3               Indeed         0.925613               5                     0   \n",
       "4        Google Search         1.128487               4                     0   \n",
       "..                 ...              ...             ...                   ...   \n",
       "306           LinkedIn        -0.050719               4                     0   \n",
       "307      Google Search        -1.153846               2                     0   \n",
       "308  Employee Referral         0.621302               5                     6   \n",
       "309  Employee Referral         1.128487               3                     5   \n",
       "310           LinkedIn         0.494506               5                     0   \n",
       "\n",
       "     DaysLateLast30  Absences  Age  EmploymentYears  Cluster  \n",
       "0                 0         1   36                8        2  \n",
       "1                 0        17   44                1        0  \n",
       "2                 0         3   31                1        2  \n",
       "3                 0        15   31               11        2  \n",
       "4                 0         2   30                5        2  \n",
       "..              ...       ...  ...              ...      ...  \n",
       "306               0        13   34                5        2  \n",
       "307               5         4   37                7        2  \n",
       "308               0        16   40                9        1  \n",
       "309               0        11   40                4        0  \n",
       "310               0         2   41                5        2  \n",
       "\n",
       "[311 rows x 22 columns]"
      ]
     },
     "execution_count": 27,
     "metadata": {},
     "output_type": "execute_result"
    }
   ],
   "source": [
    "kproto = KPrototypes(n_clusters=3, init = \"random\", n_init = 5, verbose=0)\n",
    "clusters = kproto.fit_predict(df_scaled, categorical=categericalColumnIndexes)\n",
    "df_scaled['Cluster'] = clusters\n",
    "\n",
    "df_scaled"
   ]
  },
  {
   "cell_type": "markdown",
   "metadata": {},
   "source": [
    "### Display centroids and visualize the clusters counts"
   ]
  },
  {
   "cell_type": "code",
   "execution_count": 28,
   "metadata": {},
   "outputs": [
    {
     "name": "stdout",
     "output_type": "stream",
     "text": [
      "Cluster Centroids: [['0.5' '0.54' '2.24' '3.28' '3.06' '94834.86' '17.96'\n",
      "  '0.030177520998398846' '3.88' '4.64' '0.14' '9.52' '37.92' '3.78' 'MA'\n",
      "  'US Citizen' 'No' 'White' 'N/A-StillEmployed' 'Active' 'Indeed']\n",
      " ['0.3' '0.6' '1.4' '3.4' '3.3' '173504.7' '11.4' '0.1344040851189201'\n",
      "  '4.2' '4.0' '0.4' '13.0' '41.7' '6.2' 'MA' 'US Citizen' 'No'\n",
      "  'Black or African American' 'N/A-StillEmployed' 'Active' 'Indeed']\n",
      " ['0.38247011952191234' '0.4063745019920319' '2.462151394422311'\n",
      "  '4.924302788844622' '2.948207171314741' '59715.70916334661'\n",
      "  '16.840637450199203' '-0.011366202793264056' '3.8804780876494025'\n",
      "  '0.4262948207171315' '0.4701195219123506' '10.270916334661354'\n",
      "  '38.53386454183267' '5.047808764940239' 'MA' 'US Citizen' 'No' 'White'\n",
      "  'N/A-StillEmployed' 'Active' 'LinkedIn']]\n"
     ]
    },
    {
     "data": {
      "image/png": "[encoded data removed]",
      "text/plain": [
       "<Figure size 640x480 with 1 Axes>"
      ]
     },
     "metadata": {},
     "output_type": "display_data"
    }
   ],
   "source": [
    "print(f'Cluster Centroids: {kproto.cluster_centroids_}')\n",
    "\n",
    "sns.countplot(x='Cluster', data=df_scaled)\n",
    "plt.show()"
   ]
  },
  {
   "cell_type": "markdown",
   "metadata": {},
   "source": [
    "### Clusters analysis\n",
    "---"
   ]
  },
  {
   "cell_type": "code",
   "execution_count": 29,
   "metadata": {},
   "outputs": [
    {
     "data": {
      "application/vnd.plotly.v1+json": {
       "config": {
        "plotlyServerURL": "https://plot.ly"
       },
       "data": [
        {
         "customdata": [
          [
           1,
           0
          ],
          [
           0,
           1
          ],
          [
           0,
           1
          ],
          [
           0,
           0
          ],
          [
           0,
           0
          ],
          [
           1,
           0
          ],
          [
           0,
           0
          ],
          [
           1,
           0
          ],
          [
           0,
           1
          ],
          [
           1,
           1
          ],
          [
           1,
           0
          ],
          [
           1,
           0
          ],
          [
           1,
           0
          ],
          [
           0,
           1
          ],
          [
           0,
           0
          ],
          [
           1,
           0
          ],
          [
           1,
           0
          ],
          [
           0,
           0
          ],
          [
           0,
           1
          ],
          [
           0,
           0
          ],
          [
           0,
           0
          ],
          [
           1,
           0
          ],
          [
           0,
           1
          ],
          [
           0,
           1
          ],
          [
           1,
           0
          ],
          [
           0,
           0
          ],
          [
           0,
           1
          ],
          [
           0,
           0
          ],
          [
           1,
           1
          ],
          [
           1,
           0
          ],
          [
           1,
           0
          ],
          [
           0,
           0
          ],
          [
           0,
           0
          ],
          [
           0,
           0
          ],
          [
           1,
           0
          ],
          [
           1,
           0
          ],
          [
           0,
           0
          ],
          [
           0,
           0
          ],
          [
           1,
           0
          ],
          [
           0,
           1
          ],
          [
           1,
           1
          ],
          [
           1,
           1
          ],
          [
           1,
           0
          ],
          [
           1,
           0
          ],
          [
           1,
           0
          ],
          [
           0,
           1
          ],
          [
           0,
           0
          ],
          [
           0,
           0
          ],
          [
           0,
           1
          ],
          [
           1,
           0
          ],
          [
           1,
           1
          ],
          [
           1,
           1
          ],
          [
           1,
           0
          ],
          [
           0,
           0
          ],
          [
           1,
           1
          ],
          [
           1,
           0
          ],
          [
           0,
           0
          ],
          [
           0,
           1
          ],
          [
           0,
           0
          ],
          [
           0,
           1
          ],
          [
           0,
           0
          ],
          [
           0,
           0
          ],
          [
           0,
           1
          ],
          [
           0,
           1
          ],
          [
           1,
           0
          ],
          [
           1,
           1
          ],
          [
           0,
           0
          ],
          [
           1,
           0
          ],
          [
           0,
           0
          ],
          [
           0,
           1
          ],
          [
           0,
           0
          ],
          [
           0,
           1
          ],
          [
           1,
           1
          ],
          [
           1,
           0
          ],
          [
           0,
           1
          ],
          [
           1,
           0
          ],
          [
           0,
           1
          ],
          [
           1,
           1
          ],
          [
           1,
           0
          ],
          [
           0,
           0
          ],
          [
           1,
           0
          ],
          [
           0,
           0
          ],
          [
           0,
           1
          ],
          [
           0,
           0
          ],
          [
           0,
           0
          ],
          [
           1,
           1
          ],
          [
           0,
           0
          ],
          [
           0,
           0
          ],
          [
           1,
           1
          ],
          [
           0,
           0
          ],
          [
           1,
           0
          ],
          [
           1,
           1
          ],
          [
           0,
           0
          ],
          [
           0,
           1
          ],
          [
           1,
           1
          ],
          [
           0,
           0
          ],
          [
           0,
           1
          ],
          [
           1,
           0
          ],
          [
           0,
           0
          ],
          [
           1,
           0
          ],
          [
           0,
           1
          ],
          [
           1,
           0
          ],
          [
           0,
           0
          ],
          [
           0,
           1
          ],
          [
           1,
           0
          ],
          [
           0,
           0
          ],
          [
           1,
           1
          ],
          [
           0,
           1
          ],
          [
           0,
           1
          ],
          [
           0,
           0
          ],
          [
           0,
           0
          ],
          [
           0,
           0
          ],
          [
           0,
           0
          ],
          [
           0,
           0
          ],
          [
           0,
           0
          ],
          [
           0,
           0
          ],
          [
           0,
           0
          ],
          [
           0,
           0
          ],
          [
           1,
           1
          ],
          [
           0,
           0
          ],
          [
           0,
           1
          ],
          [
           0,
           0
          ],
          [
           1,
           0
          ],
          [
           1,
           0
          ],
          [
           0,
           1
          ],
          [
           0,
           1
          ],
          [
           1,
           0
          ],
          [
           1,
           1
          ],
          [
           1,
           0
          ],
          [
           0,
           0
          ],
          [
           1,
           1
          ],
          [
           1,
           0
          ],
          [
           1,
           1
          ],
          [
           0,
           0
          ],
          [
           1,
           1
          ],
          [
           1,
           0
          ],
          [
           0,
           1
          ],
          [
           1,
           1
          ],
          [
           0,
           0
          ],
          [
           0,
           0
          ],
          [
           0,
           0
          ],
          [
           0,
           1
          ],
          [
           0,
           0
          ],
          [
           1,
           0
          ],
          [
           0,
           0
          ],
          [
           0,
           1
          ],
          [
           0,
           1
          ],
          [
           0,
           1
          ],
          [
           0,
           1
          ],
          [
           0,
           0
          ],
          [
           0,
           1
          ],
          [
           1,
           1
          ],
          [
           0,
           0
          ],
          [
           0,
           0
          ],
          [
           1,
           0
          ],
          [
           1,
           1
          ],
          [
           0,
           0
          ],
          [
           1,
           0
          ],
          [
           0,
           1
          ],
          [
           0,
           0
          ],
          [
           1,
           0
          ],
          [
           1,
           0
          ],
          [
           1,
           0
          ],
          [
           1,
           1
          ],
          [
           1,
           1
          ],
          [
           0,
           0
          ],
          [
           0,
           0
          ],
          [
           0,
           0
          ],
          [
           0,
           0
          ],
          [
           0,
           0
          ],
          [
           0,
           1
          ],
          [
           0,
           0
          ],
          [
           1,
           1
          ],
          [
           1,
           0
          ],
          [
           1,
           0
          ],
          [
           0,
           1
          ],
          [
           1,
           0
          ],
          [
           0,
           1
          ],
          [
           0,
           0
          ],
          [
           0,
           1
          ],
          [
           0,
           1
          ],
          [
           0,
           1
          ],
          [
           1,
           1
          ],
          [
           1,
           0
          ],
          [
           0,
           1
          ],
          [
           0,
           0
          ],
          [
           1,
           0
          ],
          [
           0,
           0
          ],
          [
           1,
           0
          ],
          [
           1,
           1
          ],
          [
           1,
           0
          ],
          [
           0,
           1
          ],
          [
           0,
           0
          ],
          [
           1,
           1
          ],
          [
           1,
           1
          ],
          [
           0,
           1
          ],
          [
           1,
           0
          ],
          [
           0,
           0
          ],
          [
           1,
           0
          ],
          [
           0,
           0
          ],
          [
           1,
           0
          ],
          [
           1,
           1
          ],
          [
           0,
           1
          ],
          [
           0,
           0
          ],
          [
           0,
           1
          ],
          [
           0,
           1
          ],
          [
           0,
           0
          ],
          [
           0,
           0
          ],
          [
           1,
           0
          ],
          [
           1,
           0
          ],
          [
           0,
           1
          ],
          [
           0,
           0
          ],
          [
           0,
           1
          ],
          [
           0,
           1
          ],
          [
           0,
           1
          ],
          [
           0,
           0
          ],
          [
           0,
           0
          ],
          [
           1,
           1
          ],
          [
           1,
           0
          ],
          [
           1,
           1
          ],
          [
           0,
           1
          ],
          [
           0,
           1
          ],
          [
           1,
           1
          ],
          [
           0,
           0
          ],
          [
           0,
           1
          ],
          [
           0,
           1
          ],
          [
           0,
           0
          ],
          [
           0,
           0
          ],
          [
           1,
           0
          ],
          [
           0,
           0
          ],
          [
           1,
           0
          ],
          [
           0,
           0
          ],
          [
           1,
           1
          ],
          [
           0,
           0
          ],
          [
           1,
           1
          ],
          [
           0,
           1
          ],
          [
           1,
           0
          ],
          [
           1,
           0
          ],
          [
           0,
           1
          ],
          [
           0,
           0
          ],
          [
           1,
           0
          ],
          [
           0,
           0
          ],
          [
           1,
           0
          ],
          [
           1,
           1
          ],
          [
           0,
           0
          ],
          [
           0,
           0
          ],
          [
           1,
           0
          ],
          [
           0,
           0
          ],
          [
           1,
           0
          ],
          [
           0,
           0
          ],
          [
           0,
           0
          ]
         ],
         "hovertemplate": "Cluster=2<br>Salary=%{x}<br>Age=%{y}<br>GenderID=%{customdata[0]}<br>MarriedID=%{customdata[1]}<extra></extra>",
         "legendgroup": "2",
         "marker": {
          "color": "#636efa",
          "symbol": "circle"
         },
         "mode": "markers",
         "name": "2",
         "orientation": "v",
         "showlegend": true,
         "type": "scatter",
         "x": [
          62506,
          64955,
          64991,
          50825,
          57568,
          59365,
          47837,
          50178,
          54670,
          47211,
          58709,
          52505,
          57834,
          70131,
          59026,
          53250,
          51044,
          64919,
          62910,
          66441,
          57815,
          74312,
          53492,
          63000,
          65288,
          64375,
          74326,
          63763,
          62162,
          72640,
          52846,
          71860,
          61656,
          54237,
          60380,
          66808,
          64786,
          64816,
          68678,
          64066,
          59369,
          50373,
          63108,
          59144,
          68051,
          63381,
          56149,
          65729,
          57583,
          56294,
          56991,
          55722,
          61568,
          58275,
          53189,
          51259,
          59231,
          61584,
          46335,
          70621,
          74241,
          75188,
          62514,
          60070,
          48888,
          54285,
          56847,
          60340,
          59124,
          71776,
          65902,
          57748,
          64057,
          53366,
          58530,
          72609,
          55965,
          70187,
          67251,
          65707,
          52249,
          53171,
          51337,
          51505,
          59370,
          54933,
          57815,
          61555,
          74679,
          53018,
          59892,
          68898,
          61242,
          66825,
          48285,
          66149,
          49256,
          62957,
          63813,
          71707,
          54828,
          64246,
          52177,
          62065,
          46998,
          68099,
          70545,
          63478,
          49920,
          55425,
          69340,
          64995,
          68182,
          51908,
          61242,
          45069,
          60724,
          60436,
          46837,
          63322,
          61154,
          68999,
          50482,
          65310,
          54005,
          45433,
          46654,
          63973,
          71339,
          66074,
          46120,
          64520,
          61962,
          63676,
          64738,
          70468,
          52624,
          63450,
          51777,
          67237,
          73330,
          52057,
          47434,
          52788,
          45395,
          62385,
          68407,
          61349,
          54132,
          55315,
          62810,
          63291,
          62659,
          55688,
          55800,
          58207,
          72460,
          72106,
          52599,
          63430,
          74417,
          57575,
          50470,
          46664,
          48495,
          52984,
          63695,
          62061,
          66738,
          52674,
          71966,
          63051,
          47414,
          53060,
          68829,
          63515,
          53564,
          60270,
          45998,
          57954,
          74669,
          74226,
          64724,
          47001,
          61844,
          46799,
          59472,
          46430,
          61729,
          61809,
          45115,
          46738,
          64971,
          55578,
          50428,
          61422,
          63353,
          60627,
          53180,
          47750,
          46428,
          57975,
          56147,
          50923,
          50750,
          52087,
          51920,
          63878,
          60656,
          72992,
          55000,
          58939,
          66593,
          64021,
          65714,
          62425,
          47961,
          58273,
          63003,
          61355,
          60120,
          63682,
          63025,
          59238,
          60754,
          72202,
          58370,
          48413,
          67176,
          56339,
          64397,
          63025,
          75281,
          74813,
          76029,
          57859,
          58523,
          55875,
          49773,
          62068,
          66541,
          50274,
          58371,
          55140,
          58062,
          59728,
          70507,
          60446,
          65893,
          48513,
          45046
         ],
         "xaxis": "x",
         "y": [
          36,
          31,
          31,
          30,
          42,
          36,
          49,
          31,
          45,
          45,
          36,
          42,
          38,
          47,
          49,
          40,
          49,
          39,
          30,
          29,
          48,
          49,
          29,
          32,
          36,
          50,
          45,
          39,
          42,
          36,
          36,
          44,
          32,
          40,
          36,
          49,
          36,
          31,
          34,
          38,
          41,
          39,
          42,
          40,
          44,
          42,
          32,
          29,
          41,
          40,
          31,
          42,
          44,
          32,
          48,
          37,
          32,
          41,
          33,
          31,
          31,
          46,
          46,
          28,
          45,
          41,
          30,
          36,
          30,
          41,
          32,
          36,
          30,
          32,
          38,
          38,
          36,
          44,
          44,
          49,
          34,
          36,
          29,
          49,
          48,
          45,
          39,
          30,
          30,
          27,
          50,
          45,
          38,
          33,
          40,
          36,
          45,
          38,
          36,
          50,
          42,
          31,
          33,
          45,
          35,
          47,
          31,
          35,
          34,
          33,
          35,
          27,
          43,
          28,
          47,
          47,
          33,
          45,
          40,
          50,
          33,
          30,
          43,
          40,
          46,
          49,
          42,
          39,
          50,
          40,
          33,
          35,
          35,
          40,
          37,
          31,
          38,
          40,
          31,
          43,
          37,
          44,
          46,
          47,
          33,
          43,
          33,
          45,
          42,
          32,
          32,
          35,
          49,
          43,
          34,
          27,
          49,
          43,
          40,
          35,
          45,
          39,
          30,
          36,
          42,
          48,
          30,
          35,
          34,
          39,
          33,
          29,
          43,
          40,
          37,
          40,
          31,
          30,
          33,
          33,
          42,
          40,
          31,
          38,
          31,
          35,
          42,
          49,
          35,
          35,
          37,
          46,
          38,
          47,
          45,
          34,
          34,
          45,
          32,
          49,
          45,
          33,
          31,
          44,
          38,
          34,
          31,
          32,
          44,
          35,
          32,
          46,
          46,
          49,
          44,
          46,
          37,
          45,
          33,
          34,
          30,
          41,
          37,
          49,
          44,
          34,
          46,
          46,
          44,
          48,
          49,
          36,
          31,
          34,
          50,
          28,
          32,
          30,
          33,
          34,
          43,
          39,
          32,
          46,
          36,
          50,
          39,
          34,
          34,
          37,
          41
         ],
         "yaxis": "y"
        },
        {
         "customdata": [
          [
           1,
           1
          ],
          [
           0,
           0
          ],
          [
           1,
           0
          ],
          [
           0,
           0
          ],
          [
           1,
           0
          ],
          [
           0,
           1
          ],
          [
           1,
           0
          ],
          [
           0,
           0
          ],
          [
           0,
           0
          ],
          [
           1,
           1
          ],
          [
           1,
           1
          ],
          [
           1,
           0
          ],
          [
           0,
           1
          ],
          [
           0,
           0
          ],
          [
           1,
           0
          ],
          [
           0,
           1
          ],
          [
           0,
           1
          ],
          [
           0,
           0
          ],
          [
           1,
           1
          ],
          [
           0,
           0
          ],
          [
           1,
           1
          ],
          [
           0,
           1
          ],
          [
           1,
           1
          ],
          [
           1,
           1
          ],
          [
           0,
           0
          ],
          [
           1,
           1
          ],
          [
           0,
           1
          ],
          [
           0,
           0
          ],
          [
           1,
           0
          ],
          [
           1,
           0
          ],
          [
           1,
           0
          ],
          [
           1,
           1
          ],
          [
           0,
           1
          ],
          [
           1,
           1
          ],
          [
           0,
           1
          ],
          [
           0,
           1
          ],
          [
           0,
           0
          ],
          [
           0,
           1
          ],
          [
           1,
           0
          ],
          [
           1,
           1
          ],
          [
           1,
           1
          ],
          [
           1,
           0
          ],
          [
           1,
           1
          ],
          [
           1,
           0
          ],
          [
           1,
           0
          ],
          [
           1,
           1
          ],
          [
           0,
           1
          ],
          [
           1,
           0
          ],
          [
           0,
           0
          ],
          [
           0,
           0
          ]
         ],
         "hovertemplate": "Cluster=0<br>Salary=%{x}<br>Age=%{y}<br>GenderID=%{customdata[0]}<br>MarriedID=%{customdata[1]}<extra></extra>",
         "legendgroup": "0",
         "marker": {
          "color": "#EF553B",
          "symbol": "circle"
         },
         "mode": "markers",
         "name": "0",
         "orientation": "v",
         "showlegend": true,
         "type": "scatter",
         "x": [
          104437,
          95660,
          92328,
          110000,
          103613,
          106367,
          77692,
          93396,
          100031,
          110929,
          83552,
          92329,
          85028,
          101199,
          96820,
          99280,
          99351,
          114800,
          99020,
          97999,
          83082,
          105700,
          93206,
          82758,
          81584,
          93046,
          77915,
          105688,
          83667,
          87921,
          108987,
          93093,
          93554,
          83363,
          95920,
          89883,
          120000,
          86214,
          88527,
          87826,
          87565,
          92989,
          90100,
          100416,
          88976,
          113999,
          80512,
          84903,
          107226,
          89292
         ],
         "xaxis": "x",
         "y": [
          44,
          40,
          31,
          33,
          45,
          32,
          47,
          32,
          33,
          47,
          33,
          46,
          33,
          40,
          36,
          32,
          40,
          48,
          30,
          35,
          43,
          33,
          33,
          47,
          32,
          35,
          38,
          32,
          38,
          49,
          40,
          35,
          35,
          35,
          39,
          38,
          46,
          33,
          32,
          49,
          36,
          36,
          32,
          36,
          49,
          33,
          36,
          38,
          41,
          40
         ],
         "yaxis": "y"
        },
        {
         "customdata": [
          [
           1,
           0
          ],
          [
           1,
           0
          ],
          [
           1,
           0
          ],
          [
           0,
           1
          ],
          [
           0,
           1
          ],
          [
           1,
           1
          ],
          [
           0,
           0
          ],
          [
           1,
           0
          ],
          [
           1,
           0
          ],
          [
           0,
           0
          ]
         ],
         "hovertemplate": "Cluster=1<br>Salary=%{x}<br>Age=%{y}<br>GenderID=%{customdata[0]}<br>MarriedID=%{customdata[1]}<extra></extra>",
         "legendgroup": "1",
         "marker": {
          "color": "#00cc96",
          "symbol": "circle"
         },
         "mode": "markers",
         "name": "1",
         "orientation": "v",
         "showlegend": true,
         "type": "scatter",
         "x": [
          170500,
          138888,
          178000,
          180000,
          250000,
          157000,
          150290,
          140920,
          148999,
          220450
         ],
         "xaxis": "x",
         "y": [
          36,
          49,
          39,
          47,
          35,
          33,
          47,
          46,
          45,
          40
         ],
         "yaxis": "y"
        }
       ],
       "layout": {
        "legend": {
         "title": {
          "text": "Cluster"
         },
         "tracegroupgap": 0
        },
        "template": {
         "data": {
          "bar": [
           {
            "error_x": {
             "color": "#2a3f5f"
            },
            "error_y": {
             "color": "#2a3f5f"
            },
            "marker": {
             "line": {
              "color": "#E5ECF6",
              "width": 0.5
             },
             "pattern": {
              "fillmode": "overlay",
              "size": 10,
              "solidity": 0.2
             }
            },
            "type": "bar"
           }
          ],
          "barpolar": [
           {
            "marker": {
             "line": {
              "color": "#E5ECF6",
              "width": 0.5
             },
             "pattern": {
              "fillmode": "overlay",
              "size": 10,
              "solidity": 0.2
             }
            },
            "type": "barpolar"
           }
          ],
          "carpet": [
           {
            "aaxis": {
             "endlinecolor": "#2a3f5f",
             "gridcolor": "white",
             "linecolor": "white",
             "minorgridcolor": "white",
             "startlinecolor": "#2a3f5f"
            },
            "baxis": {
             "endlinecolor": "#2a3f5f",
             "gridcolor": "white",
             "linecolor": "white",
             "minorgridcolor": "white",
             "startlinecolor": "#2a3f5f"
            },
            "type": "carpet"
           }
          ],
          "choropleth": [
           {
            "colorbar": {
             "outlinewidth": 0,
             "ticks": ""
            },
            "type": "choropleth"
           }
          ],
          "contour": [
           {
            "colorbar": {
             "outlinewidth": 0,
             "ticks": ""
            },
            "colorscale": [
             [
              0,
              "#0d0887"
             ],
             [
              0.1111111111111111,
              "#46039f"
             ],
             [
              0.2222222222222222,
              "#7201a8"
             ],
             [
              0.3333333333333333,
              "#9c179e"
             ],
             [
              0.4444444444444444,
              "#bd3786"
             ],
             [
              0.5555555555555556,
              "#d8576b"
             ],
             [
              0.6666666666666666,
              "#ed7953"
             ],
             [
              0.7777777777777778,
              "#fb9f3a"
             ],
             [
              0.8888888888888888,
              "#fdca26"
             ],
             [
              1,
              "#f0f921"
             ]
            ],
            "type": "contour"
           }
          ],
          "contourcarpet": [
           {
            "colorbar": {
             "outlinewidth": 0,
             "ticks": ""
            },
            "type": "contourcarpet"
           }
          ],
          "heatmap": [
           {
            "colorbar": {
             "outlinewidth": 0,
             "ticks": ""
            },
            "colorscale": [
             [
              0,
              "#0d0887"
             ],
             [
              0.1111111111111111,
              "#46039f"
             ],
             [
              0.2222222222222222,
              "#7201a8"
             ],
             [
              0.3333333333333333,
              "#9c179e"
             ],
             [
              0.4444444444444444,
              "#bd3786"
             ],
             [
              0.5555555555555556,
              "#d8576b"
             ],
             [
              0.6666666666666666,
              "#ed7953"
             ],
             [
              0.7777777777777778,
              "#fb9f3a"
             ],
             [
              0.8888888888888888,
              "#fdca26"
             ],
             [
              1,
              "#f0f921"
             ]
            ],
            "type": "heatmap"
           }
          ],
          "heatmapgl": [
           {
            "colorbar": {
             "outlinewidth": 0,
             "ticks": ""
            },
            "colorscale": [
             [
              0,
              "#0d0887"
             ],
             [
              0.1111111111111111,
              "#46039f"
             ],
             [
              0.2222222222222222,
              "#7201a8"
             ],
             [
              0.3333333333333333,
              "#9c179e"
             ],
             [
              0.4444444444444444,
              "#bd3786"
             ],
             [
              0.5555555555555556,
              "#d8576b"
             ],
             [
              0.6666666666666666,
              "#ed7953"
             ],
             [
              0.7777777777777778,
              "#fb9f3a"
             ],
             [
              0.8888888888888888,
              "#fdca26"
             ],
             [
              1,
              "#f0f921"
             ]
            ],
            "type": "heatmapgl"
           }
          ],
          "histogram": [
           {
            "marker": {
             "pattern": {
              "fillmode": "overlay",
              "size": 10,
              "solidity": 0.2
             }
            },
            "type": "histogram"
           }
          ],
          "histogram2d": [
           {
            "colorbar": {
             "outlinewidth": 0,
             "ticks": ""
            },
            "colorscale": [
             [
              0,
              "#0d0887"
             ],
             [
              0.1111111111111111,
              "#46039f"
             ],
             [
              0.2222222222222222,
              "#7201a8"
             ],
             [
              0.3333333333333333,
              "#9c179e"
             ],
             [
              0.4444444444444444,
              "#bd3786"
             ],
             [
              0.5555555555555556,
              "#d8576b"
             ],
             [
              0.6666666666666666,
              "#ed7953"
             ],
             [
              0.7777777777777778,
              "#fb9f3a"
             ],
             [
              0.8888888888888888,
              "#fdca26"
             ],
             [
              1,
              "#f0f921"
             ]
            ],
            "type": "histogram2d"
           }
          ],
          "histogram2dcontour": [
           {
            "colorbar": {
             "outlinewidth": 0,
             "ticks": ""
            },
            "colorscale": [
             [
              0,
              "#0d0887"
             ],
             [
              0.1111111111111111,
              "#46039f"
             ],
             [
              0.2222222222222222,
              "#7201a8"
             ],
             [
              0.3333333333333333,
              "#9c179e"
             ],
             [
              0.4444444444444444,
              "#bd3786"
             ],
             [
              0.5555555555555556,
              "#d8576b"
             ],
             [
              0.6666666666666666,
              "#ed7953"
             ],
             [
              0.7777777777777778,
              "#fb9f3a"
             ],
             [
              0.8888888888888888,
              "#fdca26"
             ],
             [
              1,
              "#f0f921"
             ]
            ],
            "type": "histogram2dcontour"
           }
          ],
          "mesh3d": [
           {
            "colorbar": {
             "outlinewidth": 0,
             "ticks": ""
            },
            "type": "mesh3d"
           }
          ],
          "parcoords": [
           {
            "line": {
             "colorbar": {
              "outlinewidth": 0,
              "ticks": ""
             }
            },
            "type": "parcoords"
           }
          ],
          "pie": [
           {
            "automargin": true,
            "type": "pie"
           }
          ],
          "scatter": [
           {
            "fillpattern": {
             "fillmode": "overlay",
             "size": 10,
             "solidity": 0.2
            },
            "type": "scatter"
           }
          ],
          "scatter3d": [
           {
            "line": {
             "colorbar": {
              "outlinewidth": 0,
              "ticks": ""
             }
            },
            "marker": {
             "colorbar": {
              "outlinewidth": 0,
              "ticks": ""
             }
            },
            "type": "scatter3d"
           }
          ],
          "scattercarpet": [
           {
            "marker": {
             "colorbar": {
              "outlinewidth": 0,
              "ticks": ""
             }
            },
            "type": "scattercarpet"
           }
          ],
          "scattergeo": [
           {
            "marker": {
             "colorbar": {
              "outlinewidth": 0,
              "ticks": ""
             }
            },
            "type": "scattergeo"
           }
          ],
          "scattergl": [
           {
            "marker": {
             "colorbar": {
              "outlinewidth": 0,
              "ticks": ""
             }
            },
            "type": "scattergl"
           }
          ],
          "scattermapbox": [
           {
            "marker": {
             "colorbar": {
              "outlinewidth": 0,
              "ticks": ""
             }
            },
            "type": "scattermapbox"
           }
          ],
          "scatterpolar": [
           {
            "marker": {
             "colorbar": {
              "outlinewidth": 0,
              "ticks": ""
             }
            },
            "type": "scatterpolar"
           }
          ],
          "scatterpolargl": [
           {
            "marker": {
             "colorbar": {
              "outlinewidth": 0,
              "ticks": ""
             }
            },
            "type": "scatterpolargl"
           }
          ],
          "scatterternary": [
           {
            "marker": {
             "colorbar": {
              "outlinewidth": 0,
              "ticks": ""
             }
            },
            "type": "scatterternary"
           }
          ],
          "surface": [
           {
            "colorbar": {
             "outlinewidth": 0,
             "ticks": ""
            },
            "colorscale": [
             [
              0,
              "#0d0887"
             ],
             [
              0.1111111111111111,
              "#46039f"
             ],
             [
              0.2222222222222222,
              "#7201a8"
             ],
             [
              0.3333333333333333,
              "#9c179e"
             ],
             [
              0.4444444444444444,
              "#bd3786"
             ],
             [
              0.5555555555555556,
              "#d8576b"
             ],
             [
              0.6666666666666666,
              "#ed7953"
             ],
             [
              0.7777777777777778,
              "#fb9f3a"
             ],
             [
              0.8888888888888888,
              "#fdca26"
             ],
             [
              1,
              "#f0f921"
             ]
            ],
            "type": "surface"
           }
          ],
          "table": [
           {
            "cells": {
             "fill": {
              "color": "#EBF0F8"
             },
             "line": {
              "color": "white"
             }
            },
            "header": {
             "fill": {
              "color": "#C8D4E3"
             },
             "line": {
              "color": "white"
             }
            },
            "type": "table"
           }
          ]
         },
         "layout": {
          "annotationdefaults": {
           "arrowcolor": "#2a3f5f",
           "arrowhead": 0,
           "arrowwidth": 1
          },
          "autotypenumbers": "strict",
          "coloraxis": {
           "colorbar": {
            "outlinewidth": 0,
            "ticks": ""
           }
          },
          "colorscale": {
           "diverging": [
            [
             0,
             "#8e0152"
            ],
            [
             0.1,
             "#c51b7d"
            ],
            [
             0.2,
             "#de77ae"
            ],
            [
             0.3,
             "#f1b6da"
            ],
            [
             0.4,
             "#fde0ef"
            ],
            [
             0.5,
             "#f7f7f7"
            ],
            [
             0.6,
             "#e6f5d0"
            ],
            [
             0.7,
             "#b8e186"
            ],
            [
             0.8,
             "#7fbc41"
            ],
            [
             0.9,
             "#4d9221"
            ],
            [
             1,
             "#276419"
            ]
           ],
           "sequential": [
            [
             0,
             "#0d0887"
            ],
            [
             0.1111111111111111,
             "#46039f"
            ],
            [
             0.2222222222222222,
             "#7201a8"
            ],
            [
             0.3333333333333333,
             "#9c179e"
            ],
            [
             0.4444444444444444,
             "#bd3786"
            ],
            [
             0.5555555555555556,
             "#d8576b"
            ],
            [
             0.6666666666666666,
             "#ed7953"
            ],
            [
             0.7777777777777778,
             "#fb9f3a"
            ],
            [
             0.8888888888888888,
             "#fdca26"
            ],
            [
             1,
             "#f0f921"
            ]
           ],
           "sequentialminus": [
            [
             0,
             "#0d0887"
            ],
            [
             0.1111111111111111,
             "#46039f"
            ],
            [
             0.2222222222222222,
             "#7201a8"
            ],
            [
             0.3333333333333333,
             "#9c179e"
            ],
            [
             0.4444444444444444,
             "#bd3786"
            ],
            [
             0.5555555555555556,
             "#d8576b"
            ],
            [
             0.6666666666666666,
             "#ed7953"
            ],
            [
             0.7777777777777778,
             "#fb9f3a"
            ],
            [
             0.8888888888888888,
             "#fdca26"
            ],
            [
             1,
             "#f0f921"
            ]
           ]
          },
          "colorway": [
           "#636efa",
           "#EF553B",
           "#00cc96",
           "#ab63fa",
           "#FFA15A",
           "#19d3f3",
           "#FF6692",
           "#B6E880",
           "#FF97FF",
           "#FECB52"
          ],
          "font": {
           "color": "#2a3f5f"
          },
          "geo": {
           "bgcolor": "white",
           "lakecolor": "white",
           "landcolor": "#E5ECF6",
           "showlakes": true,
           "showland": true,
           "subunitcolor": "white"
          },
          "hoverlabel": {
           "align": "left"
          },
          "hovermode": "closest",
          "mapbox": {
           "style": "light"
          },
          "paper_bgcolor": "white",
          "plot_bgcolor": "#E5ECF6",
          "polar": {
           "angularaxis": {
            "gridcolor": "white",
            "linecolor": "white",
            "ticks": ""
           },
           "bgcolor": "#E5ECF6",
           "radialaxis": {
            "gridcolor": "white",
            "linecolor": "white",
            "ticks": ""
           }
          },
          "scene": {
           "xaxis": {
            "backgroundcolor": "#E5ECF6",
            "gridcolor": "white",
            "gridwidth": 2,
            "linecolor": "white",
            "showbackground": true,
            "ticks": "",
            "zerolinecolor": "white"
           },
           "yaxis": {
            "backgroundcolor": "#E5ECF6",
            "gridcolor": "white",
            "gridwidth": 2,
            "linecolor": "white",
            "showbackground": true,
            "ticks": "",
            "zerolinecolor": "white"
           },
           "zaxis": {
            "backgroundcolor": "#E5ECF6",
            "gridcolor": "white",
            "gridwidth": 2,
            "linecolor": "white",
            "showbackground": true,
            "ticks": "",
            "zerolinecolor": "white"
           }
          },
          "shapedefaults": {
           "line": {
            "color": "#2a3f5f"
           }
          },
          "ternary": {
           "aaxis": {
            "gridcolor": "white",
            "linecolor": "white",
            "ticks": ""
           },
           "baxis": {
            "gridcolor": "white",
            "linecolor": "white",
            "ticks": ""
           },
           "bgcolor": "#E5ECF6",
           "caxis": {
            "gridcolor": "white",
            "linecolor": "white",
            "ticks": ""
           }
          },
          "title": {
           "x": 0.05
          },
          "xaxis": {
           "automargin": true,
           "gridcolor": "white",
           "linecolor": "white",
           "ticks": "",
           "title": {
            "standoff": 15
           },
           "zerolinecolor": "white",
           "zerolinewidth": 2
          },
          "yaxis": {
           "automargin": true,
           "gridcolor": "white",
           "linecolor": "white",
           "ticks": "",
           "title": {
            "standoff": 15
           },
           "zerolinecolor": "white",
           "zerolinewidth": 2
          }
         }
        },
        "title": {
         "text": "Cluster by K prototypes"
        },
        "xaxis": {
         "anchor": "y",
         "domain": [
          0,
          1
         ],
         "title": {
          "text": "Salary"
         }
        },
        "yaxis": {
         "anchor": "x",
         "domain": [
          0,
          1
         ],
         "title": {
          "text": "Age"
         }
        }
       }
      }
     },
     "metadata": {},
     "output_type": "display_data"
    }
   ],
   "source": [
    "import plotly.express as px\n",
    "import plotly.graph_objects as go\n",
    "\n",
    "fig = px.scatter(df_scaled, x=\"Salary\", y=\"EmploymentYears\", color=\"Cluster\", title=\"Cluster by K prototypes\", hover_data=[\"GenderID\", \"MarriedID\"])\n",
    "fig = px.scatter(df_scaled, x=\"Salary\", y=\"Age\", color=\"Cluster\", title=\"Cluster by K prototypes\", hover_data=[\"GenderID\", \"MarriedID\"])\n",
    "fig.show()"
   ]
  },
  {
   "cell_type": "code",
   "execution_count": 30,
   "metadata": {},
   "outputs": [
    {
     "data": {
      "application/vnd.plotly.v1+json": {
       "config": {
        "plotlyServerURL": "https://plot.ly"
       },
       "data": [
        {
         "hovertemplate": "Cluster=2<br>Salary=%{x}<br>EmploymentYears=%{y}<br>MarriedID=%{z}<extra></extra>",
         "legendgroup": "2",
         "marker": {
          "color": "#636efa",
          "symbol": "circle"
         },
         "mode": "markers",
         "name": "2",
         "scene": "scene",
         "showlegend": true,
         "type": "scatter3d",
         "x": [
          62506,
          64955,
          64991,
          50825,
          57568,
          59365,
          47837,
          50178,
          54670,
          47211,
          58709,
          52505,
          57834,
          70131,
          59026,
          53250,
          51044,
          64919,
          62910,
          66441,
          57815,
          74312,
          53492,
          63000,
          65288,
          64375,
          74326,
          63763,
          62162,
          72640,
          52846,
          71860,
          61656,
          54237,
          60380,
          66808,
          64786,
          64816,
          68678,
          64066,
          59369,
          50373,
          63108,
          59144,
          68051,
          63381,
          56149,
          65729,
          57583,
          56294,
          56991,
          55722,
          61568,
          58275,
          53189,
          51259,
          59231,
          61584,
          46335,
          70621,
          74241,
          75188,
          62514,
          60070,
          48888,
          54285,
          56847,
          60340,
          59124,
          71776,
          65902,
          57748,
          64057,
          53366,
          58530,
          72609,
          55965,
          70187,
          67251,
          65707,
          52249,
          53171,
          51337,
          51505,
          59370,
          54933,
          57815,
          61555,
          74679,
          53018,
          59892,
          68898,
          61242,
          66825,
          48285,
          66149,
          49256,
          62957,
          63813,
          71707,
          54828,
          64246,
          52177,
          62065,
          46998,
          68099,
          70545,
          63478,
          49920,
          55425,
          69340,
          64995,
          68182,
          51908,
          61242,
          45069,
          60724,
          60436,
          46837,
          63322,
          61154,
          68999,
          50482,
          65310,
          54005,
          45433,
          46654,
          63973,
          71339,
          66074,
          46120,
          64520,
          61962,
          63676,
          64738,
          70468,
          52624,
          63450,
          51777,
          67237,
          73330,
          52057,
          47434,
          52788,
          45395,
          62385,
          68407,
          61349,
          54132,
          55315,
          62810,
          63291,
          62659,
          55688,
          55800,
          58207,
          72460,
          72106,
          52599,
          63430,
          74417,
          57575,
          50470,
          46664,
          48495,
          52984,
          63695,
          62061,
          66738,
          52674,
          71966,
          63051,
          47414,
          53060,
          68829,
          63515,
          53564,
          60270,
          45998,
          57954,
          74669,
          74226,
          64724,
          47001,
          61844,
          46799,
          59472,
          46430,
          61729,
          61809,
          45115,
          46738,
          64971,
          55578,
          50428,
          61422,
          63353,
          60627,
          53180,
          47750,
          46428,
          57975,
          56147,
          50923,
          50750,
          52087,
          51920,
          63878,
          60656,
          72992,
          55000,
          58939,
          66593,
          64021,
          65714,
          62425,
          47961,
          58273,
          63003,
          61355,
          60120,
          63682,
          63025,
          59238,
          60754,
          72202,
          58370,
          48413,
          67176,
          56339,
          64397,
          63025,
          75281,
          74813,
          76029,
          57859,
          58523,
          55875,
          49773,
          62068,
          66541,
          50274,
          58371,
          55140,
          58062,
          59728,
          70507,
          60446,
          65893,
          48513,
          45046
         ],
         "y": [
          8,
          1,
          11,
          5,
          7,
          6,
          10,
          4,
          5,
          4,
          7,
          5,
          6,
          3,
          8,
          6,
          7,
          6,
          5,
          8,
          3,
          1,
          1,
          11,
          5,
          6,
          2,
          7,
          8,
          3,
          5,
          5,
          5,
          5,
          6,
          7,
          4,
          8,
          7,
          1,
          1,
          3,
          6,
          5,
          9,
          4,
          3,
          5,
          7,
          8,
          1,
          5,
          5,
          4,
          5,
          5,
          7,
          6,
          7,
          4,
          8,
          5,
          9,
          6,
          5,
          5,
          5,
          6,
          3,
          5,
          5,
          5,
          4,
          4,
          7,
          2,
          1,
          5,
          8,
          9,
          4,
          8,
          4,
          5,
          0,
          3,
          5,
          4,
          4,
          6,
          8,
          1,
          4,
          5,
          7,
          6,
          6,
          4,
          2,
          1,
          8,
          6,
          3,
          5,
          7,
          2,
          5,
          1,
          0,
          7,
          3,
          4,
          2,
          6,
          7,
          6,
          8,
          5,
          7,
          5,
          5,
          2,
          6,
          6,
          4,
          2,
          5,
          8,
          8,
          1,
          7,
          5,
          1,
          6,
          7,
          7,
          7,
          6,
          8,
          3,
          6,
          4,
          4,
          5,
          5,
          3,
          1,
          6,
          8,
          4,
          6,
          3,
          4,
          4,
          2,
          8,
          6,
          7,
          4,
          6,
          6,
          6,
          2,
          3,
          5,
          6,
          6,
          6,
          5,
          4,
          1,
          6,
          6,
          5,
          4,
          2,
          6,
          4,
          3,
          2,
          5,
          7,
          1,
          12,
          7,
          7,
          5,
          1,
          7,
          5,
          4,
          8,
          0,
          1,
          4,
          5,
          6,
          5,
          7,
          3,
          9,
          9,
          5,
          6,
          5,
          6,
          4,
          6,
          5,
          5,
          2,
          6,
          8,
          7,
          7,
          2,
          8,
          5,
          5,
          5,
          9,
          10,
          4,
          7,
          3,
          6,
          5,
          5,
          3,
          6,
          13,
          5,
          0,
          3,
          4,
          8,
          4,
          7,
          4,
          4,
          5,
          2,
          3,
          4,
          0,
          2,
          3,
          5,
          5,
          7,
          5
         ],
         "z": [
          0,
          1,
          1,
          0,
          0,
          0,
          0,
          0,
          1,
          1,
          0,
          0,
          0,
          1,
          0,
          0,
          0,
          0,
          1,
          0,
          0,
          0,
          1,
          1,
          0,
          0,
          1,
          0,
          1,
          0,
          0,
          0,
          0,
          0,
          0,
          0,
          0,
          0,
          0,
          1,
          1,
          1,
          0,
          0,
          0,
          1,
          0,
          0,
          1,
          0,
          1,
          1,
          0,
          0,
          1,
          0,
          0,
          1,
          0,
          1,
          0,
          0,
          1,
          1,
          0,
          1,
          0,
          0,
          0,
          1,
          0,
          1,
          1,
          0,
          1,
          0,
          1,
          1,
          0,
          0,
          0,
          0,
          1,
          0,
          0,
          1,
          0,
          0,
          1,
          0,
          0,
          1,
          0,
          1,
          1,
          0,
          1,
          0,
          0,
          0,
          1,
          0,
          0,
          1,
          0,
          0,
          1,
          1,
          1,
          0,
          0,
          0,
          0,
          0,
          0,
          0,
          0,
          0,
          1,
          0,
          1,
          0,
          0,
          0,
          1,
          1,
          0,
          1,
          0,
          0,
          1,
          0,
          1,
          0,
          1,
          0,
          1,
          1,
          0,
          0,
          0,
          1,
          0,
          0,
          0,
          1,
          1,
          1,
          1,
          0,
          1,
          1,
          0,
          0,
          0,
          1,
          0,
          0,
          1,
          0,
          0,
          0,
          0,
          1,
          1,
          0,
          0,
          0,
          0,
          0,
          1,
          0,
          1,
          0,
          0,
          1,
          0,
          1,
          0,
          1,
          1,
          1,
          1,
          0,
          1,
          0,
          0,
          0,
          0,
          1,
          0,
          1,
          0,
          1,
          1,
          1,
          0,
          0,
          0,
          0,
          0,
          1,
          1,
          0,
          1,
          1,
          0,
          0,
          0,
          0,
          1,
          0,
          1,
          1,
          1,
          0,
          0,
          1,
          0,
          1,
          1,
          1,
          1,
          0,
          1,
          1,
          0,
          0,
          0,
          0,
          0,
          0,
          1,
          0,
          1,
          1,
          0,
          0,
          1,
          0,
          0,
          0,
          0,
          1,
          0,
          0,
          0,
          0,
          0,
          0,
          0
         ]
        },
        {
         "hovertemplate": "Cluster=0<br>Salary=%{x}<br>EmploymentYears=%{y}<br>MarriedID=%{z}<extra></extra>",
         "legendgroup": "0",
         "marker": {
          "color": "#EF553B",
          "symbol": "circle"
         },
         "mode": "markers",
         "name": "0",
         "scene": "scene",
         "showlegend": true,
         "type": "scatter3d",
         "x": [
          104437,
          95660,
          92328,
          110000,
          103613,
          106367,
          77692,
          93396,
          100031,
          110929,
          83552,
          92329,
          85028,
          101199,
          96820,
          99280,
          99351,
          114800,
          99020,
          97999,
          83082,
          105700,
          93206,
          82758,
          81584,
          93046,
          77915,
          105688,
          83667,
          87921,
          108987,
          93093,
          93554,
          83363,
          95920,
          89883,
          120000,
          86214,
          88527,
          87826,
          87565,
          92989,
          90100,
          100416,
          88976,
          113999,
          80512,
          84903,
          107226,
          89292
         ],
         "y": [
          1,
          5,
          5,
          1,
          2,
          4,
          8,
          6,
          3,
          3,
          4,
          5,
          5,
          7,
          2,
          1,
          10,
          0,
          2,
          4,
          1,
          4,
          5,
          4,
          3,
          3,
          6,
          6,
          7,
          2,
          4,
          2,
          5,
          3,
          3,
          4,
          3,
          7,
          0,
          4,
          3,
          5,
          2,
          4,
          8,
          2,
          1,
          2,
          4,
          4
         ],
         "z": [
          1,
          0,
          0,
          0,
          0,
          1,
          0,
          0,
          0,
          1,
          1,
          0,
          1,
          0,
          0,
          1,
          1,
          0,
          1,
          0,
          1,
          1,
          1,
          1,
          0,
          1,
          1,
          0,
          0,
          0,
          0,
          1,
          1,
          1,
          1,
          1,
          0,
          1,
          0,
          1,
          1,
          0,
          1,
          0,
          0,
          1,
          1,
          0,
          0,
          0
         ]
        },
        {
         "hovertemplate": "Cluster=1<br>Salary=%{x}<br>EmploymentYears=%{y}<br>MarriedID=%{z}<extra></extra>",
         "legendgroup": "1",
         "marker": {
          "color": "#00cc96",
          "symbol": "circle"
         },
         "mode": "markers",
         "name": "1",
         "scene": "scene",
         "showlegend": true,
         "type": "scatter3d",
         "x": [
          170500,
          138888,
          178000,
          180000,
          250000,
          157000,
          150290,
          140920,
          148999,
          220450
         ],
         "y": [
          10,
          5,
          8,
          5,
          7,
          7,
          2,
          6,
          3,
          9
         ],
         "z": [
          0,
          0,
          0,
          1,
          1,
          1,
          0,
          0,
          0,
          0
         ]
        }
       ],
       "layout": {
        "legend": {
         "title": {
          "text": "Cluster"
         },
         "tracegroupgap": 0
        },
        "margin": {
         "t": 60
        },
        "scene": {
         "domain": {
          "x": [
           0,
           1
          ],
          "y": [
           0,
           1
          ]
         },
         "xaxis": {
          "title": {
           "text": "Salary"
          }
         },
         "yaxis": {
          "title": {
           "text": "EmploymentYears"
          }
         },
         "zaxis": {
          "title": {
           "text": "MarriedID"
          }
         }
        },
        "template": {
         "data": {
          "bar": [
           {
            "error_x": {
             "color": "#2a3f5f"
            },
            "error_y": {
             "color": "#2a3f5f"
            },
            "marker": {
             "line": {
              "color": "#E5ECF6",
              "width": 0.5
             },
             "pattern": {
              "fillmode": "overlay",
              "size": 10,
              "solidity": 0.2
             }
            },
            "type": "bar"
           }
          ],
          "barpolar": [
           {
            "marker": {
             "line": {
              "color": "#E5ECF6",
              "width": 0.5
             },
             "pattern": {
              "fillmode": "overlay",
              "size": 10,
              "solidity": 0.2
             }
            },
            "type": "barpolar"
           }
          ],
          "carpet": [
           {
            "aaxis": {
             "endlinecolor": "#2a3f5f",
             "gridcolor": "white",
             "linecolor": "white",
             "minorgridcolor": "white",
             "startlinecolor": "#2a3f5f"
            },
            "baxis": {
             "endlinecolor": "#2a3f5f",
             "gridcolor": "white",
             "linecolor": "white",
             "minorgridcolor": "white",
             "startlinecolor": "#2a3f5f"
            },
            "type": "carpet"
           }
          ],
          "choropleth": [
           {
            "colorbar": {
             "outlinewidth": 0,
             "ticks": ""
            },
            "type": "choropleth"
           }
          ],
          "contour": [
           {
            "colorbar": {
             "outlinewidth": 0,
             "ticks": ""
            },
            "colorscale": [
             [
              0,
              "#0d0887"
             ],
             [
              0.1111111111111111,
              "#46039f"
             ],
             [
              0.2222222222222222,
              "#7201a8"
             ],
             [
              0.3333333333333333,
              "#9c179e"
             ],
             [
              0.4444444444444444,
              "#bd3786"
             ],
             [
              0.5555555555555556,
              "#d8576b"
             ],
             [
              0.6666666666666666,
              "#ed7953"
             ],
             [
              0.7777777777777778,
              "#fb9f3a"
             ],
             [
              0.8888888888888888,
              "#fdca26"
             ],
             [
              1,
              "#f0f921"
             ]
            ],
            "type": "contour"
           }
          ],
          "contourcarpet": [
           {
            "colorbar": {
             "outlinewidth": 0,
             "ticks": ""
            },
            "type": "contourcarpet"
           }
          ],
          "heatmap": [
           {
            "colorbar": {
             "outlinewidth": 0,
             "ticks": ""
            },
            "colorscale": [
             [
              0,
              "#0d0887"
             ],
             [
              0.1111111111111111,
              "#46039f"
             ],
             [
              0.2222222222222222,
              "#7201a8"
             ],
             [
              0.3333333333333333,
              "#9c179e"
             ],
             [
              0.4444444444444444,
              "#bd3786"
             ],
             [
              0.5555555555555556,
              "#d8576b"
             ],
             [
              0.6666666666666666,
              "#ed7953"
             ],
             [
              0.7777777777777778,
              "#fb9f3a"
             ],
             [
              0.8888888888888888,
              "#fdca26"
             ],
             [
              1,
              "#f0f921"
             ]
            ],
            "type": "heatmap"
           }
          ],
          "heatmapgl": [
           {
            "colorbar": {
             "outlinewidth": 0,
             "ticks": ""
            },
            "colorscale": [
             [
              0,
              "#0d0887"
             ],
             [
              0.1111111111111111,
              "#46039f"
             ],
             [
              0.2222222222222222,
              "#7201a8"
             ],
             [
              0.3333333333333333,
              "#9c179e"
             ],
             [
              0.4444444444444444,
              "#bd3786"
             ],
             [
              0.5555555555555556,
              "#d8576b"
             ],
             [
              0.6666666666666666,
              "#ed7953"
             ],
             [
              0.7777777777777778,
              "#fb9f3a"
             ],
             [
              0.8888888888888888,
              "#fdca26"
             ],
             [
              1,
              "#f0f921"
             ]
            ],
            "type": "heatmapgl"
           }
          ],
          "histogram": [
           {
            "marker": {
             "pattern": {
              "fillmode": "overlay",
              "size": 10,
              "solidity": 0.2
             }
            },
            "type": "histogram"
           }
          ],
          "histogram2d": [
           {
            "colorbar": {
             "outlinewidth": 0,
             "ticks": ""
            },
            "colorscale": [
             [
              0,
              "#0d0887"
             ],
             [
              0.1111111111111111,
              "#46039f"
             ],
             [
              0.2222222222222222,
              "#7201a8"
             ],
             [
              0.3333333333333333,
              "#9c179e"
             ],
             [
              0.4444444444444444,
              "#bd3786"
             ],
             [
              0.5555555555555556,
              "#d8576b"
             ],
             [
              0.6666666666666666,
              "#ed7953"
             ],
             [
              0.7777777777777778,
              "#fb9f3a"
             ],
             [
              0.8888888888888888,
              "#fdca26"
             ],
             [
              1,
              "#f0f921"
             ]
            ],
            "type": "histogram2d"
           }
          ],
          "histogram2dcontour": [
           {
            "colorbar": {
             "outlinewidth": 0,
             "ticks": ""
            },
            "colorscale": [
             [
              0,
              "#0d0887"
             ],
             [
              0.1111111111111111,
              "#46039f"
             ],
             [
              0.2222222222222222,
              "#7201a8"
             ],
             [
              0.3333333333333333,
              "#9c179e"
             ],
             [
              0.4444444444444444,
              "#bd3786"
             ],
             [
              0.5555555555555556,
              "#d8576b"
             ],
             [
              0.6666666666666666,
              "#ed7953"
             ],
             [
              0.7777777777777778,
              "#fb9f3a"
             ],
             [
              0.8888888888888888,
              "#fdca26"
             ],
             [
              1,
              "#f0f921"
             ]
            ],
            "type": "histogram2dcontour"
           }
          ],
          "mesh3d": [
           {
            "colorbar": {
             "outlinewidth": 0,
             "ticks": ""
            },
            "type": "mesh3d"
           }
          ],
          "parcoords": [
           {
            "line": {
             "colorbar": {
              "outlinewidth": 0,
              "ticks": ""
             }
            },
            "type": "parcoords"
           }
          ],
          "pie": [
           {
            "automargin": true,
            "type": "pie"
           }
          ],
          "scatter": [
           {
            "fillpattern": {
             "fillmode": "overlay",
             "size": 10,
             "solidity": 0.2
            },
            "type": "scatter"
           }
          ],
          "scatter3d": [
           {
            "line": {
             "colorbar": {
              "outlinewidth": 0,
              "ticks": ""
             }
            },
            "marker": {
             "colorbar": {
              "outlinewidth": 0,
              "ticks": ""
             }
            },
            "type": "scatter3d"
           }
          ],
          "scattercarpet": [
           {
            "marker": {
             "colorbar": {
              "outlinewidth": 0,
              "ticks": ""
             }
            },
            "type": "scattercarpet"
           }
          ],
          "scattergeo": [
           {
            "marker": {
             "colorbar": {
              "outlinewidth": 0,
              "ticks": ""
             }
            },
            "type": "scattergeo"
           }
          ],
          "scattergl": [
           {
            "marker": {
             "colorbar": {
              "outlinewidth": 0,
              "ticks": ""
             }
            },
            "type": "scattergl"
           }
          ],
          "scattermapbox": [
           {
            "marker": {
             "colorbar": {
              "outlinewidth": 0,
              "ticks": ""
             }
            },
            "type": "scattermapbox"
           }
          ],
          "scatterpolar": [
           {
            "marker": {
             "colorbar": {
              "outlinewidth": 0,
              "ticks": ""
             }
            },
            "type": "scatterpolar"
           }
          ],
          "scatterpolargl": [
           {
            "marker": {
             "colorbar": {
              "outlinewidth": 0,
              "ticks": ""
             }
            },
            "type": "scatterpolargl"
           }
          ],
          "scatterternary": [
           {
            "marker": {
             "colorbar": {
              "outlinewidth": 0,
              "ticks": ""
             }
            },
            "type": "scatterternary"
           }
          ],
          "surface": [
           {
            "colorbar": {
             "outlinewidth": 0,
             "ticks": ""
            },
            "colorscale": [
             [
              0,
              "#0d0887"
             ],
             [
              0.1111111111111111,
              "#46039f"
             ],
             [
              0.2222222222222222,
              "#7201a8"
             ],
             [
              0.3333333333333333,
              "#9c179e"
             ],
             [
              0.4444444444444444,
              "#bd3786"
             ],
             [
              0.5555555555555556,
              "#d8576b"
             ],
             [
              0.6666666666666666,
              "#ed7953"
             ],
             [
              0.7777777777777778,
              "#fb9f3a"
             ],
             [
              0.8888888888888888,
              "#fdca26"
             ],
             [
              1,
              "#f0f921"
             ]
            ],
            "type": "surface"
           }
          ],
          "table": [
           {
            "cells": {
             "fill": {
              "color": "#EBF0F8"
             },
             "line": {
              "color": "white"
             }
            },
            "header": {
             "fill": {
              "color": "#C8D4E3"
             },
             "line": {
              "color": "white"
             }
            },
            "type": "table"
           }
          ]
         },
         "layout": {
          "annotationdefaults": {
           "arrowcolor": "#2a3f5f",
           "arrowhead": 0,
           "arrowwidth": 1
          },
          "autotypenumbers": "strict",
          "coloraxis": {
           "colorbar": {
            "outlinewidth": 0,
            "ticks": ""
           }
          },
          "colorscale": {
           "diverging": [
            [
             0,
             "#8e0152"
            ],
            [
             0.1,
             "#c51b7d"
            ],
            [
             0.2,
             "#de77ae"
            ],
            [
             0.3,
             "#f1b6da"
            ],
            [
             0.4,
             "#fde0ef"
            ],
            [
             0.5,
             "#f7f7f7"
            ],
            [
             0.6,
             "#e6f5d0"
            ],
            [
             0.7,
             "#b8e186"
            ],
            [
             0.8,
             "#7fbc41"
            ],
            [
             0.9,
             "#4d9221"
            ],
            [
             1,
             "#276419"
            ]
           ],
           "sequential": [
            [
             0,
             "#0d0887"
            ],
            [
             0.1111111111111111,
             "#46039f"
            ],
            [
             0.2222222222222222,
             "#7201a8"
            ],
            [
             0.3333333333333333,
             "#9c179e"
            ],
            [
             0.4444444444444444,
             "#bd3786"
            ],
            [
             0.5555555555555556,
             "#d8576b"
            ],
            [
             0.6666666666666666,
             "#ed7953"
            ],
            [
             0.7777777777777778,
             "#fb9f3a"
            ],
            [
             0.8888888888888888,
             "#fdca26"
            ],
            [
             1,
             "#f0f921"
            ]
           ],
           "sequentialminus": [
            [
             0,
             "#0d0887"
            ],
            [
             0.1111111111111111,
             "#46039f"
            ],
            [
             0.2222222222222222,
             "#7201a8"
            ],
            [
             0.3333333333333333,
             "#9c179e"
            ],
            [
             0.4444444444444444,
             "#bd3786"
            ],
            [
             0.5555555555555556,
             "#d8576b"
            ],
            [
             0.6666666666666666,
             "#ed7953"
            ],
            [
             0.7777777777777778,
             "#fb9f3a"
            ],
            [
             0.8888888888888888,
             "#fdca26"
            ],
            [
             1,
             "#f0f921"
            ]
           ]
          },
          "colorway": [
           "#636efa",
           "#EF553B",
           "#00cc96",
           "#ab63fa",
           "#FFA15A",
           "#19d3f3",
           "#FF6692",
           "#B6E880",
           "#FF97FF",
           "#FECB52"
          ],
          "font": {
           "color": "#2a3f5f"
          },
          "geo": {
           "bgcolor": "white",
           "lakecolor": "white",
           "landcolor": "#E5ECF6",
           "showlakes": true,
           "showland": true,
           "subunitcolor": "white"
          },
          "hoverlabel": {
           "align": "left"
          },
          "hovermode": "closest",
          "mapbox": {
           "style": "light"
          },
          "paper_bgcolor": "white",
          "plot_bgcolor": "#E5ECF6",
          "polar": {
           "angularaxis": {
            "gridcolor": "white",
            "linecolor": "white",
            "ticks": ""
           },
           "bgcolor": "#E5ECF6",
           "radialaxis": {
            "gridcolor": "white",
            "linecolor": "white",
            "ticks": ""
           }
          },
          "scene": {
           "xaxis": {
            "backgroundcolor": "#E5ECF6",
            "gridcolor": "white",
            "gridwidth": 2,
            "linecolor": "white",
            "showbackground": true,
            "ticks": "",
            "zerolinecolor": "white"
           },
           "yaxis": {
            "backgroundcolor": "#E5ECF6",
            "gridcolor": "white",
            "gridwidth": 2,
            "linecolor": "white",
            "showbackground": true,
            "ticks": "",
            "zerolinecolor": "white"
           },
           "zaxis": {
            "backgroundcolor": "#E5ECF6",
            "gridcolor": "white",
            "gridwidth": 2,
            "linecolor": "white",
            "showbackground": true,
            "ticks": "",
            "zerolinecolor": "white"
           }
          },
          "shapedefaults": {
           "line": {
            "color": "#2a3f5f"
           }
          },
          "ternary": {
           "aaxis": {
            "gridcolor": "white",
            "linecolor": "white",
            "ticks": ""
           },
           "baxis": {
            "gridcolor": "white",
            "linecolor": "white",
            "ticks": ""
           },
           "bgcolor": "#E5ECF6",
           "caxis": {
            "gridcolor": "white",
            "linecolor": "white",
            "ticks": ""
           }
          },
          "title": {
           "x": 0.05
          },
          "xaxis": {
           "automargin": true,
           "gridcolor": "white",
           "linecolor": "white",
           "ticks": "",
           "title": {
            "standoff": 15
           },
           "zerolinecolor": "white",
           "zerolinewidth": 2
          },
          "yaxis": {
           "automargin": true,
           "gridcolor": "white",
           "linecolor": "white",
           "ticks": "",
           "title": {
            "standoff": 15
           },
           "zerolinecolor": "white",
           "zerolinewidth": 2
          }
         }
        }
       }
      }
     },
     "metadata": {},
     "output_type": "display_data"
    }
   ],
   "source": [
    "fig = px.scatter_3d(df_scaled, x='Salary', y='Age', z='MarriedID',color='Cluster')\n",
    "fig = px.scatter_3d(df_scaled, x='Salary', y='EmploymentYears', z='MarriedID',color='Cluster')\n",
    "fig.show()"
   ]
  },
  {
   "cell_type": "markdown",
   "metadata": {},
   "source": [
    "### Save the dataset with group number in new CSV file"
   ]
  },
  {
   "cell_type": "code",
   "execution_count": 31,
   "metadata": {},
   "outputs": [],
   "source": [
    "HRData.to_csv(r'Output/HR-Analysis-Clusters.csv', sep='|', index=False) "
   ]
  }
 ],
 "metadata": {
  "kernelspec": {
   "display_name": "Python 3",
   "language": "python",
   "name": "python3"
  },
  "language_info": {
   "codemirror_mode": {
    "name": "ipython",
    "version": 3
   },
   "file_extension": ".py",
   "mimetype": "text/x-python",
   "name": "python",
   "nbconvert_exporter": "python",
   "pygments_lexer": "ipython3",
   "version": "3.10.7"
  }
 },
 "nbformat": 4,
 "nbformat_minor": 2
}
