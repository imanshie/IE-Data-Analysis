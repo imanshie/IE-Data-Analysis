{
 "cells": [
  {
   "cell_type": "markdown",
   "metadata": {},
   "source": [
    "<h1 style=\"color:blue; font-size: 30px; font-weight:bold;\">Setting the Environment &darr;</h1>"
   ]
  },
  {
   "cell_type": "markdown",
   "metadata": {},
   "source": [
    "<h2 style=\"font-size: 20px; font-weight:bold;\">\n",
    "    Import the needed packages\n",
    "</h2>"
   ]
  },
  {
   "cell_type": "code",
   "execution_count": 28,
   "metadata": {
    "tags": []
   },
   "outputs": [],
   "source": [
    "import pandas as pd\n",
    "import matplotlib.pyplot as plt\n",
    "import seaborn as sns\n",
    "from kmodes.kprototypes import KPrototypes\n",
    "import plotly.express as px\n",
    "from scipy.stats.mstats import winsorize\n",
    "from pathlib import Path"
   ]
  },
  {
   "cell_type": "markdown",
   "metadata": {},
   "source": [
    "<h2 style=\"font-size: 20px; font-weight:bold;\">\n",
    "    Define the needed functions and static variables \n",
    "</h2>"
   ]
  },
  {
   "cell_type": "code",
   "execution_count": 29,
   "metadata": {
    "tags": []
   },
   "outputs": [],
   "source": [
    "def CSVToPandasDataFrame(pathFileName, delimiter, low_memory=False):\n",
    "    data = pd.read_csv(pathFileName, sep=delimiter, low_memory=low_memory)\n",
    "    return pd.DataFrame(data)\n",
    "\n",
    "def getLevel(position):\n",
    "    if \"Sr.\" in position or \"Senior\" in position:\n",
    "        return 'Senior'\n",
    "    elif \"Manager\" in position:\n",
    "        return 'Manager'\n",
    "    elif \"Director\" in position:\n",
    "        return 'Director'\n",
    "    elif \"CEO\" in position or 'CIO' in position or \"President\" in position:\n",
    "        return 'C-Level'\n",
    "    else:\n",
    "        return 'Junior-Experienced'\n",
    "\n",
    "def createIfNotExist(dir):\n",
    "    path = Path(dir)\n",
    "    if not path.exists():\n",
    "        path.mkdir(parents=True)\n",
    "    return dir\n",
    "\n",
    "repositoryLink = r'https://raw.githubusercontent.com/prof-apartida/data-exercises/main/'\n",
    "outputFiguresPath = createIfNotExist('Output/Figures/')\n",
    "clustersOutputPath = createIfNotExist('Output/Clusters/')"
   ]
  },
  {
   "cell_type": "markdown",
   "metadata": {},
   "source": [
    "<h2 style=\"font-size: 20px; font-weight:bold;\">\n",
    "    Reading HR dataset from GitHub repository \n",
    "</h2>"
   ]
  },
  {
   "cell_type": "code",
   "execution_count": 30,
   "metadata": {
    "tags": []
   },
   "outputs": [
    {
     "data": {
      "text/html": [
       "<div>\n",
       "<style scoped>\n",
       "    .dataframe tbody tr th:only-of-type {\n",
       "        vertical-align: middle;\n",
       "    }\n",
       "\n",
       "    .dataframe tbody tr th {\n",
       "        vertical-align: top;\n",
       "    }\n",
       "\n",
       "    .dataframe thead th {\n",
       "        text-align: right;\n",
       "    }\n",
       "</style>\n",
       "<table border=\"1\" class=\"dataframe\">\n",
       "  <thead>\n",
       "    <tr style=\"text-align: right;\">\n",
       "      <th></th>\n",
       "      <th>Employee_Name</th>\n",
       "      <th>EmpID</th>\n",
       "      <th>MarriedID</th>\n",
       "      <th>MaritalStatusID</th>\n",
       "      <th>GenderID</th>\n",
       "      <th>EmpStatusID</th>\n",
       "      <th>DeptID</th>\n",
       "      <th>PerfScoreID</th>\n",
       "      <th>FromDiversityJobFairID</th>\n",
       "      <th>Salary</th>\n",
       "      <th>...</th>\n",
       "      <th>ManagerName</th>\n",
       "      <th>ManagerID</th>\n",
       "      <th>RecruitmentSource</th>\n",
       "      <th>PerformanceScore</th>\n",
       "      <th>EngagementSurvey</th>\n",
       "      <th>EmpSatisfaction</th>\n",
       "      <th>SpecialProjectsCount</th>\n",
       "      <th>LastPerformanceReview_Date</th>\n",
       "      <th>DaysLateLast30</th>\n",
       "      <th>Absences</th>\n",
       "    </tr>\n",
       "  </thead>\n",
       "  <tbody>\n",
       "    <tr>\n",
       "      <th>0</th>\n",
       "      <td>Adinolfi, Wilson  K</td>\n",
       "      <td>10026</td>\n",
       "      <td>0</td>\n",
       "      <td>0</td>\n",
       "      <td>1</td>\n",
       "      <td>1</td>\n",
       "      <td>5</td>\n",
       "      <td>4</td>\n",
       "      <td>0</td>\n",
       "      <td>62506</td>\n",
       "      <td>...</td>\n",
       "      <td>Michael Albert</td>\n",
       "      <td>22.0</td>\n",
       "      <td>LinkedIn</td>\n",
       "      <td>Exceeds</td>\n",
       "      <td>4.60</td>\n",
       "      <td>5</td>\n",
       "      <td>0</td>\n",
       "      <td>1/17/2019</td>\n",
       "      <td>0</td>\n",
       "      <td>1</td>\n",
       "    </tr>\n",
       "    <tr>\n",
       "      <th>1</th>\n",
       "      <td>Ait Sidi, Karthikeyan</td>\n",
       "      <td>10084</td>\n",
       "      <td>1</td>\n",
       "      <td>1</td>\n",
       "      <td>1</td>\n",
       "      <td>5</td>\n",
       "      <td>3</td>\n",
       "      <td>3</td>\n",
       "      <td>0</td>\n",
       "      <td>104437</td>\n",
       "      <td>...</td>\n",
       "      <td>Simon Roup</td>\n",
       "      <td>4.0</td>\n",
       "      <td>Indeed</td>\n",
       "      <td>Fully Meets</td>\n",
       "      <td>4.96</td>\n",
       "      <td>3</td>\n",
       "      <td>6</td>\n",
       "      <td>2/24/2016</td>\n",
       "      <td>0</td>\n",
       "      <td>17</td>\n",
       "    </tr>\n",
       "    <tr>\n",
       "      <th>2</th>\n",
       "      <td>Akinkuolie, Sarah</td>\n",
       "      <td>10196</td>\n",
       "      <td>1</td>\n",
       "      <td>1</td>\n",
       "      <td>0</td>\n",
       "      <td>5</td>\n",
       "      <td>5</td>\n",
       "      <td>3</td>\n",
       "      <td>0</td>\n",
       "      <td>64955</td>\n",
       "      <td>...</td>\n",
       "      <td>Kissy Sullivan</td>\n",
       "      <td>20.0</td>\n",
       "      <td>LinkedIn</td>\n",
       "      <td>Fully Meets</td>\n",
       "      <td>3.02</td>\n",
       "      <td>3</td>\n",
       "      <td>0</td>\n",
       "      <td>5/15/2012</td>\n",
       "      <td>0</td>\n",
       "      <td>3</td>\n",
       "    </tr>\n",
       "    <tr>\n",
       "      <th>3</th>\n",
       "      <td>Alagbe,Trina</td>\n",
       "      <td>10088</td>\n",
       "      <td>1</td>\n",
       "      <td>1</td>\n",
       "      <td>0</td>\n",
       "      <td>1</td>\n",
       "      <td>5</td>\n",
       "      <td>3</td>\n",
       "      <td>0</td>\n",
       "      <td>64991</td>\n",
       "      <td>...</td>\n",
       "      <td>Elijiah Gray</td>\n",
       "      <td>16.0</td>\n",
       "      <td>Indeed</td>\n",
       "      <td>Fully Meets</td>\n",
       "      <td>4.84</td>\n",
       "      <td>5</td>\n",
       "      <td>0</td>\n",
       "      <td>1/3/2019</td>\n",
       "      <td>0</td>\n",
       "      <td>15</td>\n",
       "    </tr>\n",
       "    <tr>\n",
       "      <th>4</th>\n",
       "      <td>Anderson, Carol</td>\n",
       "      <td>10069</td>\n",
       "      <td>0</td>\n",
       "      <td>2</td>\n",
       "      <td>0</td>\n",
       "      <td>5</td>\n",
       "      <td>5</td>\n",
       "      <td>3</td>\n",
       "      <td>0</td>\n",
       "      <td>50825</td>\n",
       "      <td>...</td>\n",
       "      <td>Webster Butler</td>\n",
       "      <td>39.0</td>\n",
       "      <td>Google Search</td>\n",
       "      <td>Fully Meets</td>\n",
       "      <td>5.00</td>\n",
       "      <td>4</td>\n",
       "      <td>0</td>\n",
       "      <td>2/1/2016</td>\n",
       "      <td>0</td>\n",
       "      <td>2</td>\n",
       "    </tr>\n",
       "    <tr>\n",
       "      <th>5</th>\n",
       "      <td>Anderson, Linda</td>\n",
       "      <td>10002</td>\n",
       "      <td>0</td>\n",
       "      <td>0</td>\n",
       "      <td>0</td>\n",
       "      <td>1</td>\n",
       "      <td>5</td>\n",
       "      <td>4</td>\n",
       "      <td>0</td>\n",
       "      <td>57568</td>\n",
       "      <td>...</td>\n",
       "      <td>Amy Dunn</td>\n",
       "      <td>11.0</td>\n",
       "      <td>LinkedIn</td>\n",
       "      <td>Exceeds</td>\n",
       "      <td>5.00</td>\n",
       "      <td>5</td>\n",
       "      <td>0</td>\n",
       "      <td>1/7/2019</td>\n",
       "      <td>0</td>\n",
       "      <td>15</td>\n",
       "    </tr>\n",
       "    <tr>\n",
       "      <th>6</th>\n",
       "      <td>Andreola, Colby</td>\n",
       "      <td>10194</td>\n",
       "      <td>0</td>\n",
       "      <td>0</td>\n",
       "      <td>0</td>\n",
       "      <td>1</td>\n",
       "      <td>4</td>\n",
       "      <td>3</td>\n",
       "      <td>0</td>\n",
       "      <td>95660</td>\n",
       "      <td>...</td>\n",
       "      <td>Alex Sweetwater</td>\n",
       "      <td>10.0</td>\n",
       "      <td>LinkedIn</td>\n",
       "      <td>Fully Meets</td>\n",
       "      <td>3.04</td>\n",
       "      <td>3</td>\n",
       "      <td>4</td>\n",
       "      <td>1/2/2019</td>\n",
       "      <td>0</td>\n",
       "      <td>19</td>\n",
       "    </tr>\n",
       "    <tr>\n",
       "      <th>7</th>\n",
       "      <td>Athwal, Sam</td>\n",
       "      <td>10062</td>\n",
       "      <td>0</td>\n",
       "      <td>4</td>\n",
       "      <td>1</td>\n",
       "      <td>1</td>\n",
       "      <td>5</td>\n",
       "      <td>3</td>\n",
       "      <td>0</td>\n",
       "      <td>59365</td>\n",
       "      <td>...</td>\n",
       "      <td>Ketsia Liebig</td>\n",
       "      <td>19.0</td>\n",
       "      <td>Employee Referral</td>\n",
       "      <td>Fully Meets</td>\n",
       "      <td>5.00</td>\n",
       "      <td>4</td>\n",
       "      <td>0</td>\n",
       "      <td>2/25/2019</td>\n",
       "      <td>0</td>\n",
       "      <td>19</td>\n",
       "    </tr>\n",
       "    <tr>\n",
       "      <th>8</th>\n",
       "      <td>Bachiochi, Linda</td>\n",
       "      <td>10114</td>\n",
       "      <td>0</td>\n",
       "      <td>0</td>\n",
       "      <td>0</td>\n",
       "      <td>3</td>\n",
       "      <td>5</td>\n",
       "      <td>3</td>\n",
       "      <td>1</td>\n",
       "      <td>47837</td>\n",
       "      <td>...</td>\n",
       "      <td>Brannon Miller</td>\n",
       "      <td>12.0</td>\n",
       "      <td>Diversity Job Fair</td>\n",
       "      <td>Fully Meets</td>\n",
       "      <td>4.46</td>\n",
       "      <td>3</td>\n",
       "      <td>0</td>\n",
       "      <td>1/25/2019</td>\n",
       "      <td>0</td>\n",
       "      <td>4</td>\n",
       "    </tr>\n",
       "    <tr>\n",
       "      <th>9</th>\n",
       "      <td>Bacong, Alejandro</td>\n",
       "      <td>10250</td>\n",
       "      <td>0</td>\n",
       "      <td>2</td>\n",
       "      <td>1</td>\n",
       "      <td>1</td>\n",
       "      <td>3</td>\n",
       "      <td>3</td>\n",
       "      <td>0</td>\n",
       "      <td>50178</td>\n",
       "      <td>...</td>\n",
       "      <td>Peter Monroe</td>\n",
       "      <td>7.0</td>\n",
       "      <td>Indeed</td>\n",
       "      <td>Fully Meets</td>\n",
       "      <td>5.00</td>\n",
       "      <td>5</td>\n",
       "      <td>6</td>\n",
       "      <td>2/18/2019</td>\n",
       "      <td>0</td>\n",
       "      <td>16</td>\n",
       "    </tr>\n",
       "  </tbody>\n",
       "</table>\n",
       "<p>10 rows × 36 columns</p>\n",
       "</div>"
      ],
      "text/plain": [
       "              Employee_Name  EmpID  MarriedID  MaritalStatusID  GenderID  \\\n",
       "0       Adinolfi, Wilson  K  10026          0                0         1   \n",
       "1  Ait Sidi, Karthikeyan     10084          1                1         1   \n",
       "2         Akinkuolie, Sarah  10196          1                1         0   \n",
       "3              Alagbe,Trina  10088          1                1         0   \n",
       "4          Anderson, Carol   10069          0                2         0   \n",
       "5         Anderson, Linda    10002          0                0         0   \n",
       "6           Andreola, Colby  10194          0                0         0   \n",
       "7               Athwal, Sam  10062          0                4         1   \n",
       "8          Bachiochi, Linda  10114          0                0         0   \n",
       "9        Bacong, Alejandro   10250          0                2         1   \n",
       "\n",
       "   EmpStatusID  DeptID  PerfScoreID  FromDiversityJobFairID  Salary  ...  \\\n",
       "0            1       5            4                       0   62506  ...   \n",
       "1            5       3            3                       0  104437  ...   \n",
       "2            5       5            3                       0   64955  ...   \n",
       "3            1       5            3                       0   64991  ...   \n",
       "4            5       5            3                       0   50825  ...   \n",
       "5            1       5            4                       0   57568  ...   \n",
       "6            1       4            3                       0   95660  ...   \n",
       "7            1       5            3                       0   59365  ...   \n",
       "8            3       5            3                       1   47837  ...   \n",
       "9            1       3            3                       0   50178  ...   \n",
       "\n",
       "       ManagerName  ManagerID   RecruitmentSource PerformanceScore  \\\n",
       "0   Michael Albert       22.0            LinkedIn          Exceeds   \n",
       "1       Simon Roup        4.0              Indeed      Fully Meets   \n",
       "2   Kissy Sullivan       20.0            LinkedIn      Fully Meets   \n",
       "3     Elijiah Gray       16.0              Indeed      Fully Meets   \n",
       "4   Webster Butler       39.0       Google Search      Fully Meets   \n",
       "5         Amy Dunn       11.0            LinkedIn          Exceeds   \n",
       "6  Alex Sweetwater       10.0            LinkedIn      Fully Meets   \n",
       "7    Ketsia Liebig       19.0   Employee Referral      Fully Meets   \n",
       "8   Brannon Miller       12.0  Diversity Job Fair      Fully Meets   \n",
       "9     Peter Monroe        7.0              Indeed      Fully Meets   \n",
       "\n",
       "   EngagementSurvey EmpSatisfaction SpecialProjectsCount  \\\n",
       "0              4.60               5                    0   \n",
       "1              4.96               3                    6   \n",
       "2              3.02               3                    0   \n",
       "3              4.84               5                    0   \n",
       "4              5.00               4                    0   \n",
       "5              5.00               5                    0   \n",
       "6              3.04               3                    4   \n",
       "7              5.00               4                    0   \n",
       "8              4.46               3                    0   \n",
       "9              5.00               5                    6   \n",
       "\n",
       "  LastPerformanceReview_Date DaysLateLast30 Absences  \n",
       "0                  1/17/2019              0        1  \n",
       "1                  2/24/2016              0       17  \n",
       "2                  5/15/2012              0        3  \n",
       "3                   1/3/2019              0       15  \n",
       "4                   2/1/2016              0        2  \n",
       "5                   1/7/2019              0       15  \n",
       "6                   1/2/2019              0       19  \n",
       "7                  2/25/2019              0       19  \n",
       "8                  1/25/2019              0        4  \n",
       "9                  2/18/2019              0       16  \n",
       "\n",
       "[10 rows x 36 columns]"
      ]
     },
     "execution_count": 30,
     "metadata": {},
     "output_type": "execute_result"
    }
   ],
   "source": [
    "fileName = 'HR_people_analytics.csv'\n",
    "HRData = CSVToPandasDataFrame(\n",
    "    pathFileName = repositoryLink + fileName, \n",
    "    delimiter=','\n",
    ")\n",
    "HRData.head(10)"
   ]
  },
  {
   "cell_type": "markdown",
   "metadata": {},
   "source": [
    "<h1 style=\"color:blue; font-size: 30px; font-weight:bold;\">\n",
    "    Data Exploring &darr;\n",
    "</h1>"
   ]
  },
  {
   "cell_type": "markdown",
   "metadata": {},
   "source": [
    "<h2 style=\"font-size: 20px; font-weight:bold;\">\n",
    "    Locating nulls values\n",
    "</h2>"
   ]
  },
  {
   "cell_type": "code",
   "execution_count": 31,
   "metadata": {
    "tags": []
   },
   "outputs": [
    {
     "data": {
      "text/plain": [
       "Employee_Name                   0\n",
       "EmpID                           0\n",
       "MarriedID                       0\n",
       "MaritalStatusID                 0\n",
       "GenderID                        0\n",
       "EmpStatusID                     0\n",
       "DeptID                          0\n",
       "PerfScoreID                     0\n",
       "FromDiversityJobFairID          0\n",
       "Salary                          0\n",
       "Termd                           0\n",
       "PositionID                      0\n",
       "Position                        0\n",
       "State                           0\n",
       "Zip                             0\n",
       "DOB                             0\n",
       "Sex                             0\n",
       "MaritalDesc                     0\n",
       "CitizenDesc                     0\n",
       "HispanicLatino                  0\n",
       "RaceDesc                        0\n",
       "DateofHire                      0\n",
       "DateofTermination             207\n",
       "TermReason                      0\n",
       "EmploymentStatus                0\n",
       "Department                      0\n",
       "ManagerName                     0\n",
       "ManagerID                       8\n",
       "RecruitmentSource               0\n",
       "PerformanceScore                0\n",
       "EngagementSurvey                0\n",
       "EmpSatisfaction                 0\n",
       "SpecialProjectsCount            0\n",
       "LastPerformanceReview_Date      0\n",
       "DaysLateLast30                  0\n",
       "Absences                        0\n",
       "dtype: int64"
      ]
     },
     "execution_count": 31,
     "metadata": {},
     "output_type": "execute_result"
    }
   ],
   "source": [
    "HRData.isna().sum()"
   ]
  },
  {
   "cell_type": "markdown",
   "metadata": {},
   "source": [
    "<h2 style=\"font-size: 20px; font-weight:bold;\">\n",
    "    Check duplicated columns\n",
    "</h2>"
   ]
  },
  {
   "cell_type": "code",
   "execution_count": 32,
   "metadata": {
    "tags": []
   },
   "outputs": [
    {
     "data": {
      "text/plain": [
       "False"
      ]
     },
     "execution_count": 32,
     "metadata": {},
     "output_type": "execute_result"
    }
   ],
   "source": [
    "HRData.duplicated().any()"
   ]
  },
  {
   "cell_type": "markdown",
   "metadata": {},
   "source": [
    "<h2 style=\"font-size: 20px; font-weight:bold;\">\n",
    "    Histograms for quantitative variables\n",
    "</h2>"
   ]
  },
  {
   "cell_type": "code",
   "execution_count": 33,
   "metadata": {
    "tags": []
   },
   "outputs": [
    {
     "data": {
      "image/png": "[encoded data removed]",
      "text/plain": [
       "<Figure size 1500x1000 with 25 Axes>"
      ]
     },
     "metadata": {},
     "output_type": "display_data"
    }
   ],
   "source": [
    "quantitative_columns = HRData.select_dtypes(include=['int64', 'float64']).columns\n",
    "HRData[quantitative_columns].hist(bins=15, figsize=(15, 10), layout=(5, 5), color='skyblue', edgecolor='black')\n",
    "plt.subplots_adjust(hspace=0.5)\n",
    "plt.suptitle('Histograms of Quantitative Variables')\n",
    "plt.savefig(outputFiguresPath+'Histograms_Quantitative_Variables.png')\n",
    "plt.show()"
   ]
  },
  {
   "cell_type": "markdown",
   "metadata": {},
   "source": [
    "<h2 style=\"font-size: 20px; font-weight:bold;\">\n",
    "    Correlation matrix heatmap\n",
    "</h2>"
   ]
  },
  {
   "cell_type": "code",
   "execution_count": 34,
   "metadata": {
    "tags": []
   },
   "outputs": [
    {
     "data": {
      "image/png": "[encoded data removed]",
      "text/plain": [
       "<Figure size 1200x800 with 2 Axes>"
      ]
     },
     "metadata": {},
     "output_type": "display_data"
    }
   ],
   "source": [
    "plt.figure(figsize=(12, 8))\n",
    "sns.heatmap(HRData[quantitative_columns].corr(), annot=True, cmap='coolwarm', fmt='.2f')\n",
    "plt.title('Correlation Matrix of Quantitative Variables')\n",
    "plt.savefig(outputFiguresPath+'Correlatio_Matrix_Quantitative_Variables.png')\n",
    "plt.show()"
   ]
  },
  {
   "cell_type": "markdown",
   "metadata": {},
   "source": [
    "\n",
    "<h2 style=\"font-size: 20px; font-weight:bold;\">\n",
    "    Boxplot for salary distribution\n",
    "</h2>"
   ]
  },
  {
   "cell_type": "code",
   "execution_count": 35,
   "metadata": {
    "tags": []
   },
   "outputs": [
    {
     "data": {
      "image/png": "[encoded data removed]",
      "text/plain": [
       "<Figure size 800x600 with 1 Axes>"
      ]
     },
     "metadata": {},
     "output_type": "display_data"
    }
   ],
   "source": [
    "plt.figure(figsize=(8, 6))\n",
    "sns.boxplot(y=HRData['Salary'])  \n",
    "plt.title('Boxplot of Salary Distribution')\n",
    "plt.savefig(outputFiguresPath+'Boxplot_Salary_Distribution.png')\n",
    "plt.show()"
   ]
  },
  {
   "cell_type": "markdown",
   "metadata": {},
   "source": [
    "<h2 style=\"font-size: 20px; font-weight:bold;\">\n",
    "    Bar plot for performance scores distribution\n",
    "</h2>"
   ]
  },
  {
   "cell_type": "code",
   "execution_count": 36,
   "metadata": {
    "tags": []
   },
   "outputs": [
    {
     "data": {
      "image/png": "[encoded data removed]",
      "text/plain": [
       "<Figure size 800x600 with 1 Axes>"
      ]
     },
     "metadata": {},
     "output_type": "display_data"
    }
   ],
   "source": [
    "performance_score_column = 'PerformanceScore'  \n",
    "performance_score_counts = HRData[performance_score_column].value_counts()\n",
    "plt.figure(figsize=(8, 6))\n",
    "sns.barplot(x=performance_score_counts.index, y=performance_score_counts.values)\n",
    "plt.title('Bar Plot of Performance Scores Distribution')\n",
    "plt.xlabel('Performance Score')\n",
    "plt.ylabel('Count')\n",
    "plt.savefig(outputFiguresPath+'Boxplot_Performance_Scores_Distribution.png')\n",
    "plt.show()"
   ]
  },
  {
   "cell_type": "markdown",
   "metadata": {},
   "source": [
    "<h1 style=\"color:blue; font-size: 30px; font-weight:bold;\">\n",
    "    Data Cleaning &darr;\n",
    "</h1>"
   ]
  },
  {
   "cell_type": "markdown",
   "metadata": {},
   "source": [
    "<h2 style=\"font-size: 20px; font-weight:bold;\">\n",
    "    Drop any column that refer for uniqueness\n",
    "</h2>"
   ]
  },
  {
   "cell_type": "code",
   "execution_count": 37,
   "metadata": {
    "tags": []
   },
   "outputs": [],
   "source": [
    "HRData.drop(\n",
    "[\n",
    "    'Employee_Name', \n",
    "    'EmpID', \n",
    "    'Zip', \n",
    "    'ManagerName', \n",
    "    'ManagerID'\n",
    "], axis=1, inplace=True)"
   ]
  },
  {
   "cell_type": "markdown",
   "metadata": {},
   "source": [
    "<h2 style=\"font-size: 20px; font-weight:bold;\">\n",
    "    Drop any duplicated column\n",
    "</h2>"
   ]
  },
  {
   "cell_type": "code",
   "execution_count": 38,
   "metadata": {
    "tags": []
   },
   "outputs": [],
   "source": [
    "HRData.drop(\n",
    "[\n",
    "    'MaritalStatusID', #duplicated with MaritalDesc\n",
    "    'MarriedID', #duplicated with MaritalDesc\n",
    "    'GenderID', #duplicated with Sex\n",
    "    'PositionID', #duplicated with Position\n",
    "    'DeptID', #duplicated with Department\n",
    "    'PerformanceScore', #duplicated with PerfScoreID\n",
    "    'Termd', #related to EmploymentStatus\n",
    "    'TermReason', #related to EmploymentStatus\n",
    "    'FromDiversityJobFairID', #related to RecruitmentSource\n",
    "    'DateofTermination' #related to LastPerformanceReview_Date\n",
    "], axis=1, inplace=True)"
   ]
  },
  {
   "cell_type": "markdown",
   "metadata": {},
   "source": [
    "<h2 style=\"font-size: 20px; font-weight:bold;\">\n",
    "    Drop columns with redundant values\n",
    "</h2>"
   ]
  },
  {
   "cell_type": "code",
   "execution_count": 39,
   "metadata": {},
   "outputs": [],
   "source": [
    "HRData.drop(\n",
    "[\n",
    "    'HispanicLatino', #Mostly No\n",
    "    'CitizenDesc', #Mostly US Citizen\n",
    "    'State', #Mostly from MA\n",
    "    'RaceDesc' #Mostly White\n",
    "], axis=1, inplace=True)"
   ]
  },
  {
   "cell_type": "markdown",
   "metadata": {},
   "source": [
    "<h2 style=\"font-size: 20px; font-weight:bold;\">\n",
    "    Get Job Level from Position column and drop Position as it is misleading\n",
    "</h2>"
   ]
  },
  {
   "cell_type": "code",
   "execution_count": 40,
   "metadata": {},
   "outputs": [
    {
     "name": "stdout",
     "output_type": "stream",
     "text": [
      "              JobLevel                      Position\n",
      "11             C-Level               President & CEO\n",
      "13             C-Level                           CIO\n",
      "27            Director                   IT Director\n",
      "4             Director                   BI Director\n",
      "23            Director             Director of Sales\n",
      "10            Director        Director of Operations\n",
      "15  Junior-Experienced                    IT Support\n",
      "28  Junior-Experienced                  Accountant I\n",
      "26  Junior-Experienced              Network Engineer\n",
      "19  Junior-Experienced          Enterprise Architect\n",
      "18  Junior-Experienced                 Data Analyst \n",
      "16  Junior-Experienced                  Data Analyst\n",
      "30  Junior-Experienced             Software Engineer\n",
      "14  Junior-Experienced                Data Architect\n",
      "31  Junior-Experienced      Principal Data Architect\n",
      "9   Junior-Experienced                  BI Developer\n",
      "3   Junior-Experienced      Production Technician II\n",
      "7   Junior-Experienced      Administrative Assistant\n",
      "5   Junior-Experienced        Database Administrator\n",
      "8   Junior-Experienced       Production Technician I\n",
      "20             Manager            Production Manager\n",
      "21             Manager          IT Manager - Support\n",
      "22             Manager            Area Sales Manager\n",
      "12             Manager               IT Manager - DB\n",
      "1              Manager            IT Manager - Infra\n",
      "29             Manager  Software Engineering Manager\n",
      "17             Manager                 Sales Manager\n",
      "0              Manager       Shared Services Manager\n",
      "6               Senior           Senior BI Developer\n",
      "24              Senior                Sr. Accountant\n",
      "25              Senior                       Sr. DBA\n",
      "2               Senior          Sr. Network Engineer\n"
     ]
    }
   ],
   "source": [
    "HRData['JobLevel'] = HRData['Position'].apply(getLevel)\n",
    "\n",
    "uniquePairs = set(list(zip(HRData['JobLevel'], HRData['Position'])))\n",
    "uniquePairsDF = pd.DataFrame(uniquePairs, columns=['JobLevel', 'Position'])\n",
    "print(uniquePairsDF.sort_values(by='JobLevel'))\n",
    "\n",
    "HRData.drop(['Position'], axis=1, inplace=True)"
   ]
  },
  {
   "cell_type": "markdown",
   "metadata": {},
   "source": [
    "<h2 style=\"font-size: 20px; font-weight:bold;\">\n",
    "    Get AgeCategory from DOB column then drop it\n",
    "</h2>"
   ]
  },
  {
   "cell_type": "code",
   "execution_count": 41,
   "metadata": {},
   "outputs": [
    {
     "name": "stdout",
     "output_type": "stream",
     "text": [
      "           DOB  Age  AgeCategory\n",
      "0   1983-07-10   36    Mid Adult\n",
      "1   1975-05-05   44   Late Adult\n",
      "2   1988-09-19   31  Early Adult\n",
      "3   1988-09-27   31  Early Adult\n",
      "4   1989-09-08   30  Young Adult\n",
      "..         ...  ...          ...\n",
      "306 1985-05-11   34  Early Adult\n",
      "307 1982-05-04   37    Mid Adult\n",
      "308 1979-08-30   40   Late Adult\n",
      "309 1979-02-24   40   Late Adult\n",
      "310 1978-08-17   41   Late Adult\n",
      "\n",
      "[311 rows x 3 columns]\n"
     ]
    }
   ],
   "source": [
    "HRData['DOB'] = pd.to_datetime(HRData['DOB'], format='%m/%d/%y')\n",
    "HRData['Age'] = abs(2019 - HRData['DOB'].dt.year)\n",
    "\n",
    "HRData['AgeCategory'] = pd.cut(HRData['Age'], bins= [27, 31, 35, 40, 45, 51] , labels= ['Young Adult', 'Early Adult', 'Mid Adult', 'Late Adult', 'Senior']  , right=False)\n",
    "print(HRData[['DOB', 'Age', 'AgeCategory']])\n",
    "\n",
    "HRData.drop(['DOB','Age'], axis=1, inplace=True)"
   ]
  },
  {
   "cell_type": "markdown",
   "metadata": {},
   "source": [
    "<h2 style=\"font-size: 20px; font-weight:bold;\">\n",
    "    Get days of employment and drop DateofHire and LastPerformanceReview_Date columns then drop them\n",
    "</h2>"
   ]
  },
  {
   "cell_type": "code",
   "execution_count": 42,
   "metadata": {},
   "outputs": [
    {
     "name": "stdout",
     "output_type": "stream",
     "text": [
      "    DateofHire LastPerformanceReview_Date  EmploymentYears\n",
      "0   2011-07-05                 2019-01-17                8\n",
      "1   2015-03-30                 2016-02-24                1\n",
      "2   2011-07-05                 2012-05-15                1\n",
      "3   2008-01-07                 2019-01-03               11\n",
      "4   2011-07-11                 2016-02-01                5\n",
      "..         ...                        ...              ...\n",
      "306 2014-07-07                 2019-02-28                5\n",
      "307 2008-09-02                 2015-09-02                7\n",
      "308 2010-04-10                 2019-02-21                9\n",
      "309 2015-03-30                 2019-02-01                4\n",
      "310 2014-09-29                 2019-01-30                5\n",
      "\n",
      "[311 rows x 3 columns]\n"
     ]
    }
   ],
   "source": [
    "HRData['DateofHire'] = pd.to_datetime(HRData['DateofHire'], format='%m/%d/%Y')\n",
    "HRData['LastPerformanceReview_Date'] = pd.to_datetime(HRData['LastPerformanceReview_Date'], format='%m/%d/%Y')\n",
    "HRData['EmploymentYears'] = HRData['LastPerformanceReview_Date'].dt.year - HRData['DateofHire'].dt.year \n",
    "\n",
    "print(HRData[['DateofHire', 'LastPerformanceReview_Date', 'EmploymentYears']])\n",
    "\n",
    "HRData.drop(['DateofHire','LastPerformanceReview_Date'], axis=1, inplace=True)"
   ]
  },
  {
   "cell_type": "markdown",
   "metadata": {},
   "source": [
    "<h2 style=\"font-size: 20px; font-weight:bold;\">\n",
    "    Handling Salary outliers by using Winsorization method\n",
    "</h2>"
   ]
  },
  {
   "cell_type": "code",
   "execution_count": 43,
   "metadata": {},
   "outputs": [
    {
     "data": {
      "image/png": "[encoded data removed]",
      "text/plain": [
       "<Figure size 1200x600 with 2 Axes>"
      ]
     },
     "metadata": {},
     "output_type": "display_data"
    }
   ],
   "source": [
    "HRData['SalaryNew'] = winsorize(HRData['Salary'], limits=[0.05, 0.05])\n",
    "\n",
    "fig, axs = plt.subplots(1, 2, figsize=(12, 6))\n",
    "sns.histplot(HRData['Salary'], ax=axs[0])\n",
    "axs[0].set_title('Before Winsorization')\n",
    "sns.histplot(HRData['SalaryNew'], ax=axs[1])\n",
    "axs[1].set_title('After Winsorization')\n",
    "plt.tight_layout()\n",
    "plt.savefig(outputFiguresPath+'Salary_Distribution_Before_After_Winsorization.png')\n",
    "plt.show()\n",
    "\n",
    "HRData['Salary'] = HRData['SalaryNew']\n",
    "HRData.drop(['SalaryNew'], axis=1, inplace=True)"
   ]
  },
  {
   "cell_type": "markdown",
   "metadata": {},
   "source": [
    "<h1 style=\"color:blue; font-size: 30px; font-weight:bold;\">\n",
    "    Clustering the Data &darr;\n",
    "</h1>"
   ]
  },
  {
   "cell_type": "markdown",
   "metadata": {},
   "source": [
    "<h2 style=\"font-size: 20px; font-weight:bold;\">\n",
    "    Seprate the dataset into two types: categorical and numerical\n",
    "</h2>"
   ]
  },
  {
   "cell_type": "code",
   "execution_count": 44,
   "metadata": {},
   "outputs": [
    {
     "name": "stdout",
     "output_type": "stream",
     "text": [
      "<class 'pandas.core.frame.DataFrame'>\n",
      "RangeIndex: 311 entries, 0 to 310\n",
      "Data columns (total 16 columns):\n",
      " #   Column                Non-Null Count  Dtype   \n",
      "---  ------                --------------  -----   \n",
      " 0   EmpStatusID           311 non-null    object  \n",
      " 1   PerfScoreID           311 non-null    object  \n",
      " 2   Salary                311 non-null    int64   \n",
      " 3   Sex                   311 non-null    object  \n",
      " 4   MaritalDesc           311 non-null    object  \n",
      " 5   EmploymentStatus      311 non-null    object  \n",
      " 6   Department            311 non-null    object  \n",
      " 7   RecruitmentSource     311 non-null    object  \n",
      " 8   EngagementSurvey      311 non-null    float64 \n",
      " 9   EmpSatisfaction       311 non-null    object  \n",
      " 10  SpecialProjectsCount  311 non-null    int64   \n",
      " 11  DaysLateLast30        311 non-null    int64   \n",
      " 12  Absences              311 non-null    int64   \n",
      " 13  JobLevel              311 non-null    object  \n",
      " 14  AgeCategory           311 non-null    category\n",
      " 15  EmploymentYears       311 non-null    int64   \n",
      "dtypes: category(1), float64(1), int64(5), object(9)\n",
      "memory usage: 37.1+ KB\n"
     ]
    }
   ],
   "source": [
    "HRData[['EmpStatusID','PerfScoreID','EmpSatisfaction']] = \\\n",
    "HRData[['EmpStatusID','PerfScoreID','EmpSatisfaction']].astype('object')\n",
    "\n",
    "categoricalColumns = list(HRData.select_dtypes(include=['object', 'category']).columns)\n",
    "numericalColumns = list(HRData.select_dtypes(include=['float64', 'int64']).columns)\n",
    "categericalColumnIndexes =list(HRData.columns.get_indexer_for(categoricalColumns))\n",
    "\n",
    "HRData.info()"
   ]
  },
  {
   "cell_type": "markdown",
   "metadata": {},
   "source": [
    "<h2 style=\"font-size: 20px; font-weight:bold;\">\n",
    "    Utilizing the Elbow method to determine the optimal number of clusters (k) to be used in k-prototype\n",
    "</h2>"
   ]
  },
  {
   "cell_type": "code",
   "execution_count": 45,
   "metadata": {},
   "outputs": [
    {
     "data": {
      "image/png": "[encoded data removed]",
      "text/plain": [
       "<Figure size 640x480 with 1 Axes>"
      ]
     },
     "metadata": {},
     "output_type": "display_data"
    }
   ],
   "source": [
    "cost=[]\n",
    "K = range(1,10)\n",
    "for num_clusters in list(K):\n",
    "    kproto = KPrototypes(n_clusters=num_clusters, init='random', n_init = 1, n_jobs=4)\n",
    "    kproto.fit_predict(HRData, categorical= categericalColumnIndexes)\n",
    "    cost.append(kproto.cost_)\n",
    "\n",
    "plt.plot(K, cost, 'bx-')\n",
    "plt.xlabel('No. of clusters')\n",
    "plt.ylabel('Cost')\n",
    "plt.title('Elbow Method For Optimal k')\n",
    "plt.savefig(outputFiguresPath+'Elbow_Method_10_Runs.png')\n",
    "plt.show()"
   ]
  },
  {
   "cell_type": "markdown",
   "metadata": {},
   "source": [
    "<h2 style=\"font-size: 20px; font-weight:bold;\">\n",
    "    Cluster the dataset into three groups by using K-Prototype unsupervised algorithm\n",
    "</h2>"
   ]
  },
  {
   "cell_type": "code",
   "execution_count": 46,
   "metadata": {},
   "outputs": [
    {
     "data": {
      "text/html": [
       "<div>\n",
       "<style scoped>\n",
       "    .dataframe tbody tr th:only-of-type {\n",
       "        vertical-align: middle;\n",
       "    }\n",
       "\n",
       "    .dataframe tbody tr th {\n",
       "        vertical-align: top;\n",
       "    }\n",
       "\n",
       "    .dataframe thead th {\n",
       "        text-align: right;\n",
       "    }\n",
       "</style>\n",
       "<table border=\"1\" class=\"dataframe\">\n",
       "  <thead>\n",
       "    <tr style=\"text-align: right;\">\n",
       "      <th></th>\n",
       "      <th>EmpStatusID</th>\n",
       "      <th>PerfScoreID</th>\n",
       "      <th>Salary</th>\n",
       "      <th>Sex</th>\n",
       "      <th>MaritalDesc</th>\n",
       "      <th>EmploymentStatus</th>\n",
       "      <th>Department</th>\n",
       "      <th>RecruitmentSource</th>\n",
       "      <th>EngagementSurvey</th>\n",
       "      <th>EmpSatisfaction</th>\n",
       "      <th>SpecialProjectsCount</th>\n",
       "      <th>DaysLateLast30</th>\n",
       "      <th>Absences</th>\n",
       "      <th>JobLevel</th>\n",
       "      <th>AgeCategory</th>\n",
       "      <th>EmploymentYears</th>\n",
       "      <th>Cluster</th>\n",
       "    </tr>\n",
       "  </thead>\n",
       "  <tbody>\n",
       "    <tr>\n",
       "      <th>0</th>\n",
       "      <td>1</td>\n",
       "      <td>4</td>\n",
       "      <td>62506</td>\n",
       "      <td>M</td>\n",
       "      <td>Single</td>\n",
       "      <td>Active</td>\n",
       "      <td>Production</td>\n",
       "      <td>LinkedIn</td>\n",
       "      <td>4.60</td>\n",
       "      <td>5</td>\n",
       "      <td>0</td>\n",
       "      <td>0</td>\n",
       "      <td>1</td>\n",
       "      <td>Junior-Experienced</td>\n",
       "      <td>Mid Adult</td>\n",
       "      <td>8</td>\n",
       "      <td>1</td>\n",
       "    </tr>\n",
       "    <tr>\n",
       "      <th>1</th>\n",
       "      <td>5</td>\n",
       "      <td>3</td>\n",
       "      <td>104437</td>\n",
       "      <td>M</td>\n",
       "      <td>Married</td>\n",
       "      <td>Voluntarily Terminated</td>\n",
       "      <td>IT/IS</td>\n",
       "      <td>Indeed</td>\n",
       "      <td>4.96</td>\n",
       "      <td>3</td>\n",
       "      <td>6</td>\n",
       "      <td>0</td>\n",
       "      <td>17</td>\n",
       "      <td>Senior</td>\n",
       "      <td>Late Adult</td>\n",
       "      <td>1</td>\n",
       "      <td>2</td>\n",
       "    </tr>\n",
       "    <tr>\n",
       "      <th>2</th>\n",
       "      <td>5</td>\n",
       "      <td>3</td>\n",
       "      <td>64955</td>\n",
       "      <td>F</td>\n",
       "      <td>Married</td>\n",
       "      <td>Voluntarily Terminated</td>\n",
       "      <td>Production</td>\n",
       "      <td>LinkedIn</td>\n",
       "      <td>3.02</td>\n",
       "      <td>3</td>\n",
       "      <td>0</td>\n",
       "      <td>0</td>\n",
       "      <td>3</td>\n",
       "      <td>Junior-Experienced</td>\n",
       "      <td>Early Adult</td>\n",
       "      <td>1</td>\n",
       "      <td>1</td>\n",
       "    </tr>\n",
       "    <tr>\n",
       "      <th>3</th>\n",
       "      <td>1</td>\n",
       "      <td>3</td>\n",
       "      <td>64991</td>\n",
       "      <td>F</td>\n",
       "      <td>Married</td>\n",
       "      <td>Active</td>\n",
       "      <td>Production</td>\n",
       "      <td>Indeed</td>\n",
       "      <td>4.84</td>\n",
       "      <td>5</td>\n",
       "      <td>0</td>\n",
       "      <td>0</td>\n",
       "      <td>15</td>\n",
       "      <td>Junior-Experienced</td>\n",
       "      <td>Early Adult</td>\n",
       "      <td>11</td>\n",
       "      <td>1</td>\n",
       "    </tr>\n",
       "    <tr>\n",
       "      <th>4</th>\n",
       "      <td>5</td>\n",
       "      <td>3</td>\n",
       "      <td>50825</td>\n",
       "      <td>F</td>\n",
       "      <td>Divorced</td>\n",
       "      <td>Voluntarily Terminated</td>\n",
       "      <td>Production</td>\n",
       "      <td>Google Search</td>\n",
       "      <td>5.00</td>\n",
       "      <td>4</td>\n",
       "      <td>0</td>\n",
       "      <td>0</td>\n",
       "      <td>2</td>\n",
       "      <td>Junior-Experienced</td>\n",
       "      <td>Young Adult</td>\n",
       "      <td>5</td>\n",
       "      <td>0</td>\n",
       "    </tr>\n",
       "    <tr>\n",
       "      <th>5</th>\n",
       "      <td>1</td>\n",
       "      <td>4</td>\n",
       "      <td>57568</td>\n",
       "      <td>F</td>\n",
       "      <td>Single</td>\n",
       "      <td>Active</td>\n",
       "      <td>Production</td>\n",
       "      <td>LinkedIn</td>\n",
       "      <td>5.00</td>\n",
       "      <td>5</td>\n",
       "      <td>0</td>\n",
       "      <td>0</td>\n",
       "      <td>15</td>\n",
       "      <td>Junior-Experienced</td>\n",
       "      <td>Late Adult</td>\n",
       "      <td>7</td>\n",
       "      <td>0</td>\n",
       "    </tr>\n",
       "    <tr>\n",
       "      <th>6</th>\n",
       "      <td>1</td>\n",
       "      <td>3</td>\n",
       "      <td>95660</td>\n",
       "      <td>F</td>\n",
       "      <td>Single</td>\n",
       "      <td>Active</td>\n",
       "      <td>Software Engineering</td>\n",
       "      <td>LinkedIn</td>\n",
       "      <td>3.04</td>\n",
       "      <td>3</td>\n",
       "      <td>4</td>\n",
       "      <td>0</td>\n",
       "      <td>19</td>\n",
       "      <td>Junior-Experienced</td>\n",
       "      <td>Late Adult</td>\n",
       "      <td>5</td>\n",
       "      <td>2</td>\n",
       "    </tr>\n",
       "    <tr>\n",
       "      <th>7</th>\n",
       "      <td>1</td>\n",
       "      <td>3</td>\n",
       "      <td>59365</td>\n",
       "      <td>M</td>\n",
       "      <td>Widowed</td>\n",
       "      <td>Active</td>\n",
       "      <td>Production</td>\n",
       "      <td>Employee Referral</td>\n",
       "      <td>5.00</td>\n",
       "      <td>4</td>\n",
       "      <td>0</td>\n",
       "      <td>0</td>\n",
       "      <td>19</td>\n",
       "      <td>Junior-Experienced</td>\n",
       "      <td>Mid Adult</td>\n",
       "      <td>6</td>\n",
       "      <td>0</td>\n",
       "    </tr>\n",
       "    <tr>\n",
       "      <th>8</th>\n",
       "      <td>3</td>\n",
       "      <td>3</td>\n",
       "      <td>47837</td>\n",
       "      <td>F</td>\n",
       "      <td>Single</td>\n",
       "      <td>Active</td>\n",
       "      <td>Production</td>\n",
       "      <td>Diversity Job Fair</td>\n",
       "      <td>4.46</td>\n",
       "      <td>3</td>\n",
       "      <td>0</td>\n",
       "      <td>0</td>\n",
       "      <td>4</td>\n",
       "      <td>Junior-Experienced</td>\n",
       "      <td>Senior</td>\n",
       "      <td>10</td>\n",
       "      <td>0</td>\n",
       "    </tr>\n",
       "    <tr>\n",
       "      <th>9</th>\n",
       "      <td>1</td>\n",
       "      <td>3</td>\n",
       "      <td>50178</td>\n",
       "      <td>M</td>\n",
       "      <td>Divorced</td>\n",
       "      <td>Active</td>\n",
       "      <td>IT/IS</td>\n",
       "      <td>Indeed</td>\n",
       "      <td>5.00</td>\n",
       "      <td>5</td>\n",
       "      <td>6</td>\n",
       "      <td>0</td>\n",
       "      <td>16</td>\n",
       "      <td>Junior-Experienced</td>\n",
       "      <td>Early Adult</td>\n",
       "      <td>4</td>\n",
       "      <td>0</td>\n",
       "    </tr>\n",
       "  </tbody>\n",
       "</table>\n",
       "</div>"
      ],
      "text/plain": [
       "  EmpStatusID PerfScoreID  Salary Sex MaritalDesc        EmploymentStatus  \\\n",
       "0           1           4   62506  M       Single                  Active   \n",
       "1           5           3  104437  M      Married  Voluntarily Terminated   \n",
       "2           5           3   64955   F     Married  Voluntarily Terminated   \n",
       "3           1           3   64991   F     Married                  Active   \n",
       "4           5           3   50825   F    Divorced  Voluntarily Terminated   \n",
       "5           1           4   57568   F      Single                  Active   \n",
       "6           1           3   95660   F      Single                  Active   \n",
       "7           1           3   59365  M      Widowed                  Active   \n",
       "8           3           3   47837   F      Single                  Active   \n",
       "9           1           3   50178  M     Divorced                  Active   \n",
       "\n",
       "             Department   RecruitmentSource  EngagementSurvey EmpSatisfaction  \\\n",
       "0     Production                   LinkedIn              4.60               5   \n",
       "1                 IT/IS              Indeed              4.96               3   \n",
       "2     Production                   LinkedIn              3.02               3   \n",
       "3     Production                     Indeed              4.84               5   \n",
       "4     Production              Google Search              5.00               4   \n",
       "5     Production                   LinkedIn              5.00               5   \n",
       "6  Software Engineering            LinkedIn              3.04               3   \n",
       "7     Production          Employee Referral              5.00               4   \n",
       "8     Production         Diversity Job Fair              4.46               3   \n",
       "9                 IT/IS              Indeed              5.00               5   \n",
       "\n",
       "   SpecialProjectsCount  DaysLateLast30  Absences            JobLevel  \\\n",
       "0                     0               0         1  Junior-Experienced   \n",
       "1                     6               0        17              Senior   \n",
       "2                     0               0         3  Junior-Experienced   \n",
       "3                     0               0        15  Junior-Experienced   \n",
       "4                     0               0         2  Junior-Experienced   \n",
       "5                     0               0        15  Junior-Experienced   \n",
       "6                     4               0        19  Junior-Experienced   \n",
       "7                     0               0        19  Junior-Experienced   \n",
       "8                     0               0         4  Junior-Experienced   \n",
       "9                     6               0        16  Junior-Experienced   \n",
       "\n",
       "   AgeCategory  EmploymentYears  Cluster  \n",
       "0    Mid Adult                8        1  \n",
       "1   Late Adult                1        2  \n",
       "2  Early Adult                1        1  \n",
       "3  Early Adult               11        1  \n",
       "4  Young Adult                5        0  \n",
       "5   Late Adult                7        0  \n",
       "6   Late Adult                5        2  \n",
       "7    Mid Adult                6        0  \n",
       "8       Senior               10        0  \n",
       "9  Early Adult                4        0  "
      ]
     },
     "execution_count": 46,
     "metadata": {},
     "output_type": "execute_result"
    }
   ],
   "source": [
    "kproto = KPrototypes(n_clusters=3, init = \"random\", n_init = 5, verbose=0)\n",
    "clusters = kproto.fit_predict(HRData, categorical=categericalColumnIndexes)\n",
    "HRData['Cluster'] = clusters\n",
    "HRData.head(10)"
   ]
  },
  {
   "cell_type": "markdown",
   "metadata": {},
   "source": [
    "<h1 style=\"color:blue; font-size: 30px; font-weight:bold;\">\n",
    "    Cluster Analysis &darr;\n",
    "</h1>"
   ]
  },
  {
   "cell_type": "markdown",
   "metadata": {},
   "source": [
    "<h2 style=\"font-size: 20px; font-weight:bold;\">\n",
    "    Visualize the clusters counts\n",
    "</h2>"
   ]
  },
  {
   "cell_type": "code",
   "execution_count": 47,
   "metadata": {},
   "outputs": [
    {
     "data": {
      "image/png": "[encoded data removed]",
      "text/plain": [
       "<Figure size 640x480 with 1 Axes>"
      ]
     },
     "metadata": {},
     "output_type": "display_data"
    }
   ],
   "source": [
    "sns.countplot(x='Cluster', data=HRData)\n",
    "plt.savefig(outputFiguresPath+'HR_Clusters_Counts.png')\n",
    "plt.show()\n"
   ]
  },
  {
   "cell_type": "markdown",
   "metadata": {},
   "source": [
    "<h2 style=\"font-size: 20px; font-weight:bold;\">\n",
    "    Display centroids\n",
    "</h2>"
   ]
  },
  {
   "cell_type": "code",
   "execution_count": 48,
   "metadata": {},
   "outputs": [
    {
     "data": {
      "text/html": [
       "<div>\n",
       "<style scoped>\n",
       "    .dataframe tbody tr th:only-of-type {\n",
       "        vertical-align: middle;\n",
       "    }\n",
       "\n",
       "    .dataframe tbody tr th {\n",
       "        vertical-align: top;\n",
       "    }\n",
       "\n",
       "    .dataframe thead th {\n",
       "        text-align: right;\n",
       "    }\n",
       "</style>\n",
       "<table border=\"1\" class=\"dataframe\">\n",
       "  <thead>\n",
       "    <tr style=\"text-align: right;\">\n",
       "      <th></th>\n",
       "      <th>Salary</th>\n",
       "      <th>EngagementSurvey</th>\n",
       "      <th>SpecialProjectsCount</th>\n",
       "      <th>DaysLateLast30</th>\n",
       "      <th>Absences</th>\n",
       "      <th>EmploymentYears</th>\n",
       "      <th>EmpStatusID</th>\n",
       "      <th>PerfScoreID</th>\n",
       "      <th>Sex</th>\n",
       "      <th>MaritalDesc</th>\n",
       "      <th>EmploymentStatus</th>\n",
       "      <th>Department</th>\n",
       "      <th>RecruitmentSource</th>\n",
       "      <th>EmpSatisfaction</th>\n",
       "      <th>JobLevel</th>\n",
       "      <th>AgeCategory</th>\n",
       "    </tr>\n",
       "  </thead>\n",
       "  <tbody>\n",
       "    <tr>\n",
       "      <th>0</th>\n",
       "      <td>53102.02521008404</td>\n",
       "      <td>4.0585714285714305</td>\n",
       "      <td>0.37815126050420167</td>\n",
       "      <td>0.5462184873949579</td>\n",
       "      <td>9.974789915966387</td>\n",
       "      <td>5.050420168067227</td>\n",
       "      <td>1</td>\n",
       "      <td>3</td>\n",
       "      <td>F</td>\n",
       "      <td>Single</td>\n",
       "      <td>Active</td>\n",
       "      <td>Production</td>\n",
       "      <td>LinkedIn</td>\n",
       "      <td>4</td>\n",
       "      <td>Junior-Experienced</td>\n",
       "      <td>Senior</td>\n",
       "    </tr>\n",
       "    <tr>\n",
       "      <th>1</th>\n",
       "      <td>66184.66176470589</td>\n",
       "      <td>4.1391911764705895</td>\n",
       "      <td>0.5441176470588235</td>\n",
       "      <td>0.3897058823529412</td>\n",
       "      <td>10.389705882352942</td>\n",
       "      <td>5.029411764705882</td>\n",
       "      <td>1</td>\n",
       "      <td>3</td>\n",
       "      <td>F</td>\n",
       "      <td>Single</td>\n",
       "      <td>Active</td>\n",
       "      <td>Production</td>\n",
       "      <td>Indeed</td>\n",
       "      <td>3</td>\n",
       "      <td>Junior-Experienced</td>\n",
       "      <td>Mid Adult</td>\n",
       "    </tr>\n",
       "    <tr>\n",
       "      <th>2</th>\n",
       "      <td>98019.94642857143</td>\n",
       "      <td>4.1483928571428565</td>\n",
       "      <td>4.642857142857143</td>\n",
       "      <td>0.19642857142857142</td>\n",
       "      <td>10.428571428571429</td>\n",
       "      <td>4.160714285714286</td>\n",
       "      <td>1</td>\n",
       "      <td>3</td>\n",
       "      <td>M</td>\n",
       "      <td>Married</td>\n",
       "      <td>Active</td>\n",
       "      <td>IT/IS</td>\n",
       "      <td>Indeed</td>\n",
       "      <td>3</td>\n",
       "      <td>Junior-Experienced</td>\n",
       "      <td>Early Adult</td>\n",
       "    </tr>\n",
       "  </tbody>\n",
       "</table>\n",
       "</div>"
      ],
      "text/plain": [
       "              Salary    EngagementSurvey SpecialProjectsCount  \\\n",
       "0  53102.02521008404  4.0585714285714305  0.37815126050420167   \n",
       "1  66184.66176470589  4.1391911764705895   0.5441176470588235   \n",
       "2  98019.94642857143  4.1483928571428565    4.642857142857143   \n",
       "\n",
       "        DaysLateLast30            Absences    EmploymentYears EmpStatusID  \\\n",
       "0   0.5462184873949579   9.974789915966387  5.050420168067227           1   \n",
       "1   0.3897058823529412  10.389705882352942  5.029411764705882           1   \n",
       "2  0.19642857142857142  10.428571428571429  4.160714285714286           1   \n",
       "\n",
       "  PerfScoreID Sex MaritalDesc EmploymentStatus         Department  \\\n",
       "0           3   F      Single           Active  Production          \n",
       "1           3   F      Single           Active  Production          \n",
       "2           3  M      Married           Active              IT/IS   \n",
       "\n",
       "  RecruitmentSource EmpSatisfaction            JobLevel  AgeCategory  \n",
       "0          LinkedIn               4  Junior-Experienced       Senior  \n",
       "1            Indeed               3  Junior-Experienced    Mid Adult  \n",
       "2            Indeed               3  Junior-Experienced  Early Adult  "
      ]
     },
     "execution_count": 48,
     "metadata": {},
     "output_type": "execute_result"
    }
   ],
   "source": [
    "centroidsDF = pd.DataFrame(kproto.cluster_centroids_, columns= list(numericalColumns + categoricalColumns))\n",
    "centroidsDF"
   ]
  },
  {
   "cell_type": "markdown",
   "metadata": {},
   "source": [
    "<h2 style=\"color:purple; font-size: 20px; font-weight:bold;\">\n",
    "  Let's label the three clusters\n",
    "</h2>\n",
    "\n",
    "<ul style=\"color:grey;\">\n",
    "  <li><strong style=\"color:green;\">Cluster 1:</strong> Senior-Level Performers</li>\n",
    "  <li><strong style=\"color:green;\">Cluster 2:</strong> Mid-Level Performers</li>\n",
    "  <li><strong style=\"color:green;\">Cluster 3:</strong> High-Level Performers</li>\n",
    "</ul>\n",
    "\n",
    "<h2 style=\"color:purple; font-size: 20px; font-weight:bold;\">\n",
    "  Characterizing the three clusters\n",
    "</h2>\n",
    "\n",
    "<ul style=\"color:grey;\">\n",
    "  <li>\n",
    "    <strong style=\"color:green;\">Salary: </strong> \n",
    "    Cluster 3 (High-Level Performers) has the highest average salary, indicating employees in this cluster are generally better compensated compared to the other two clusters. Cluster 2 (Mid-Level Performers) has the lowest average salary among the three clusters.\n",
    "  </li>\n",
    "   <li>\n",
    "    <strong style=\"color:green;\">Engagement and Performance: </strong> \n",
    "    Employees in Cluster 3 (High-Level Performers) and Cluster 1 (Senior-Level Performers) seem to be more engaged, as reflected in their higher engagement survey scores compared to Cluster 2 (Mid-Level Performers). This suggests that employees in these clusters might be more satisfied and committed to their work.\n",
    "  </li>\n",
    "   <li>\n",
    "    <strong style=\"color:green;\">Work Performance: </strong> \n",
    "    Cluster 3 (High-Level Performers) stands out with a higher number of special projects completed, indicating these employees are likely more involved in additional tasks or responsibilities beyond their regular duties. Cluster 2 (Mid-Level Performers) has the lowest count of special projects among the three clusters.\n",
    "  </li>\n",
    "   <li>\n",
    "    <strong style=\"color:green;\">Punctuality: </strong> \n",
    "    Employees in Cluster 3 (High-Level Performers) are the most punctual, with very few instances of being late in the last 30 days, while employees in Cluster 2 (Mid-Level Performers) are the least punctual among the three clusters.\n",
    "  </li>\n",
    "   <li>\n",
    "    <strong style=\"color:green;\">Attendance: </strong> \n",
    "    Cluster 2 (Mid-Level Performers) has the lowest average absences, suggesting employees in this cluster tend to have better attendance records compared to the other two clusters.\n",
    "  </li>\n",
    "  <li>\n",
    "    <strong style=\"color:green;\">Experience: </strong> \n",
    "    Cluster 2 (Mid-Level Performers) has slightly more experienced employees in terms of years of employment compared to the other clusters, while Cluster 3 (High-Level Performers) has the least experienced employees.\n",
    "  </li>\n",
    "  <li>\n",
    "    <strong style=\"color:green;\">Marital Status: </strong> \n",
    "    Cluster 3 (High-Level Performers) primarily consists of married employees, whereas Clusters 1 and 2 are mostly comprised of single individuals.\n",
    "  </li>\n",
    "  <li>\n",
    "    <strong style=\"color:green;\">Department: </strong> \n",
    "    Cluster 3 (High-Level Performers) is predominantly composed of employees from the IT/IS department, while Clusters 1 and 2 are mostly from the production department.\n",
    "  </li>\n",
    "  <li>\n",
    "    <strong style=\"color:green;\">Recruitment Source: </strong> \n",
    "    Cluster 2 (Mid-Level Performers) has a higher proportion of employees recruited via LinkedIn, while Clusters 1 and 3 have more employees recruited through Indeed.\n",
    "  </li>\n",
    "  <li>\n",
    "    <strong style=\"color:green;\">Job Level: </strong> \n",
    "    Cluster 2 (Mid-Level Performers) primarily comprises senior employees, while Clusters 1 and 3 consist of mid-adult to middle-aged employees.\n",
    "  </li>\n",
    "</ul>"
   ]
  },
  {
   "cell_type": "markdown",
   "metadata": {},
   "source": [
    "<h2 style=\"font-size: 20px; font-weight:bold;\">\n",
    "    The graph below illustrates that IT positions are the highest paid.\n",
    "</h2>"
   ]
  },
  {
   "cell_type": "code",
   "execution_count": 50,
   "metadata": {},
   "outputs": [
    {
     "data": {
      "application/vnd.plotly.v1+json": {
       "config": {
        "plotlyServerURL": "https://plot.ly"
       },
       "data": [
        {
         "customdata": [
          [
           "M ",
           "Junior-Experienced"
          ],
          [
           "F",
           "Junior-Experienced"
          ],
          [
           "F",
           "Junior-Experienced"
          ],
          [
           "F",
           "Junior-Experienced"
          ],
          [
           "F",
           "Junior-Experienced"
          ],
          [
           "F",
           "Junior-Experienced"
          ],
          [
           "F",
           "Junior-Experienced"
          ],
          [
           "M ",
           "Manager"
          ],
          [
           "F",
           "Junior-Experienced"
          ],
          [
           "M ",
           "Junior-Experienced"
          ],
          [
           "F",
           "Junior-Experienced"
          ],
          [
           "F",
           "Manager"
          ],
          [
           "F",
           "Junior-Experienced"
          ],
          [
           "M ",
           "Junior-Experienced"
          ],
          [
           "M ",
           "Manager"
          ],
          [
           "M ",
           "Manager"
          ],
          [
           "F",
           "Manager"
          ],
          [
           "F",
           "Junior-Experienced"
          ],
          [
           "M ",
           "Junior-Experienced"
          ],
          [
           "M ",
           "Manager"
          ],
          [
           "F",
           "Junior-Experienced"
          ],
          [
           "F",
           "Junior-Experienced"
          ],
          [
           "M ",
           "Junior-Experienced"
          ],
          [
           "F",
           "Junior-Experienced"
          ],
          [
           "M ",
           "Junior-Experienced"
          ],
          [
           "M ",
           "Manager"
          ],
          [
           "F",
           "Junior-Experienced"
          ],
          [
           "F",
           "Manager"
          ],
          [
           "M ",
           "Manager"
          ],
          [
           "F",
           "Junior-Experienced"
          ],
          [
           "F",
           "Junior-Experienced"
          ],
          [
           "F",
           "Manager"
          ],
          [
           "F",
           "Manager"
          ],
          [
           "F",
           "Junior-Experienced"
          ],
          [
           "F",
           "Junior-Experienced"
          ],
          [
           "M ",
           "Junior-Experienced"
          ],
          [
           "F",
           "Junior-Experienced"
          ],
          [
           "F",
           "Junior-Experienced"
          ],
          [
           "M ",
           "Junior-Experienced"
          ],
          [
           "M ",
           "Junior-Experienced"
          ],
          [
           "M ",
           "Manager"
          ],
          [
           "M ",
           "Manager"
          ],
          [
           "F",
           "Junior-Experienced"
          ],
          [
           "F",
           "Manager"
          ],
          [
           "M ",
           "Junior-Experienced"
          ],
          [
           "M ",
           "Junior-Experienced"
          ],
          [
           "M ",
           "Junior-Experienced"
          ],
          [
           "F",
           "Junior-Experienced"
          ],
          [
           "F",
           "Junior-Experienced"
          ],
          [
           "F",
           "Junior-Experienced"
          ],
          [
           "M ",
           "Manager"
          ],
          [
           "F",
           "Junior-Experienced"
          ],
          [
           "M ",
           "Manager"
          ],
          [
           "M ",
           "Junior-Experienced"
          ],
          [
           "F",
           "Junior-Experienced"
          ],
          [
           "F",
           "Junior-Experienced"
          ],
          [
           "M ",
           "Manager"
          ],
          [
           "F",
           "Junior-Experienced"
          ],
          [
           "F",
           "Junior-Experienced"
          ],
          [
           "F",
           "Junior-Experienced"
          ],
          [
           "F",
           "Junior-Experienced"
          ],
          [
           "F",
           "Junior-Experienced"
          ],
          [
           "F",
           "Junior-Experienced"
          ],
          [
           "F",
           "Junior-Experienced"
          ],
          [
           "F",
           "Junior-Experienced"
          ],
          [
           "F",
           "Junior-Experienced"
          ],
          [
           "F",
           "Manager"
          ],
          [
           "M ",
           "Manager"
          ],
          [
           "M ",
           "Junior-Experienced"
          ],
          [
           "M ",
           "Manager"
          ],
          [
           "F",
           "Junior-Experienced"
          ],
          [
           "M ",
           "Junior-Experienced"
          ],
          [
           "M ",
           "Junior-Experienced"
          ],
          [
           "F",
           "Senior"
          ],
          [
           "F",
           "Junior-Experienced"
          ],
          [
           "M ",
           "Junior-Experienced"
          ],
          [
           "M ",
           "Manager"
          ],
          [
           "F",
           "Manager"
          ],
          [
           "M ",
           "Junior-Experienced"
          ],
          [
           "F",
           "Junior-Experienced"
          ],
          [
           "F",
           "Junior-Experienced"
          ],
          [
           "F",
           "Junior-Experienced"
          ],
          [
           "F",
           "Junior-Experienced"
          ],
          [
           "F",
           "Junior-Experienced"
          ],
          [
           "F",
           "Junior-Experienced"
          ],
          [
           "M ",
           "Manager"
          ],
          [
           "F",
           "Junior-Experienced"
          ],
          [
           "F",
           "Junior-Experienced"
          ],
          [
           "M ",
           "Junior-Experienced"
          ],
          [
           "F",
           "Junior-Experienced"
          ],
          [
           "M ",
           "Junior-Experienced"
          ],
          [
           "F",
           "Manager"
          ],
          [
           "F",
           "Junior-Experienced"
          ],
          [
           "F",
           "Junior-Experienced"
          ],
          [
           "F",
           "Junior-Experienced"
          ],
          [
           "F",
           "Manager"
          ],
          [
           "M ",
           "Manager"
          ],
          [
           "F",
           "Junior-Experienced"
          ],
          [
           "F",
           "Junior-Experienced"
          ],
          [
           "F",
           "Manager"
          ],
          [
           "F",
           "Junior-Experienced"
          ],
          [
           "M ",
           "Junior-Experienced"
          ],
          [
           "F",
           "Manager"
          ],
          [
           "M ",
           "Junior-Experienced"
          ],
          [
           "M ",
           "Manager"
          ],
          [
           "F",
           "Junior-Experienced"
          ],
          [
           "F",
           "Junior-Experienced"
          ],
          [
           "M ",
           "Junior-Experienced"
          ],
          [
           "F",
           "Junior-Experienced"
          ],
          [
           "F",
           "Junior-Experienced"
          ],
          [
           "M ",
           "Junior-Experienced"
          ],
          [
           "M ",
           "Manager"
          ],
          [
           "F",
           "Junior-Experienced"
          ],
          [
           "F",
           "Junior-Experienced"
          ],
          [
           "F",
           "Manager"
          ],
          [
           "F",
           "Junior-Experienced"
          ],
          [
           "M ",
           "Junior-Experienced"
          ],
          [
           "M ",
           "Junior-Experienced"
          ],
          [
           "F",
           "Manager"
          ],
          [
           "F",
           "Manager"
          ],
          [
           "M ",
           "Junior-Experienced"
          ],
          [
           "F",
           "Junior-Experienced"
          ],
          [
           "F",
           "Junior-Experienced"
          ],
          [
           "M ",
           "Junior-Experienced"
          ],
          [
           "M ",
           "Manager"
          ],
          [
           "F",
           "Junior-Experienced"
          ],
          [
           "M ",
           "Junior-Experienced"
          ],
          [
           "F",
           "Junior-Experienced"
          ],
          [
           "M ",
           "Junior-Experienced"
          ],
          [
           "F",
           "Junior-Experienced"
          ],
          [
           "M ",
           "Junior-Experienced"
          ],
          [
           "F",
           "Manager"
          ],
          [
           "F",
           "Junior-Experienced"
          ],
          [
           "M ",
           "Junior-Experienced"
          ],
          [
           "F",
           "Junior-Experienced"
          ],
          [
           "M ",
           "Junior-Experienced"
          ]
         ],
         "hovertemplate": "Cluster=1<br>Salary=%{x}<br>Department=%{y}<br>Sex=%{customdata[0]}<br>JobLevel=%{customdata[1]}<extra></extra>",
         "legendgroup": "1",
         "marker": {
          "color": "#636efa",
          "symbol": "circle"
         },
         "mode": "markers",
         "name": "1",
         "orientation": "h",
         "showlegend": true,
         "type": "scatter",
         "x": [
          62506,
          64955,
          64991,
          70131,
          64919,
          62910,
          66441,
          74312,
          63000,
          65288,
          64375,
          74326,
          63763,
          62162,
          77692,
          72640,
          71860,
          61656,
          60380,
          66808,
          64786,
          64816,
          68678,
          64066,
          63108,
          68051,
          63381,
          65729,
          61568,
          61584,
          70621,
          74241,
          75188,
          62514,
          60070,
          60340,
          71776,
          65902,
          64057,
          72609,
          70187,
          67251,
          65707,
          61555,
          74679,
          59892,
          68898,
          61242,
          66825,
          66149,
          62957,
          63813,
          71707,
          64246,
          62065,
          68099,
          70545,
          63478,
          69340,
          64995,
          68182,
          61242,
          60724,
          60436,
          63322,
          61154,
          68999,
          65310,
          63973,
          71339,
          66074,
          64520,
          61962,
          81584,
          63676,
          64738,
          70468,
          77915,
          63450,
          67237,
          73330,
          62385,
          68407,
          61349,
          62810,
          63291,
          62659,
          72460,
          72106,
          63430,
          74417,
          63695,
          62061,
          66738,
          71966,
          63051,
          68829,
          63515,
          60270,
          74669,
          74226,
          64724,
          61844,
          61729,
          61809,
          64971,
          61422,
          63353,
          60627,
          63878,
          60656,
          72992,
          66593,
          64021,
          65714,
          62425,
          63003,
          61355,
          60120,
          63682,
          63025,
          60754,
          72202,
          67176,
          64397,
          63025,
          75281,
          74813,
          76029,
          62068,
          66541,
          80512,
          59728,
          70507,
          60446,
          65893
         ],
         "xaxis": "x",
         "y": [
          "Production       ",
          "Production       ",
          "Production       ",
          "Production       ",
          "Production       ",
          "Production       ",
          "Production       ",
          "Production       ",
          "Admin Offices",
          "Production       ",
          "Production       ",
          "Sales",
          "Production       ",
          "Production       ",
          "Software Engineering",
          "Production       ",
          "Sales",
          "Production       ",
          "Production       ",
          "Sales",
          "Production       ",
          "Production       ",
          "IT/IS",
          "Production       ",
          "Production       ",
          "Production       ",
          "Production       ",
          "Sales",
          "Sales",
          "Production       ",
          "IT/IS",
          "Sales",
          "Production       ",
          "Production       ",
          "Production       ",
          "Production       ",
          "Production       ",
          "Production       ",
          "Production       ",
          "Production       ",
          "Sales",
          "Sales",
          "IT/IS",
          "Sales",
          "IT/IS",
          "Production       ",
          "Production       ",
          "IT/IS",
          "Production       ",
          "Production       ",
          "Production       ",
          "Production       ",
          "Sales",
          "Production       ",
          "Production       ",
          "Production       ",
          "Sales",
          "Production       ",
          "Production       ",
          "Production       ",
          "Production       ",
          "Production       ",
          "Production       ",
          "Production       ",
          "Production       ",
          "Production       ",
          "Sales",
          "Sales",
          "Production       ",
          "Sales",
          "Production       ",
          "Admin Offices",
          "Production       ",
          "IT/IS",
          "Production       ",
          "Production       ",
          "Sales",
          "Production       ",
          "Production       ",
          "Production       ",
          "Production       ",
          "Production       ",
          "Production       ",
          "Production       ",
          "Production       ",
          "Sales",
          "Production       ",
          "Production       ",
          "Production       ",
          "Production       ",
          "Production       ",
          "Sales",
          "Production       ",
          "Production       ",
          "Production       ",
          "Sales",
          "Sales",
          "Production       ",
          "Production       ",
          "Production       ",
          "Production       ",
          "Production       ",
          "Sales",
          "Production       ",
          "Sales",
          "Production       ",
          "Production       ",
          "Production       ",
          "Production       ",
          "Production       ",
          "Production       ",
          "Sales",
          "IT/IS",
          "Production       ",
          "Production       ",
          "Production       ",
          "Admin Offices",
          "Production       ",
          "Sales",
          "Production       ",
          "Production       ",
          "Production       ",
          "Production       ",
          "Production       ",
          "Sales",
          "Production       ",
          "IT/IS",
          "Production       ",
          "IT/IS",
          "Production       ",
          "Production       ",
          "Production       ",
          "Production       ",
          "Production       ",
          "Production       ",
          "Production       "
         ],
         "yaxis": "y"
        },
        {
         "customdata": [
          [
           "M ",
           "Senior"
          ],
          [
           "F",
           "Junior-Experienced"
          ],
          [
           "M ",
           "Junior-Experienced"
          ],
          [
           "F",
           "Junior-Experienced"
          ],
          [
           "M ",
           "Junior-Experienced"
          ],
          [
           "F",
           "Senior"
          ],
          [
           "F",
           "Junior-Experienced"
          ],
          [
           "F",
           "Senior"
          ],
          [
           "M ",
           "Director"
          ],
          [
           "M ",
           "Director"
          ],
          [
           "M ",
           "Junior-Experienced"
          ],
          [
           "M ",
           "Senior"
          ],
          [
           "F",
           "Senior"
          ],
          [
           "F",
           "Junior-Experienced"
          ],
          [
           "M ",
           "Junior-Experienced"
          ],
          [
           "M ",
           "Manager"
          ],
          [
           "F",
           "Junior-Experienced"
          ],
          [
           "M ",
           "Director"
          ],
          [
           "F",
           "Senior"
          ],
          [
           "F",
           "Junior-Experienced"
          ],
          [
           "M ",
           "Junior-Experienced"
          ],
          [
           "F",
           "Junior-Experienced"
          ],
          [
           "F",
           "Director"
          ],
          [
           "M ",
           "Manager"
          ],
          [
           "F",
           "Junior-Experienced"
          ],
          [
           "F",
           "C-Level"
          ],
          [
           "M ",
           "Senior"
          ],
          [
           "M ",
           "Manager"
          ],
          [
           "M ",
           "Manager"
          ],
          [
           "F",
           "Junior-Experienced"
          ],
          [
           "M ",
           "Manager"
          ],
          [
           "M ",
           "Manager"
          ],
          [
           "M ",
           "Senior"
          ],
          [
           "M ",
           "Junior-Experienced"
          ],
          [
           "M ",
           "Junior-Experienced"
          ],
          [
           "F",
           "Junior-Experienced"
          ],
          [
           "M ",
           "Junior-Experienced"
          ],
          [
           "F",
           "Junior-Experienced"
          ],
          [
           "F",
           "Junior-Experienced"
          ],
          [
           "F",
           "Junior-Experienced"
          ],
          [
           "F",
           "Junior-Experienced"
          ],
          [
           "M ",
           "Manager"
          ],
          [
           "M ",
           "Manager"
          ],
          [
           "F",
           "Junior-Experienced"
          ],
          [
           "M ",
           "Junior-Experienced"
          ],
          [
           "M ",
           "Junior-Experienced"
          ],
          [
           "M ",
           "Senior"
          ],
          [
           "M ",
           "Junior-Experienced"
          ],
          [
           "M ",
           "Junior-Experienced"
          ],
          [
           "M ",
           "Junior-Experienced"
          ],
          [
           "M ",
           "Manager"
          ],
          [
           "M ",
           "Junior-Experienced"
          ],
          [
           "M ",
           "Senior"
          ],
          [
           "F",
           "Senior"
          ],
          [
           "F",
           "C-Level"
          ],
          [
           "F",
           "Junior-Experienced"
          ]
         ],
         "hovertemplate": "Cluster=2<br>Salary=%{x}<br>Department=%{y}<br>Sex=%{customdata[0]}<br>JobLevel=%{customdata[1]}<extra></extra>",
         "legendgroup": "2",
         "marker": {
          "color": "#EF553B",
          "symbol": "circle"
         },
         "mode": "markers",
         "name": "2",
         "orientation": "h",
         "showlegend": true,
         "type": "scatter",
         "x": [
          104437,
          95660,
          92328,
          108987,
          103613,
          106367,
          93396,
          100031,
          108987,
          108987,
          83552,
          92329,
          85028,
          101199,
          96820,
          108987,
          99280,
          108987,
          99351,
          108987,
          99020,
          97999,
          108987,
          83082,
          105700,
          108987,
          93206,
          82758,
          93046,
          105688,
          83667,
          108987,
          87921,
          108987,
          93093,
          93554,
          83363,
          95920,
          89883,
          108987,
          108987,
          108987,
          108987,
          86214,
          88527,
          87826,
          87565,
          92989,
          90100,
          100416,
          88976,
          108987,
          84903,
          107226,
          108987,
          89292
         ],
         "xaxis": "x",
         "y": [
          "IT/IS",
          "Software Engineering",
          "IT/IS",
          "IT/IS",
          "IT/IS",
          "Admin Offices",
          "Software Engineering",
          "IT/IS",
          "IT/IS",
          "Production       ",
          "IT/IS",
          "IT/IS",
          "IT/IS",
          "Software Engineering",
          "IT/IS",
          "IT/IS",
          "Software Engineering",
          "IT/IS",
          "Admin Offices",
          "IT/IS",
          "IT/IS",
          "IT/IS",
          "Sales",
          "Production       ",
          "IT/IS",
          "Executive Office",
          "IT/IS",
          "Production       ",
          "Admin Offices",
          "Software Engineering",
          "Production       ",
          "IT/IS",
          "IT/IS",
          "Software Engineering",
          "IT/IS",
          "IT/IS",
          "Software Engineering",
          "IT/IS",
          "IT/IS",
          "IT/IS",
          "IT/IS",
          "IT/IS",
          "IT/IS",
          "Software Engineering",
          "IT/IS",
          "IT/IS",
          "IT/IS",
          "Software Engineering",
          "IT/IS",
          "Software Engineering",
          "Production       ",
          "IT/IS",
          "IT/IS",
          "IT/IS",
          "IT/IS",
          "IT/IS"
         ],
         "yaxis": "y"
        },
        {
         "customdata": [
          [
           "F",
           "Junior-Experienced"
          ],
          [
           "F",
           "Junior-Experienced"
          ],
          [
           "M ",
           "Junior-Experienced"
          ],
          [
           "F",
           "Junior-Experienced"
          ],
          [
           "M ",
           "Junior-Experienced"
          ],
          [
           "F",
           "Junior-Experienced"
          ],
          [
           "M ",
           "Junior-Experienced"
          ],
          [
           "M ",
           "Junior-Experienced"
          ],
          [
           "M ",
           "Junior-Experienced"
          ],
          [
           "M ",
           "Junior-Experienced"
          ],
          [
           "F",
           "Junior-Experienced"
          ],
          [
           "M ",
           "Junior-Experienced"
          ],
          [
           "M ",
           "Junior-Experienced"
          ],
          [
           "F",
           "Junior-Experienced"
          ],
          [
           "F",
           "Junior-Experienced"
          ],
          [
           "M ",
           "Junior-Experienced"
          ],
          [
           "F",
           "Junior-Experienced"
          ],
          [
           "M ",
           "Junior-Experienced"
          ],
          [
           "M ",
           "Junior-Experienced"
          ],
          [
           "M ",
           "Junior-Experienced"
          ],
          [
           "F",
           "Junior-Experienced"
          ],
          [
           "F",
           "Junior-Experienced"
          ],
          [
           "M ",
           "Junior-Experienced"
          ],
          [
           "M ",
           "Junior-Experienced"
          ],
          [
           "M ",
           "Junior-Experienced"
          ],
          [
           "F",
           "Junior-Experienced"
          ],
          [
           "M ",
           "Junior-Experienced"
          ],
          [
           "M ",
           "Junior-Experienced"
          ],
          [
           "F",
           "Manager"
          ],
          [
           "F",
           "Junior-Experienced"
          ],
          [
           "M ",
           "Junior-Experienced"
          ],
          [
           "M ",
           "Junior-Experienced"
          ],
          [
           "F",
           "Junior-Experienced"
          ],
          [
           "F",
           "Junior-Experienced"
          ],
          [
           "F",
           "Junior-Experienced"
          ],
          [
           "M ",
           "Junior-Experienced"
          ],
          [
           "F",
           "Junior-Experienced"
          ],
          [
           "F",
           "Junior-Experienced"
          ],
          [
           "M ",
           "Junior-Experienced"
          ],
          [
           "F",
           "Junior-Experienced"
          ],
          [
           "F",
           "Junior-Experienced"
          ],
          [
           "F",
           "Junior-Experienced"
          ],
          [
           "F",
           "Manager"
          ],
          [
           "M ",
           "Junior-Experienced"
          ],
          [
           "F",
           "Junior-Experienced"
          ],
          [
           "F",
           "Junior-Experienced"
          ],
          [
           "M ",
           "Junior-Experienced"
          ],
          [
           "F",
           "Junior-Experienced"
          ],
          [
           "F",
           "Junior-Experienced"
          ],
          [
           "F",
           "Junior-Experienced"
          ],
          [
           "M ",
           "Junior-Experienced"
          ],
          [
           "F",
           "Junior-Experienced"
          ],
          [
           "F",
           "Junior-Experienced"
          ],
          [
           "F",
           "Junior-Experienced"
          ],
          [
           "F",
           "Junior-Experienced"
          ],
          [
           "M ",
           "Junior-Experienced"
          ],
          [
           "M ",
           "Junior-Experienced"
          ],
          [
           "F",
           "Junior-Experienced"
          ],
          [
           "F",
           "Junior-Experienced"
          ],
          [
           "M ",
           "Junior-Experienced"
          ],
          [
           "M ",
           "Junior-Experienced"
          ],
          [
           "F",
           "Junior-Experienced"
          ],
          [
           "F",
           "Junior-Experienced"
          ],
          [
           "F",
           "Junior-Experienced"
          ],
          [
           "F",
           "Junior-Experienced"
          ],
          [
           "M ",
           "Junior-Experienced"
          ],
          [
           "F",
           "Junior-Experienced"
          ],
          [
           "F",
           "Junior-Experienced"
          ],
          [
           "F",
           "Junior-Experienced"
          ],
          [
           "F",
           "Junior-Experienced"
          ],
          [
           "M ",
           "Junior-Experienced"
          ],
          [
           "M ",
           "Junior-Experienced"
          ],
          [
           "F",
           "Junior-Experienced"
          ],
          [
           "M ",
           "Junior-Experienced"
          ],
          [
           "M ",
           "Junior-Experienced"
          ],
          [
           "M ",
           "Junior-Experienced"
          ],
          [
           "M ",
           "Junior-Experienced"
          ],
          [
           "F",
           "Junior-Experienced"
          ],
          [
           "F",
           "Junior-Experienced"
          ],
          [
           "M ",
           "Junior-Experienced"
          ],
          [
           "M ",
           "Junior-Experienced"
          ],
          [
           "M ",
           "Junior-Experienced"
          ],
          [
           "F",
           "Junior-Experienced"
          ],
          [
           "F",
           "Junior-Experienced"
          ],
          [
           "M ",
           "Junior-Experienced"
          ],
          [
           "F",
           "Junior-Experienced"
          ],
          [
           "M ",
           "Junior-Experienced"
          ],
          [
           "F",
           "Junior-Experienced"
          ],
          [
           "M ",
           "Junior-Experienced"
          ],
          [
           "F",
           "Junior-Experienced"
          ],
          [
           "M ",
           "Junior-Experienced"
          ],
          [
           "M ",
           "Junior-Experienced"
          ],
          [
           "M ",
           "Junior-Experienced"
          ],
          [
           "F",
           "Junior-Experienced"
          ],
          [
           "M ",
           "Junior-Experienced"
          ],
          [
           "M ",
           "Junior-Experienced"
          ],
          [
           "F",
           "Junior-Experienced"
          ],
          [
           "F",
           "Junior-Experienced"
          ],
          [
           "F",
           "Junior-Experienced"
          ],
          [
           "F",
           "Junior-Experienced"
          ],
          [
           "F",
           "Junior-Experienced"
          ],
          [
           "F",
           "Junior-Experienced"
          ],
          [
           "F",
           "Junior-Experienced"
          ],
          [
           "F",
           "Junior-Experienced"
          ],
          [
           "M ",
           "Manager"
          ],
          [
           "F",
           "Junior-Experienced"
          ],
          [
           "F",
           "Manager"
          ],
          [
           "F",
           "Junior-Experienced"
          ],
          [
           "F",
           "Junior-Experienced"
          ],
          [
           "F",
           "Manager"
          ],
          [
           "M ",
           "Junior-Experienced"
          ],
          [
           "M ",
           "Manager"
          ],
          [
           "F",
           "Junior-Experienced"
          ],
          [
           "F",
           "Junior-Experienced"
          ],
          [
           "M ",
           "Junior-Experienced"
          ],
          [
           "M ",
           "Junior-Experienced"
          ],
          [
           "F",
           "Junior-Experienced"
          ],
          [
           "F",
           "Junior-Experienced"
          ],
          [
           "F",
           "Junior-Experienced"
          ]
         ],
         "hovertemplate": "Cluster=0<br>Salary=%{x}<br>Department=%{y}<br>Sex=%{customdata[0]}<br>JobLevel=%{customdata[1]}<extra></extra>",
         "legendgroup": "0",
         "marker": {
          "color": "#00cc96",
          "symbol": "circle"
         },
         "mode": "markers",
         "name": "0",
         "orientation": "h",
         "showlegend": true,
         "type": "scatter",
         "x": [
          50825,
          57568,
          59365,
          47837,
          50178,
          54670,
          47211,
          58709,
          52505,
          57834,
          59026,
          53250,
          51044,
          57815,
          53492,
          52846,
          54237,
          59369,
          50373,
          59144,
          56149,
          57583,
          56294,
          56991,
          55722,
          58275,
          53189,
          51259,
          59231,
          46998,
          48888,
          54285,
          56847,
          59124,
          57748,
          53366,
          58530,
          55965,
          52249,
          53171,
          51337,
          51505,
          59370,
          54933,
          57815,
          53018,
          48285,
          49256,
          54828,
          52177,
          46998,
          49920,
          55425,
          51908,
          46998,
          46998,
          50482,
          54005,
          46998,
          46998,
          46998,
          52624,
          51777,
          52057,
          47434,
          52788,
          46998,
          54132,
          55315,
          55688,
          55800,
          58207,
          52599,
          57575,
          50470,
          46998,
          48495,
          52984,
          52674,
          47414,
          53060,
          53564,
          46998,
          57954,
          47001,
          46998,
          59472,
          46998,
          46998,
          46998,
          55578,
          50428,
          53180,
          47750,
          46998,
          57975,
          56147,
          50923,
          50750,
          52087,
          51920,
          55000,
          58939,
          47961,
          58273,
          59238,
          58370,
          48413,
          56339,
          57859,
          58523,
          55875,
          49773,
          50274,
          58371,
          55140,
          58062,
          48513,
          46998
         ],
         "xaxis": "x",
         "y": [
          "Production       ",
          "Production       ",
          "Production       ",
          "Production       ",
          "IT/IS",
          "Production       ",
          "Production       ",
          "Production       ",
          "Production       ",
          "Production       ",
          "Production       ",
          "Production       ",
          "Production       ",
          "Production       ",
          "Production       ",
          "Production       ",
          "Production       ",
          "Production       ",
          "Production       ",
          "Production       ",
          "Production       ",
          "Production       ",
          "Production       ",
          "Production       ",
          "Production       ",
          "Production       ",
          "Production       ",
          "Production       ",
          "Sales",
          "Production       ",
          "Production       ",
          "Production       ",
          "Production       ",
          "Production       ",
          "Production       ",
          "IT/IS",
          "Production       ",
          "Production       ",
          "Production       ",
          "Production       ",
          "Production       ",
          "Production       ",
          "Sales",
          "Production       ",
          "Production       ",
          "Production       ",
          "Production       ",
          "Production       ",
          "Production       ",
          "Production       ",
          "Production       ",
          "Admin Offices",
          "Production       ",
          "Production       ",
          "Production       ",
          "Production       ",
          "Production       ",
          "Production       ",
          "Production       ",
          "Production       ",
          "Production       ",
          "Production       ",
          "IT/IS",
          "Production       ",
          "Production       ",
          "Production       ",
          "Production       ",
          "Production       ",
          "Production       ",
          "Production       ",
          "Production       ",
          "Production       ",
          "IT/IS",
          "Production       ",
          "Production       ",
          "Production       ",
          "Production       ",
          "Production       ",
          "Production       ",
          "Production       ",
          "Production       ",
          "Production       ",
          "Production       ",
          "Production       ",
          "Production       ",
          "Production       ",
          "Production       ",
          "Production       ",
          "Production       ",
          "Production       ",
          "Production       ",
          "Production       ",
          "Production       ",
          "Production       ",
          "Production       ",
          "Production       ",
          "Production       ",
          "Production       ",
          "IT/IS",
          "Production       ",
          "Admin Offices",
          "Admin Offices",
          "Production       ",
          "Production       ",
          "Sales",
          "Production       ",
          "Sales",
          "Production       ",
          "Production       ",
          "Sales",
          "Production       ",
          "Sales",
          "Production       ",
          "Production       ",
          "Production       ",
          "Production       ",
          "Production       ",
          "Production       ",
          "Production       "
         ],
         "yaxis": "y"
        }
       ],
       "layout": {
        "legend": {
         "title": {
          "text": "Cluster"
         },
         "tracegroupgap": 0
        },
        "template": {
         "data": {
          "bar": [
           {
            "error_x": {
             "color": "#2a3f5f"
            },
            "error_y": {
             "color": "#2a3f5f"
            },
            "marker": {
             "line": {
              "color": "#E5ECF6",
              "width": 0.5
             },
             "pattern": {
              "fillmode": "overlay",
              "size": 10,
              "solidity": 0.2
             }
            },
            "type": "bar"
           }
          ],
          "barpolar": [
           {
            "marker": {
             "line": {
              "color": "#E5ECF6",
              "width": 0.5
             },
             "pattern": {
              "fillmode": "overlay",
              "size": 10,
              "solidity": 0.2
             }
            },
            "type": "barpolar"
           }
          ],
          "carpet": [
           {
            "aaxis": {
             "endlinecolor": "#2a3f5f",
             "gridcolor": "white",
             "linecolor": "white",
             "minorgridcolor": "white",
             "startlinecolor": "#2a3f5f"
            },
            "baxis": {
             "endlinecolor": "#2a3f5f",
             "gridcolor": "white",
             "linecolor": "white",
             "minorgridcolor": "white",
             "startlinecolor": "#2a3f5f"
            },
            "type": "carpet"
           }
          ],
          "choropleth": [
           {
            "colorbar": {
             "outlinewidth": 0,
             "ticks": ""
            },
            "type": "choropleth"
           }
          ],
          "contour": [
           {
            "colorbar": {
             "outlinewidth": 0,
             "ticks": ""
            },
            "colorscale": [
             [
              0,
              "#0d0887"
             ],
             [
              0.1111111111111111,
              "#46039f"
             ],
             [
              0.2222222222222222,
              "#7201a8"
             ],
             [
              0.3333333333333333,
              "#9c179e"
             ],
             [
              0.4444444444444444,
              "#bd3786"
             ],
             [
              0.5555555555555556,
              "#d8576b"
             ],
             [
              0.6666666666666666,
              "#ed7953"
             ],
             [
              0.7777777777777778,
              "#fb9f3a"
             ],
             [
              0.8888888888888888,
              "#fdca26"
             ],
             [
              1,
              "#f0f921"
             ]
            ],
            "type": "contour"
           }
          ],
          "contourcarpet": [
           {
            "colorbar": {
             "outlinewidth": 0,
             "ticks": ""
            },
            "type": "contourcarpet"
           }
          ],
          "heatmap": [
           {
            "colorbar": {
             "outlinewidth": 0,
             "ticks": ""
            },
            "colorscale": [
             [
              0,
              "#0d0887"
             ],
             [
              0.1111111111111111,
              "#46039f"
             ],
             [
              0.2222222222222222,
              "#7201a8"
             ],
             [
              0.3333333333333333,
              "#9c179e"
             ],
             [
              0.4444444444444444,
              "#bd3786"
             ],
             [
              0.5555555555555556,
              "#d8576b"
             ],
             [
              0.6666666666666666,
              "#ed7953"
             ],
             [
              0.7777777777777778,
              "#fb9f3a"
             ],
             [
              0.8888888888888888,
              "#fdca26"
             ],
             [
              1,
              "#f0f921"
             ]
            ],
            "type": "heatmap"
           }
          ],
          "heatmapgl": [
           {
            "colorbar": {
             "outlinewidth": 0,
             "ticks": ""
            },
            "colorscale": [
             [
              0,
              "#0d0887"
             ],
             [
              0.1111111111111111,
              "#46039f"
             ],
             [
              0.2222222222222222,
              "#7201a8"
             ],
             [
              0.3333333333333333,
              "#9c179e"
             ],
             [
              0.4444444444444444,
              "#bd3786"
             ],
             [
              0.5555555555555556,
              "#d8576b"
             ],
             [
              0.6666666666666666,
              "#ed7953"
             ],
             [
              0.7777777777777778,
              "#fb9f3a"
             ],
             [
              0.8888888888888888,
              "#fdca26"
             ],
             [
              1,
              "#f0f921"
             ]
            ],
            "type": "heatmapgl"
           }
          ],
          "histogram": [
           {
            "marker": {
             "pattern": {
              "fillmode": "overlay",
              "size": 10,
              "solidity": 0.2
             }
            },
            "type": "histogram"
           }
          ],
          "histogram2d": [
           {
            "colorbar": {
             "outlinewidth": 0,
             "ticks": ""
            },
            "colorscale": [
             [
              0,
              "#0d0887"
             ],
             [
              0.1111111111111111,
              "#46039f"
             ],
             [
              0.2222222222222222,
              "#7201a8"
             ],
             [
              0.3333333333333333,
              "#9c179e"
             ],
             [
              0.4444444444444444,
              "#bd3786"
             ],
             [
              0.5555555555555556,
              "#d8576b"
             ],
             [
              0.6666666666666666,
              "#ed7953"
             ],
             [
              0.7777777777777778,
              "#fb9f3a"
             ],
             [
              0.8888888888888888,
              "#fdca26"
             ],
             [
              1,
              "#f0f921"
             ]
            ],
            "type": "histogram2d"
           }
          ],
          "histogram2dcontour": [
           {
            "colorbar": {
             "outlinewidth": 0,
             "ticks": ""
            },
            "colorscale": [
             [
              0,
              "#0d0887"
             ],
             [
              0.1111111111111111,
              "#46039f"
             ],
             [
              0.2222222222222222,
              "#7201a8"
             ],
             [
              0.3333333333333333,
              "#9c179e"
             ],
             [
              0.4444444444444444,
              "#bd3786"
             ],
             [
              0.5555555555555556,
              "#d8576b"
             ],
             [
              0.6666666666666666,
              "#ed7953"
             ],
             [
              0.7777777777777778,
              "#fb9f3a"
             ],
             [
              0.8888888888888888,
              "#fdca26"
             ],
             [
              1,
              "#f0f921"
             ]
            ],
            "type": "histogram2dcontour"
           }
          ],
          "mesh3d": [
           {
            "colorbar": {
             "outlinewidth": 0,
             "ticks": ""
            },
            "type": "mesh3d"
           }
          ],
          "parcoords": [
           {
            "line": {
             "colorbar": {
              "outlinewidth": 0,
              "ticks": ""
             }
            },
            "type": "parcoords"
           }
          ],
          "pie": [
           {
            "automargin": true,
            "type": "pie"
           }
          ],
          "scatter": [
           {
            "fillpattern": {
             "fillmode": "overlay",
             "size": 10,
             "solidity": 0.2
            },
            "type": "scatter"
           }
          ],
          "scatter3d": [
           {
            "line": {
             "colorbar": {
              "outlinewidth": 0,
              "ticks": ""
             }
            },
            "marker": {
             "colorbar": {
              "outlinewidth": 0,
              "ticks": ""
             }
            },
            "type": "scatter3d"
           }
          ],
          "scattercarpet": [
           {
            "marker": {
             "colorbar": {
              "outlinewidth": 0,
              "ticks": ""
             }
            },
            "type": "scattercarpet"
           }
          ],
          "scattergeo": [
           {
            "marker": {
             "colorbar": {
              "outlinewidth": 0,
              "ticks": ""
             }
            },
            "type": "scattergeo"
           }
          ],
          "scattergl": [
           {
            "marker": {
             "colorbar": {
              "outlinewidth": 0,
              "ticks": ""
             }
            },
            "type": "scattergl"
           }
          ],
          "scattermapbox": [
           {
            "marker": {
             "colorbar": {
              "outlinewidth": 0,
              "ticks": ""
             }
            },
            "type": "scattermapbox"
           }
          ],
          "scatterpolar": [
           {
            "marker": {
             "colorbar": {
              "outlinewidth": 0,
              "ticks": ""
             }
            },
            "type": "scatterpolar"
           }
          ],
          "scatterpolargl": [
           {
            "marker": {
             "colorbar": {
              "outlinewidth": 0,
              "ticks": ""
             }
            },
            "type": "scatterpolargl"
           }
          ],
          "scatterternary": [
           {
            "marker": {
             "colorbar": {
              "outlinewidth": 0,
              "ticks": ""
             }
            },
            "type": "scatterternary"
           }
          ],
          "surface": [
           {
            "colorbar": {
             "outlinewidth": 0,
             "ticks": ""
            },
            "colorscale": [
             [
              0,
              "#0d0887"
             ],
             [
              0.1111111111111111,
              "#46039f"
             ],
             [
              0.2222222222222222,
              "#7201a8"
             ],
             [
              0.3333333333333333,
              "#9c179e"
             ],
             [
              0.4444444444444444,
              "#bd3786"
             ],
             [
              0.5555555555555556,
              "#d8576b"
             ],
             [
              0.6666666666666666,
              "#ed7953"
             ],
             [
              0.7777777777777778,
              "#fb9f3a"
             ],
             [
              0.8888888888888888,
              "#fdca26"
             ],
             [
              1,
              "#f0f921"
             ]
            ],
            "type": "surface"
           }
          ],
          "table": [
           {
            "cells": {
             "fill": {
              "color": "#EBF0F8"
             },
             "line": {
              "color": "white"
             }
            },
            "header": {
             "fill": {
              "color": "#C8D4E3"
             },
             "line": {
              "color": "white"
             }
            },
            "type": "table"
           }
          ]
         },
         "layout": {
          "annotationdefaults": {
           "arrowcolor": "#2a3f5f",
           "arrowhead": 0,
           "arrowwidth": 1
          },
          "autotypenumbers": "strict",
          "coloraxis": {
           "colorbar": {
            "outlinewidth": 0,
            "ticks": ""
           }
          },
          "colorscale": {
           "diverging": [
            [
             0,
             "#8e0152"
            ],
            [
             0.1,
             "#c51b7d"
            ],
            [
             0.2,
             "#de77ae"
            ],
            [
             0.3,
             "#f1b6da"
            ],
            [
             0.4,
             "#fde0ef"
            ],
            [
             0.5,
             "#f7f7f7"
            ],
            [
             0.6,
             "#e6f5d0"
            ],
            [
             0.7,
             "#b8e186"
            ],
            [
             0.8,
             "#7fbc41"
            ],
            [
             0.9,
             "#4d9221"
            ],
            [
             1,
             "#276419"
            ]
           ],
           "sequential": [
            [
             0,
             "#0d0887"
            ],
            [
             0.1111111111111111,
             "#46039f"
            ],
            [
             0.2222222222222222,
             "#7201a8"
            ],
            [
             0.3333333333333333,
             "#9c179e"
            ],
            [
             0.4444444444444444,
             "#bd3786"
            ],
            [
             0.5555555555555556,
             "#d8576b"
            ],
            [
             0.6666666666666666,
             "#ed7953"
            ],
            [
             0.7777777777777778,
             "#fb9f3a"
            ],
            [
             0.8888888888888888,
             "#fdca26"
            ],
            [
             1,
             "#f0f921"
            ]
           ],
           "sequentialminus": [
            [
             0,
             "#0d0887"
            ],
            [
             0.1111111111111111,
             "#46039f"
            ],
            [
             0.2222222222222222,
             "#7201a8"
            ],
            [
             0.3333333333333333,
             "#9c179e"
            ],
            [
             0.4444444444444444,
             "#bd3786"
            ],
            [
             0.5555555555555556,
             "#d8576b"
            ],
            [
             0.6666666666666666,
             "#ed7953"
            ],
            [
             0.7777777777777778,
             "#fb9f3a"
            ],
            [
             0.8888888888888888,
             "#fdca26"
            ],
            [
             1,
             "#f0f921"
            ]
           ]
          },
          "colorway": [
           "#636efa",
           "#EF553B",
           "#00cc96",
           "#ab63fa",
           "#FFA15A",
           "#19d3f3",
           "#FF6692",
           "#B6E880",
           "#FF97FF",
           "#FECB52"
          ],
          "font": {
           "color": "#2a3f5f"
          },
          "geo": {
           "bgcolor": "white",
           "lakecolor": "white",
           "landcolor": "#E5ECF6",
           "showlakes": true,
           "showland": true,
           "subunitcolor": "white"
          },
          "hoverlabel": {
           "align": "left"
          },
          "hovermode": "closest",
          "mapbox": {
           "style": "light"
          },
          "paper_bgcolor": "white",
          "plot_bgcolor": "#E5ECF6",
          "polar": {
           "angularaxis": {
            "gridcolor": "white",
            "linecolor": "white",
            "ticks": ""
           },
           "bgcolor": "#E5ECF6",
           "radialaxis": {
            "gridcolor": "white",
            "linecolor": "white",
            "ticks": ""
           }
          },
          "scene": {
           "xaxis": {
            "backgroundcolor": "#E5ECF6",
            "gridcolor": "white",
            "gridwidth": 2,
            "linecolor": "white",
            "showbackground": true,
            "ticks": "",
            "zerolinecolor": "white"
           },
           "yaxis": {
            "backgroundcolor": "#E5ECF6",
            "gridcolor": "white",
            "gridwidth": 2,
            "linecolor": "white",
            "showbackground": true,
            "ticks": "",
            "zerolinecolor": "white"
           },
           "zaxis": {
            "backgroundcolor": "#E5ECF6",
            "gridcolor": "white",
            "gridwidth": 2,
            "linecolor": "white",
            "showbackground": true,
            "ticks": "",
            "zerolinecolor": "white"
           }
          },
          "shapedefaults": {
           "line": {
            "color": "#2a3f5f"
           }
          },
          "ternary": {
           "aaxis": {
            "gridcolor": "white",
            "linecolor": "white",
            "ticks": ""
           },
           "baxis": {
            "gridcolor": "white",
            "linecolor": "white",
            "ticks": ""
           },
           "bgcolor": "#E5ECF6",
           "caxis": {
            "gridcolor": "white",
            "linecolor": "white",
            "ticks": ""
           }
          },
          "title": {
           "x": 0.05
          },
          "xaxis": {
           "automargin": true,
           "gridcolor": "white",
           "linecolor": "white",
           "ticks": "",
           "title": {
            "standoff": 15
           },
           "zerolinecolor": "white",
           "zerolinewidth": 2
          },
          "yaxis": {
           "automargin": true,
           "gridcolor": "white",
           "linecolor": "white",
           "ticks": "",
           "title": {
            "standoff": 15
           },
           "zerolinecolor": "white",
           "zerolinewidth": 2
          }
         }
        },
        "title": {
         "text": "Cluster by K prototypes"
        },
        "xaxis": {
         "anchor": "y",
         "domain": [
          0,
          1
         ],
         "title": {
          "text": "Salary"
         }
        },
        "yaxis": {
         "anchor": "x",
         "domain": [
          0,
          1
         ],
         "title": {
          "text": "Department"
         }
        }
       }
      }
     },
     "metadata": {},
     "output_type": "display_data"
    }
   ],
   "source": [
    "fig = px.scatter(HRData, x=\"Salary\", y=\"Department\", color=\"Cluster\", title=\"Cluster by K prototypes\", hover_data=[\"Sex\", \"JobLevel\"])\n",
    "#fig.write_image(outputFiguresPath+'Scatter_Salary_vs_Department.png')\n",
    "fig.show()"
   ]
  },
  {
   "cell_type": "markdown",
   "metadata": {},
   "source": [
    "<h2 style=\"font-size: 20px; font-weight:bold;\">\n",
    "    Save the dataset with the clustering and the Centriods\n",
    "</h2>"
   ]
  },
  {
   "cell_type": "code",
   "execution_count": null,
   "metadata": {},
   "outputs": [],
   "source": [
    "centroidsDF.to_csv(clustersOutputPath+'Centroids.csv', sep=',', index=False) \n",
    "HRData.to_csv(clustersOutputPath+'HR-Analysis-Clusters.csv', sep=',', index=False) "
   ]
  },
  {
   "cell_type": "markdown",
   "metadata": {},
   "source": [
    "<h1>Todo List</h1>\n",
    "<ul> \n",
    "  <li>More graphs to show the clustering analysis points</li>\n",
    "  <li>Insert my information and let the model predict in which cluster I belong</li>\n",
    "  <li>Prepare presentation</li>\n",
    "</ul>\n",
    "   "
   ]
  },
  {
   "cell_type": "code",
   "execution_count": null,
   "metadata": {},
   "outputs": [
    {
     "data": {
      "text/plain": [
       "'\\nmyInformation = pd.DataFrame({})\\nnewCluster = kproto.predict(new_entry, categorical=[0])\\n'"
      ]
     },
     "execution_count": 26,
     "metadata": {},
     "output_type": "execute_result"
    }
   ],
   "source": [
    "'''\n",
    "myInformation = pd.DataFrame({})\n",
    "newCluster = kproto.predict(new_entry, categorical=[0])\n",
    "'''"
   ]
  }
 ],
 "metadata": {
  "kernelspec": {
   "display_name": "Python 3 (ipykernel)",
   "language": "python",
   "name": "python3"
  },
  "language_info": {
   "codemirror_mode": {
    "name": "ipython",
    "version": 3
   },
   "file_extension": ".py",
   "mimetype": "text/x-python",
   "name": "python",
   "nbconvert_exporter": "python",
   "pygments_lexer": "ipython3",
   "version": "3.10.7"
  }
 },
 "nbformat": 4,
 "nbformat_minor": 4
}
